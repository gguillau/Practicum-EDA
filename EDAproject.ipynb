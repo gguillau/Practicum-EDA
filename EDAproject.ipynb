{
 "cells": [
  {
   "cell_type": "markdown",
   "metadata": {},
   "source": [
    "# What sells a car?\n",
    "\n",
    "You're an analyst at Crankshaft List. Hundreds of free advertisements for vehicles are published on your site every day. You need to study data collected over the last few years and determine which factors influence the price of a vehicle."
   ]
  },
  {
   "cell_type": "markdown",
   "metadata": {},
   "source": [
    "## Initialization"
   ]
  },
  {
   "cell_type": "code",
   "execution_count": 27,
   "metadata": {},
   "outputs": [],
   "source": [
    "# Loading all the libraries\n",
    "import pandas as pd\n",
    "import matplotlib.pyplot as plt\n",
    "import warnings\n",
    "\n"
   ]
  },
  {
   "cell_type": "markdown",
   "metadata": {},
   "source": [
    "### Load data"
   ]
  },
  {
   "cell_type": "code",
   "execution_count": 28,
   "metadata": {},
   "outputs": [],
   "source": [
    "# Load the data file into a DataFrame\n",
    "\n",
    "\n",
    "df = pd.read_csv('/datasets/vehicles_us.csv')\n",
    "\n",
    "\n"
   ]
  },
  {
   "cell_type": "markdown",
   "metadata": {},
   "source": [
    "### Explore initial data"
   ]
  },
  {
   "cell_type": "markdown",
   "metadata": {},
   "source": [
    "The dataset contains the following fields:\n",
    "- `price`\n",
    "- `model_year`\n",
    "- `model`\n",
    "- `condition`\n",
    "- `cylinders`\n",
    "- `fuel` — gas, diesel, etc.\n",
    "- `odometer` — the vehicle's mileage when the ad was published\n",
    "- `transmission`\n",
    "- `paint_color`\n",
    "- `is_4wd` — whether the vehicle has 4-wheel drive (Boolean type)\n",
    "- `date_posted` — the date the ad was published\n",
    "- `days_listed` — from publication to removal\n",
    "\n"
   ]
  },
  {
   "cell_type": "code",
   "execution_count": 29,
   "metadata": {},
   "outputs": [
    {
     "name": "stdout",
     "output_type": "stream",
     "text": [
      "<class 'pandas.core.frame.DataFrame'>\n",
      "RangeIndex: 51525 entries, 0 to 51524\n",
      "Data columns (total 13 columns):\n",
      "price           51525 non-null int64\n",
      "model_year      47906 non-null float64\n",
      "model           51525 non-null object\n",
      "condition       51525 non-null object\n",
      "cylinders       46265 non-null float64\n",
      "fuel            51525 non-null object\n",
      "odometer        43633 non-null float64\n",
      "transmission    51525 non-null object\n",
      "type            51525 non-null object\n",
      "paint_color     42258 non-null object\n",
      "is_4wd          25572 non-null float64\n",
      "date_posted     51525 non-null object\n",
      "days_listed     51525 non-null int64\n",
      "dtypes: float64(4), int64(2), object(7)\n",
      "memory usage: 5.1+ MB\n"
     ]
    },
    {
     "data": {
      "text/html": [
       "<div>\n",
       "<style scoped>\n",
       "    .dataframe tbody tr th:only-of-type {\n",
       "        vertical-align: middle;\n",
       "    }\n",
       "\n",
       "    .dataframe tbody tr th {\n",
       "        vertical-align: top;\n",
       "    }\n",
       "\n",
       "    .dataframe thead th {\n",
       "        text-align: right;\n",
       "    }\n",
       "</style>\n",
       "<table border=\"1\" class=\"dataframe\">\n",
       "  <thead>\n",
       "    <tr style=\"text-align: right;\">\n",
       "      <th></th>\n",
       "      <th>price</th>\n",
       "      <th>model_year</th>\n",
       "      <th>cylinders</th>\n",
       "      <th>odometer</th>\n",
       "      <th>is_4wd</th>\n",
       "      <th>days_listed</th>\n",
       "    </tr>\n",
       "  </thead>\n",
       "  <tbody>\n",
       "    <tr>\n",
       "      <td>count</td>\n",
       "      <td>51525.000000</td>\n",
       "      <td>47906.000000</td>\n",
       "      <td>46265.000000</td>\n",
       "      <td>43633.000000</td>\n",
       "      <td>25572.0</td>\n",
       "      <td>51525.00000</td>\n",
       "    </tr>\n",
       "    <tr>\n",
       "      <td>mean</td>\n",
       "      <td>12132.464920</td>\n",
       "      <td>2009.750470</td>\n",
       "      <td>6.125235</td>\n",
       "      <td>115553.461738</td>\n",
       "      <td>1.0</td>\n",
       "      <td>39.55476</td>\n",
       "    </tr>\n",
       "    <tr>\n",
       "      <td>std</td>\n",
       "      <td>10040.803015</td>\n",
       "      <td>6.282065</td>\n",
       "      <td>1.660360</td>\n",
       "      <td>65094.611341</td>\n",
       "      <td>0.0</td>\n",
       "      <td>28.20427</td>\n",
       "    </tr>\n",
       "    <tr>\n",
       "      <td>min</td>\n",
       "      <td>1.000000</td>\n",
       "      <td>1908.000000</td>\n",
       "      <td>3.000000</td>\n",
       "      <td>0.000000</td>\n",
       "      <td>1.0</td>\n",
       "      <td>0.00000</td>\n",
       "    </tr>\n",
       "    <tr>\n",
       "      <td>25%</td>\n",
       "      <td>5000.000000</td>\n",
       "      <td>2006.000000</td>\n",
       "      <td>4.000000</td>\n",
       "      <td>70000.000000</td>\n",
       "      <td>1.0</td>\n",
       "      <td>19.00000</td>\n",
       "    </tr>\n",
       "    <tr>\n",
       "      <td>50%</td>\n",
       "      <td>9000.000000</td>\n",
       "      <td>2011.000000</td>\n",
       "      <td>6.000000</td>\n",
       "      <td>113000.000000</td>\n",
       "      <td>1.0</td>\n",
       "      <td>33.00000</td>\n",
       "    </tr>\n",
       "    <tr>\n",
       "      <td>75%</td>\n",
       "      <td>16839.000000</td>\n",
       "      <td>2014.000000</td>\n",
       "      <td>8.000000</td>\n",
       "      <td>155000.000000</td>\n",
       "      <td>1.0</td>\n",
       "      <td>53.00000</td>\n",
       "    </tr>\n",
       "    <tr>\n",
       "      <td>max</td>\n",
       "      <td>375000.000000</td>\n",
       "      <td>2019.000000</td>\n",
       "      <td>12.000000</td>\n",
       "      <td>990000.000000</td>\n",
       "      <td>1.0</td>\n",
       "      <td>271.00000</td>\n",
       "    </tr>\n",
       "  </tbody>\n",
       "</table>\n",
       "</div>"
      ],
      "text/plain": [
       "               price    model_year     cylinders       odometer   is_4wd  \\\n",
       "count   51525.000000  47906.000000  46265.000000   43633.000000  25572.0   \n",
       "mean    12132.464920   2009.750470      6.125235  115553.461738      1.0   \n",
       "std     10040.803015      6.282065      1.660360   65094.611341      0.0   \n",
       "min         1.000000   1908.000000      3.000000       0.000000      1.0   \n",
       "25%      5000.000000   2006.000000      4.000000   70000.000000      1.0   \n",
       "50%      9000.000000   2011.000000      6.000000  113000.000000      1.0   \n",
       "75%     16839.000000   2014.000000      8.000000  155000.000000      1.0   \n",
       "max    375000.000000   2019.000000     12.000000  990000.000000      1.0   \n",
       "\n",
       "       days_listed  \n",
       "count  51525.00000  \n",
       "mean      39.55476  \n",
       "std       28.20427  \n",
       "min        0.00000  \n",
       "25%       19.00000  \n",
       "50%       33.00000  \n",
       "75%       53.00000  \n",
       "max      271.00000  "
      ]
     },
     "execution_count": 29,
     "metadata": {},
     "output_type": "execute_result"
    }
   ],
   "source": [
    "# print the general/summary information about the DataFrame\n",
    "\n",
    "df.info()\n",
    "df.describe()\n"
   ]
  },
  {
   "cell_type": "code",
   "execution_count": 30,
   "metadata": {},
   "outputs": [
    {
     "data": {
      "text/html": [
       "<div>\n",
       "<style scoped>\n",
       "    .dataframe tbody tr th:only-of-type {\n",
       "        vertical-align: middle;\n",
       "    }\n",
       "\n",
       "    .dataframe tbody tr th {\n",
       "        vertical-align: top;\n",
       "    }\n",
       "\n",
       "    .dataframe thead th {\n",
       "        text-align: right;\n",
       "    }\n",
       "</style>\n",
       "<table border=\"1\" class=\"dataframe\">\n",
       "  <thead>\n",
       "    <tr style=\"text-align: right;\">\n",
       "      <th></th>\n",
       "      <th>price</th>\n",
       "      <th>model_year</th>\n",
       "      <th>model</th>\n",
       "      <th>condition</th>\n",
       "      <th>cylinders</th>\n",
       "      <th>fuel</th>\n",
       "      <th>odometer</th>\n",
       "      <th>transmission</th>\n",
       "      <th>type</th>\n",
       "      <th>paint_color</th>\n",
       "      <th>is_4wd</th>\n",
       "      <th>date_posted</th>\n",
       "      <th>days_listed</th>\n",
       "    </tr>\n",
       "  </thead>\n",
       "  <tbody>\n",
       "    <tr>\n",
       "      <td>0</td>\n",
       "      <td>9400</td>\n",
       "      <td>2011.0</td>\n",
       "      <td>bmw x5</td>\n",
       "      <td>good</td>\n",
       "      <td>6.0</td>\n",
       "      <td>gas</td>\n",
       "      <td>145000.0</td>\n",
       "      <td>automatic</td>\n",
       "      <td>SUV</td>\n",
       "      <td>NaN</td>\n",
       "      <td>1.0</td>\n",
       "      <td>2018-06-23</td>\n",
       "      <td>19</td>\n",
       "    </tr>\n",
       "    <tr>\n",
       "      <td>1</td>\n",
       "      <td>25500</td>\n",
       "      <td>NaN</td>\n",
       "      <td>ford f-150</td>\n",
       "      <td>good</td>\n",
       "      <td>6.0</td>\n",
       "      <td>gas</td>\n",
       "      <td>88705.0</td>\n",
       "      <td>automatic</td>\n",
       "      <td>pickup</td>\n",
       "      <td>white</td>\n",
       "      <td>1.0</td>\n",
       "      <td>2018-10-19</td>\n",
       "      <td>50</td>\n",
       "    </tr>\n",
       "    <tr>\n",
       "      <td>2</td>\n",
       "      <td>5500</td>\n",
       "      <td>2013.0</td>\n",
       "      <td>hyundai sonata</td>\n",
       "      <td>like new</td>\n",
       "      <td>4.0</td>\n",
       "      <td>gas</td>\n",
       "      <td>110000.0</td>\n",
       "      <td>automatic</td>\n",
       "      <td>sedan</td>\n",
       "      <td>red</td>\n",
       "      <td>NaN</td>\n",
       "      <td>2019-02-07</td>\n",
       "      <td>79</td>\n",
       "    </tr>\n",
       "    <tr>\n",
       "      <td>3</td>\n",
       "      <td>1500</td>\n",
       "      <td>2003.0</td>\n",
       "      <td>ford f-150</td>\n",
       "      <td>fair</td>\n",
       "      <td>8.0</td>\n",
       "      <td>gas</td>\n",
       "      <td>NaN</td>\n",
       "      <td>automatic</td>\n",
       "      <td>pickup</td>\n",
       "      <td>NaN</td>\n",
       "      <td>NaN</td>\n",
       "      <td>2019-03-22</td>\n",
       "      <td>9</td>\n",
       "    </tr>\n",
       "    <tr>\n",
       "      <td>4</td>\n",
       "      <td>14900</td>\n",
       "      <td>2017.0</td>\n",
       "      <td>chrysler 200</td>\n",
       "      <td>excellent</td>\n",
       "      <td>4.0</td>\n",
       "      <td>gas</td>\n",
       "      <td>80903.0</td>\n",
       "      <td>automatic</td>\n",
       "      <td>sedan</td>\n",
       "      <td>black</td>\n",
       "      <td>NaN</td>\n",
       "      <td>2019-04-02</td>\n",
       "      <td>28</td>\n",
       "    </tr>\n",
       "    <tr>\n",
       "      <td>5</td>\n",
       "      <td>14990</td>\n",
       "      <td>2014.0</td>\n",
       "      <td>chrysler 300</td>\n",
       "      <td>excellent</td>\n",
       "      <td>6.0</td>\n",
       "      <td>gas</td>\n",
       "      <td>57954.0</td>\n",
       "      <td>automatic</td>\n",
       "      <td>sedan</td>\n",
       "      <td>black</td>\n",
       "      <td>1.0</td>\n",
       "      <td>2018-06-20</td>\n",
       "      <td>15</td>\n",
       "    </tr>\n",
       "    <tr>\n",
       "      <td>6</td>\n",
       "      <td>12990</td>\n",
       "      <td>2015.0</td>\n",
       "      <td>toyota camry</td>\n",
       "      <td>excellent</td>\n",
       "      <td>4.0</td>\n",
       "      <td>gas</td>\n",
       "      <td>79212.0</td>\n",
       "      <td>automatic</td>\n",
       "      <td>sedan</td>\n",
       "      <td>white</td>\n",
       "      <td>NaN</td>\n",
       "      <td>2018-12-27</td>\n",
       "      <td>73</td>\n",
       "    </tr>\n",
       "    <tr>\n",
       "      <td>7</td>\n",
       "      <td>15990</td>\n",
       "      <td>2013.0</td>\n",
       "      <td>honda pilot</td>\n",
       "      <td>excellent</td>\n",
       "      <td>6.0</td>\n",
       "      <td>gas</td>\n",
       "      <td>109473.0</td>\n",
       "      <td>automatic</td>\n",
       "      <td>SUV</td>\n",
       "      <td>black</td>\n",
       "      <td>1.0</td>\n",
       "      <td>2019-01-07</td>\n",
       "      <td>68</td>\n",
       "    </tr>\n",
       "    <tr>\n",
       "      <td>8</td>\n",
       "      <td>11500</td>\n",
       "      <td>2012.0</td>\n",
       "      <td>kia sorento</td>\n",
       "      <td>excellent</td>\n",
       "      <td>4.0</td>\n",
       "      <td>gas</td>\n",
       "      <td>104174.0</td>\n",
       "      <td>automatic</td>\n",
       "      <td>SUV</td>\n",
       "      <td>NaN</td>\n",
       "      <td>1.0</td>\n",
       "      <td>2018-07-16</td>\n",
       "      <td>19</td>\n",
       "    </tr>\n",
       "    <tr>\n",
       "      <td>9</td>\n",
       "      <td>9200</td>\n",
       "      <td>2008.0</td>\n",
       "      <td>honda pilot</td>\n",
       "      <td>excellent</td>\n",
       "      <td>NaN</td>\n",
       "      <td>gas</td>\n",
       "      <td>147191.0</td>\n",
       "      <td>automatic</td>\n",
       "      <td>SUV</td>\n",
       "      <td>blue</td>\n",
       "      <td>1.0</td>\n",
       "      <td>2019-02-15</td>\n",
       "      <td>17</td>\n",
       "    </tr>\n",
       "  </tbody>\n",
       "</table>\n",
       "</div>"
      ],
      "text/plain": [
       "   price  model_year           model  condition  cylinders fuel  odometer  \\\n",
       "0   9400      2011.0          bmw x5       good        6.0  gas  145000.0   \n",
       "1  25500         NaN      ford f-150       good        6.0  gas   88705.0   \n",
       "2   5500      2013.0  hyundai sonata   like new        4.0  gas  110000.0   \n",
       "3   1500      2003.0      ford f-150       fair        8.0  gas       NaN   \n",
       "4  14900      2017.0    chrysler 200  excellent        4.0  gas   80903.0   \n",
       "5  14990      2014.0    chrysler 300  excellent        6.0  gas   57954.0   \n",
       "6  12990      2015.0    toyota camry  excellent        4.0  gas   79212.0   \n",
       "7  15990      2013.0     honda pilot  excellent        6.0  gas  109473.0   \n",
       "8  11500      2012.0     kia sorento  excellent        4.0  gas  104174.0   \n",
       "9   9200      2008.0     honda pilot  excellent        NaN  gas  147191.0   \n",
       "\n",
       "  transmission    type paint_color  is_4wd date_posted  days_listed  \n",
       "0    automatic     SUV         NaN     1.0  2018-06-23           19  \n",
       "1    automatic  pickup       white     1.0  2018-10-19           50  \n",
       "2    automatic   sedan         red     NaN  2019-02-07           79  \n",
       "3    automatic  pickup         NaN     NaN  2019-03-22            9  \n",
       "4    automatic   sedan       black     NaN  2019-04-02           28  \n",
       "5    automatic   sedan       black     1.0  2018-06-20           15  \n",
       "6    automatic   sedan       white     NaN  2018-12-27           73  \n",
       "7    automatic     SUV       black     1.0  2019-01-07           68  \n",
       "8    automatic     SUV         NaN     1.0  2018-07-16           19  \n",
       "9    automatic     SUV        blue     1.0  2019-02-15           17  "
      ]
     },
     "execution_count": 30,
     "metadata": {},
     "output_type": "execute_result"
    }
   ],
   "source": [
    "# print a sample of data\n",
    "\n",
    "df.head(10)\n"
   ]
  },
  {
   "cell_type": "markdown",
   "metadata": {},
   "source": [
    "There are 51525 entries in this dataset. Several columns contain missing values. There are 4 columns that contain float64 datatypes. The date_posted column contains string values instead of a datetime object.\n",
    "\n",
    "Missing values within the model_year, cylinders, odometer, paint color, and is_4wd columns. These missing values may affect our analysis. The is_4wd column contains the most missing values with about half of the total entries.  "
   ]
  },
  {
   "cell_type": "markdown",
   "metadata": {},
   "source": [
    "### Conclusions and further steps\n",
    "\n",
    "\n",
    "\n"
   ]
  },
  {
   "cell_type": "markdown",
   "metadata": {},
   "source": [
    "According to the column descriptions, the is_4wd column is whether the vehicle has 4-wheel drive (Boolean type). If a Boolean field contains only True or 1 values, it's reasonable to assume that the missing values are False or 0. The percentage of missing values in cylinders is 7%, which is insignificant so they will be dropped. Similarly, the percentage of missing values in model_year is 11%, so they will be dropped. The odometer column will be filled in using the average value per model_year."
   ]
  },
  {
   "cell_type": "code",
   "execution_count": 31,
   "metadata": {},
   "outputs": [
    {
     "data": {
      "text/html": [
       "<style  type=\"text/css\" >\n",
       "    #T_581772ae_7368_11ec_a4e3_02420a390a40row0_col0 {\n",
       "            background-color:  #3b4cc0;\n",
       "            color:  #f1f1f1;\n",
       "        }    #T_581772ae_7368_11ec_a4e3_02420a390a40row1_col0 {\n",
       "            background-color:  #6687ed;\n",
       "            color:  #000000;\n",
       "        }    #T_581772ae_7368_11ec_a4e3_02420a390a40row2_col0 {\n",
       "            background-color:  #3b4cc0;\n",
       "            color:  #f1f1f1;\n",
       "        }    #T_581772ae_7368_11ec_a4e3_02420a390a40row3_col0 {\n",
       "            background-color:  #3b4cc0;\n",
       "            color:  #f1f1f1;\n",
       "        }    #T_581772ae_7368_11ec_a4e3_02420a390a40row4_col0 {\n",
       "            background-color:  #7b9ff9;\n",
       "            color:  #000000;\n",
       "        }    #T_581772ae_7368_11ec_a4e3_02420a390a40row5_col0 {\n",
       "            background-color:  #3b4cc0;\n",
       "            color:  #f1f1f1;\n",
       "        }    #T_581772ae_7368_11ec_a4e3_02420a390a40row6_col0 {\n",
       "            background-color:  #9fbfff;\n",
       "            color:  #000000;\n",
       "        }    #T_581772ae_7368_11ec_a4e3_02420a390a40row7_col0 {\n",
       "            background-color:  #3b4cc0;\n",
       "            color:  #f1f1f1;\n",
       "        }    #T_581772ae_7368_11ec_a4e3_02420a390a40row8_col0 {\n",
       "            background-color:  #3b4cc0;\n",
       "            color:  #f1f1f1;\n",
       "        }    #T_581772ae_7368_11ec_a4e3_02420a390a40row9_col0 {\n",
       "            background-color:  #b2ccfb;\n",
       "            color:  #000000;\n",
       "        }    #T_581772ae_7368_11ec_a4e3_02420a390a40row10_col0 {\n",
       "            background-color:  #b40426;\n",
       "            color:  #f1f1f1;\n",
       "        }    #T_581772ae_7368_11ec_a4e3_02420a390a40row11_col0 {\n",
       "            background-color:  #3b4cc0;\n",
       "            color:  #f1f1f1;\n",
       "        }    #T_581772ae_7368_11ec_a4e3_02420a390a40row12_col0 {\n",
       "            background-color:  #3b4cc0;\n",
       "            color:  #f1f1f1;\n",
       "        }</style><table id=\"T_581772ae_7368_11ec_a4e3_02420a390a40\" ><thead>    <tr>        <th class=\"blank level0\" ></th>        <th class=\"col_heading level0 col0\" >0</th>    </tr></thead><tbody>\n",
       "                <tr>\n",
       "                        <th id=\"T_581772ae_7368_11ec_a4e3_02420a390a40level0_row0\" class=\"row_heading level0 row0\" >price</th>\n",
       "                        <td id=\"T_581772ae_7368_11ec_a4e3_02420a390a40row0_col0\" class=\"data row0 col0\" >0</td>\n",
       "            </tr>\n",
       "            <tr>\n",
       "                        <th id=\"T_581772ae_7368_11ec_a4e3_02420a390a40level0_row1\" class=\"row_heading level0 row1\" >model_year</th>\n",
       "                        <td id=\"T_581772ae_7368_11ec_a4e3_02420a390a40row1_col0\" class=\"data row1 col0\" >7.02</td>\n",
       "            </tr>\n",
       "            <tr>\n",
       "                        <th id=\"T_581772ae_7368_11ec_a4e3_02420a390a40level0_row2\" class=\"row_heading level0 row2\" >model</th>\n",
       "                        <td id=\"T_581772ae_7368_11ec_a4e3_02420a390a40row2_col0\" class=\"data row2 col0\" >0</td>\n",
       "            </tr>\n",
       "            <tr>\n",
       "                        <th id=\"T_581772ae_7368_11ec_a4e3_02420a390a40level0_row3\" class=\"row_heading level0 row3\" >condition</th>\n",
       "                        <td id=\"T_581772ae_7368_11ec_a4e3_02420a390a40row3_col0\" class=\"data row3 col0\" >0</td>\n",
       "            </tr>\n",
       "            <tr>\n",
       "                        <th id=\"T_581772ae_7368_11ec_a4e3_02420a390a40level0_row4\" class=\"row_heading level0 row4\" >cylinders</th>\n",
       "                        <td id=\"T_581772ae_7368_11ec_a4e3_02420a390a40row4_col0\" class=\"data row4 col0\" >10.21</td>\n",
       "            </tr>\n",
       "            <tr>\n",
       "                        <th id=\"T_581772ae_7368_11ec_a4e3_02420a390a40level0_row5\" class=\"row_heading level0 row5\" >fuel</th>\n",
       "                        <td id=\"T_581772ae_7368_11ec_a4e3_02420a390a40row5_col0\" class=\"data row5 col0\" >0</td>\n",
       "            </tr>\n",
       "            <tr>\n",
       "                        <th id=\"T_581772ae_7368_11ec_a4e3_02420a390a40level0_row6\" class=\"row_heading level0 row6\" >odometer</th>\n",
       "                        <td id=\"T_581772ae_7368_11ec_a4e3_02420a390a40row6_col0\" class=\"data row6 col0\" >15.32</td>\n",
       "            </tr>\n",
       "            <tr>\n",
       "                        <th id=\"T_581772ae_7368_11ec_a4e3_02420a390a40level0_row7\" class=\"row_heading level0 row7\" >transmission</th>\n",
       "                        <td id=\"T_581772ae_7368_11ec_a4e3_02420a390a40row7_col0\" class=\"data row7 col0\" >0</td>\n",
       "            </tr>\n",
       "            <tr>\n",
       "                        <th id=\"T_581772ae_7368_11ec_a4e3_02420a390a40level0_row8\" class=\"row_heading level0 row8\" >type</th>\n",
       "                        <td id=\"T_581772ae_7368_11ec_a4e3_02420a390a40row8_col0\" class=\"data row8 col0\" >0</td>\n",
       "            </tr>\n",
       "            <tr>\n",
       "                        <th id=\"T_581772ae_7368_11ec_a4e3_02420a390a40level0_row9\" class=\"row_heading level0 row9\" >paint_color</th>\n",
       "                        <td id=\"T_581772ae_7368_11ec_a4e3_02420a390a40row9_col0\" class=\"data row9 col0\" >17.99</td>\n",
       "            </tr>\n",
       "            <tr>\n",
       "                        <th id=\"T_581772ae_7368_11ec_a4e3_02420a390a40level0_row10\" class=\"row_heading level0 row10\" >is_4wd</th>\n",
       "                        <td id=\"T_581772ae_7368_11ec_a4e3_02420a390a40row10_col0\" class=\"data row10 col0\" >50.37</td>\n",
       "            </tr>\n",
       "            <tr>\n",
       "                        <th id=\"T_581772ae_7368_11ec_a4e3_02420a390a40level0_row11\" class=\"row_heading level0 row11\" >date_posted</th>\n",
       "                        <td id=\"T_581772ae_7368_11ec_a4e3_02420a390a40row11_col0\" class=\"data row11 col0\" >0</td>\n",
       "            </tr>\n",
       "            <tr>\n",
       "                        <th id=\"T_581772ae_7368_11ec_a4e3_02420a390a40level0_row12\" class=\"row_heading level0 row12\" >days_listed</th>\n",
       "                        <td id=\"T_581772ae_7368_11ec_a4e3_02420a390a40row12_col0\" class=\"data row12 col0\" >0</td>\n",
       "            </tr>\n",
       "    </tbody></table>"
      ],
      "text/plain": [
       "<pandas.io.formats.style.Styler at 0x7f644f4517d0>"
      ]
     },
     "execution_count": 31,
     "metadata": {},
     "output_type": "execute_result"
    }
   ],
   "source": [
    "# Reviewer's code\n",
    "\n",
    "pd.DataFrame(df.isna().mean().round(4)*100).style.background_gradient('coolwarm')"
   ]
  },
  {
   "cell_type": "markdown",
   "metadata": {},
   "source": [
    "## Treat missing values (if any)"
   ]
  },
  {
   "cell_type": "code",
   "execution_count": 32,
   "metadata": {},
   "outputs": [
    {
     "name": "stdout",
     "output_type": "stream",
     "text": [
      "Missing cylinder values percentage: 11.369285637090673\n",
      "0\n",
      "\n",
      "Missing model_year percentage: 7.5543773222560855\n",
      "0\n",
      "\n",
      "<class 'pandas.core.frame.DataFrame'>\n",
      "RangeIndex: 51525 entries, 0 to 51524\n",
      "Data columns (total 13 columns):\n",
      "price           51525 non-null int64\n",
      "model_year      47906 non-null float64\n",
      "model           51525 non-null object\n",
      "condition       51525 non-null object\n",
      "cylinders       46265 non-null float64\n",
      "fuel            51525 non-null object\n",
      "odometer        50975 non-null float64\n",
      "transmission    51525 non-null object\n",
      "type            51525 non-null object\n",
      "paint_color     42258 non-null object\n",
      "is_4wd          51525 non-null float64\n",
      "date_posted     51525 non-null object\n",
      "days_listed     51525 non-null int64\n",
      "dtypes: float64(4), int64(2), object(7)\n",
      "memory usage: 5.0+ MB\n"
     ]
    }
   ],
   "source": [
    "# Filling missing values in the is_4wd column with 0\n",
    "df['is_4wd'] = df['is_4wd'].fillna(0)\n",
    "\n",
    "\n",
    "# Dropping missing values in the cylinders column\n",
    "print('Missing cylinder values percentage:',df.cylinders.isnull().sum() / df.cylinders.count() * 100) \n",
    "df.cylinders.dropna(inplace=True)\n",
    "print(df.cylinders.isna().sum())\n",
    "\n",
    "print()\n",
    "\n",
    "# Finding percentage of missing values in model_year column\n",
    "print('Missing model_year percentage:',(df.model_year.isnull().sum() / df.model_year.count()) *100)\n",
    "\n",
    "\n",
    "# Dropping missing values in model_year column \n",
    "df['model_year'].dropna(inplace=True)\n",
    "print(df['model_year'].isna().sum())\n",
    "\n",
    "\n",
    "# Filling missing values in the odometer column with the average mileage per model_year\n",
    "df['odometer'].fillna(df.groupby('model_year')['odometer'].transform('mean'),inplace=True)\n",
    "df.odometer.dropna(inplace=True)\n",
    "print()\n",
    "df.info()\n",
    "\n"
   ]
  },
  {
   "cell_type": "markdown",
   "metadata": {},
   "source": [
    "## Fix data types"
   ]
  },
  {
   "cell_type": "code",
   "execution_count": 33,
   "metadata": {},
   "outputs": [
    {
     "name": "stdout",
     "output_type": "stream",
     "text": [
      "<class 'pandas.core.frame.DataFrame'>\n",
      "RangeIndex: 51525 entries, 0 to 51524\n",
      "Data columns (total 13 columns):\n",
      "price           51525 non-null int64\n",
      "model_year      47906 non-null float64\n",
      "model           51525 non-null object\n",
      "condition       51525 non-null object\n",
      "cylinders       46265 non-null float64\n",
      "fuel            51525 non-null object\n",
      "odometer        50975 non-null float64\n",
      "transmission    51525 non-null object\n",
      "type            51525 non-null object\n",
      "paint_color     42258 non-null object\n",
      "is_4wd          51525 non-null float64\n",
      "date_posted     51525 non-null object\n",
      "days_listed     51525 non-null int64\n",
      "dtypes: float64(4), int64(2), object(7)\n",
      "memory usage: 5.0+ MB\n",
      "\n",
      "<class 'pandas.core.frame.DataFrame'>\n",
      "Int64Index: 51525 entries, 0 to 51524\n",
      "Data columns (total 13 columns):\n",
      "price           51525 non-null int64\n",
      "model_year      47906 non-null float64\n",
      "model           51525 non-null object\n",
      "condition       51525 non-null object\n",
      "cylinders       46265 non-null float64\n",
      "fuel            51525 non-null object\n",
      "odometer        50975 non-null float64\n",
      "transmission    51525 non-null object\n",
      "type            51525 non-null object\n",
      "paint_color     42258 non-null object\n",
      "is_4wd          51525 non-null bool\n",
      "date_posted     51525 non-null object\n",
      "days_listed     51525 non-null int64\n",
      "dtypes: bool(1), float64(3), int64(2), object(7)\n",
      "memory usage: 5.2+ MB\n"
     ]
    }
   ],
   "source": [
    "# Turning float datatypes into int64\n",
    "\n",
    "df.info()\n",
    "df.model_year.dropna(inplace=True)\n",
    "convert_dict = {'is_4wd': bool, 'cylinders': int,'model_year':int,'odometer':int}\n",
    "\n",
    "print()\n",
    "df = df.astype(convert_dict)\n",
    "df.info()\n",
    "\n",
    "# Not sure why some colummns datatypes did not change"
   ]
  },
  {
   "cell_type": "markdown",
   "metadata": {},
   "source": [
    "## Enrich data"
   ]
  },
  {
   "cell_type": "code",
   "execution_count": 34,
   "metadata": {},
   "outputs": [
    {
     "data": {
      "text/plain": [
       "0   2018-06-23\n",
       "1   2018-10-19\n",
       "2   2019-02-07\n",
       "3   2019-03-22\n",
       "4   2019-04-02\n",
       "Name: date_posted, dtype: datetime64[ns]"
      ]
     },
     "execution_count": 34,
     "metadata": {},
     "output_type": "execute_result"
    }
   ],
   "source": [
    "# Add datetime values for when the ad was placed\n",
    "\n",
    "df['date_posted']= pd.to_datetime(df['date_posted'], format='%Y-%m-%d')\n",
    "df['date_posted'].head()\n",
    "\n"
   ]
  },
  {
   "cell_type": "code",
   "execution_count": 35,
   "metadata": {},
   "outputs": [
    {
     "data": {
      "text/plain": [
       "4.442032313280174"
      ]
     },
     "execution_count": 35,
     "metadata": {},
     "output_type": "execute_result"
    }
   ],
   "source": [
    "# Add the vehicle's age when the ad was placed\n",
    "df['year_posted'] = pd.DatetimeIndex(df['date_posted']).year\n",
    "df['vehicle_age'] = df['year_posted'] - df['model_year']\n",
    "df['vehicle_age'].head()\n",
    "\n",
    "\n",
    "# Percent of vehicle_age values that are equal to 0\n",
    "\n",
    "(df.vehicle_age==0).sum() / df.vehicle_age.count() * 100\n"
   ]
  },
  {
   "cell_type": "code",
   "execution_count": 36,
   "metadata": {},
   "outputs": [
    {
     "data": {
      "text/plain": [
       "count     45777.000000\n",
       "mean      17798.379060\n",
       "std       12344.426037\n",
       "min           0.000000\n",
       "25%       10854.285714\n",
       "50%       15118.833333\n",
       "75%       21002.142857\n",
       "max      279365.000000\n",
       "Name: avg_mileage, dtype: float64"
      ]
     },
     "execution_count": 36,
     "metadata": {},
     "output_type": "execute_result"
    }
   ],
   "source": [
    "\n",
    "# Removing 0 values from vehicle_age because vehicle_age is the divisor\n",
    "df.vehicle_age = df.vehicle_age.loc[df.vehicle_age != 0]\n",
    "\n",
    "# Add the vehicle's average mileage per year\n",
    "\n",
    "df['avg_mileage'] = df['odometer'] / df['vehicle_age']\n",
    "df.avg_mileage.dropna(inplace=True)\n",
    "df.avg_mileage.head(5)\n",
    "df.avg_mileage.describe()\n"
   ]
  },
  {
   "cell_type": "code",
   "execution_count": 37,
   "metadata": {},
   "outputs": [
    {
     "data": {
      "text/plain": [
       "{'condition': {'excellent': 1,\n",
       "  'fair': 2,\n",
       "  'good': 3,\n",
       "  'like new': 4,\n",
       "  'new': 5,\n",
       "  'salvage': 6}}"
      ]
     },
     "execution_count": 37,
     "metadata": {},
     "output_type": "execute_result"
    }
   ],
   "source": [
    "# Reviewer's code\n",
    "\n",
    "# Second way:\n",
    "labels = df['condition'].astype('category').cat.categories.tolist()\n",
    "replace_dict = {'condition' : {k: v for k,v in zip(labels,list(range(1,len(labels)+1)))}}\n",
    "\n",
    "replace_dict"
   ]
  },
  {
   "cell_type": "code",
   "execution_count": 38,
   "metadata": {},
   "outputs": [
    {
     "data": {
      "text/plain": [
       "3    24773\n",
       "2    20145\n",
       "4     4742\n",
       "1     1607\n",
       "5      143\n",
       "0      115\n",
       "Name: condition, dtype: int64"
      ]
     },
     "execution_count": 38,
     "metadata": {},
     "output_type": "execute_result"
    }
   ],
   "source": [
    "# It might help to replace the condition values with something that can be manipulated more easily\n",
    "df.condition.value_counts()\n",
    "df.condition = df.condition.replace({'new':5,'like new':4,'excellent':3,'good':2,'fair':1,'salvage':0})\n",
    "df.condition.value_counts()\n",
    "\n",
    "\n"
   ]
  },
  {
   "cell_type": "markdown",
   "metadata": {},
   "source": [
    "## Check clean data"
   ]
  },
  {
   "cell_type": "code",
   "execution_count": 39,
   "metadata": {},
   "outputs": [
    {
     "name": "stdout",
     "output_type": "stream",
     "text": [
      "<class 'pandas.core.frame.DataFrame'>\n",
      "Int64Index: 51525 entries, 0 to 51524\n",
      "Data columns (total 16 columns):\n",
      "price           51525 non-null int64\n",
      "model_year      47906 non-null float64\n",
      "model           51525 non-null object\n",
      "condition       51525 non-null int64\n",
      "cylinders       46265 non-null float64\n",
      "fuel            51525 non-null object\n",
      "odometer        50975 non-null float64\n",
      "transmission    51525 non-null object\n",
      "type            51525 non-null object\n",
      "paint_color     42258 non-null object\n",
      "is_4wd          51525 non-null bool\n",
      "date_posted     51525 non-null datetime64[ns]\n",
      "days_listed     51525 non-null int64\n",
      "year_posted     51525 non-null int64\n",
      "vehicle_age     45778 non-null float64\n",
      "avg_mileage     45777 non-null float64\n",
      "dtypes: bool(1), datetime64[ns](1), float64(5), int64(4), object(5)\n",
      "memory usage: 6.3+ MB\n"
     ]
    }
   ],
   "source": [
    "# print the general/summary information about the DataFrame\n",
    "df.info()\n"
   ]
  },
  {
   "cell_type": "code",
   "execution_count": 40,
   "metadata": {},
   "outputs": [
    {
     "data": {
      "text/html": [
       "<div>\n",
       "<style scoped>\n",
       "    .dataframe tbody tr th:only-of-type {\n",
       "        vertical-align: middle;\n",
       "    }\n",
       "\n",
       "    .dataframe tbody tr th {\n",
       "        vertical-align: top;\n",
       "    }\n",
       "\n",
       "    .dataframe thead th {\n",
       "        text-align: right;\n",
       "    }\n",
       "</style>\n",
       "<table border=\"1\" class=\"dataframe\">\n",
       "  <thead>\n",
       "    <tr style=\"text-align: right;\">\n",
       "      <th></th>\n",
       "      <th>price</th>\n",
       "      <th>model_year</th>\n",
       "      <th>model</th>\n",
       "      <th>condition</th>\n",
       "      <th>cylinders</th>\n",
       "      <th>fuel</th>\n",
       "      <th>odometer</th>\n",
       "      <th>transmission</th>\n",
       "      <th>type</th>\n",
       "      <th>paint_color</th>\n",
       "      <th>is_4wd</th>\n",
       "      <th>date_posted</th>\n",
       "      <th>days_listed</th>\n",
       "      <th>year_posted</th>\n",
       "      <th>vehicle_age</th>\n",
       "      <th>avg_mileage</th>\n",
       "    </tr>\n",
       "  </thead>\n",
       "  <tbody>\n",
       "    <tr>\n",
       "      <td>0</td>\n",
       "      <td>9400</td>\n",
       "      <td>2011.0</td>\n",
       "      <td>bmw x5</td>\n",
       "      <td>2</td>\n",
       "      <td>6.0</td>\n",
       "      <td>gas</td>\n",
       "      <td>145000.0</td>\n",
       "      <td>automatic</td>\n",
       "      <td>SUV</td>\n",
       "      <td>NaN</td>\n",
       "      <td>True</td>\n",
       "      <td>2018-06-23</td>\n",
       "      <td>19</td>\n",
       "      <td>2018</td>\n",
       "      <td>7.0</td>\n",
       "      <td>20714.285714</td>\n",
       "    </tr>\n",
       "    <tr>\n",
       "      <td>1</td>\n",
       "      <td>25500</td>\n",
       "      <td>NaN</td>\n",
       "      <td>ford f-150</td>\n",
       "      <td>2</td>\n",
       "      <td>6.0</td>\n",
       "      <td>gas</td>\n",
       "      <td>88705.0</td>\n",
       "      <td>automatic</td>\n",
       "      <td>pickup</td>\n",
       "      <td>white</td>\n",
       "      <td>True</td>\n",
       "      <td>2018-10-19</td>\n",
       "      <td>50</td>\n",
       "      <td>2018</td>\n",
       "      <td>NaN</td>\n",
       "      <td>NaN</td>\n",
       "    </tr>\n",
       "    <tr>\n",
       "      <td>2</td>\n",
       "      <td>5500</td>\n",
       "      <td>2013.0</td>\n",
       "      <td>hyundai sonata</td>\n",
       "      <td>4</td>\n",
       "      <td>4.0</td>\n",
       "      <td>gas</td>\n",
       "      <td>110000.0</td>\n",
       "      <td>automatic</td>\n",
       "      <td>sedan</td>\n",
       "      <td>red</td>\n",
       "      <td>False</td>\n",
       "      <td>2019-02-07</td>\n",
       "      <td>79</td>\n",
       "      <td>2019</td>\n",
       "      <td>6.0</td>\n",
       "      <td>18333.333333</td>\n",
       "    </tr>\n",
       "    <tr>\n",
       "      <td>3</td>\n",
       "      <td>1500</td>\n",
       "      <td>2003.0</td>\n",
       "      <td>ford f-150</td>\n",
       "      <td>1</td>\n",
       "      <td>8.0</td>\n",
       "      <td>gas</td>\n",
       "      <td>162071.0</td>\n",
       "      <td>automatic</td>\n",
       "      <td>pickup</td>\n",
       "      <td>NaN</td>\n",
       "      <td>False</td>\n",
       "      <td>2019-03-22</td>\n",
       "      <td>9</td>\n",
       "      <td>2019</td>\n",
       "      <td>16.0</td>\n",
       "      <td>10129.437500</td>\n",
       "    </tr>\n",
       "    <tr>\n",
       "      <td>4</td>\n",
       "      <td>14900</td>\n",
       "      <td>2017.0</td>\n",
       "      <td>chrysler 200</td>\n",
       "      <td>3</td>\n",
       "      <td>4.0</td>\n",
       "      <td>gas</td>\n",
       "      <td>80903.0</td>\n",
       "      <td>automatic</td>\n",
       "      <td>sedan</td>\n",
       "      <td>black</td>\n",
       "      <td>False</td>\n",
       "      <td>2019-04-02</td>\n",
       "      <td>28</td>\n",
       "      <td>2019</td>\n",
       "      <td>2.0</td>\n",
       "      <td>40451.500000</td>\n",
       "    </tr>\n",
       "    <tr>\n",
       "      <td>5</td>\n",
       "      <td>14990</td>\n",
       "      <td>2014.0</td>\n",
       "      <td>chrysler 300</td>\n",
       "      <td>3</td>\n",
       "      <td>6.0</td>\n",
       "      <td>gas</td>\n",
       "      <td>57954.0</td>\n",
       "      <td>automatic</td>\n",
       "      <td>sedan</td>\n",
       "      <td>black</td>\n",
       "      <td>True</td>\n",
       "      <td>2018-06-20</td>\n",
       "      <td>15</td>\n",
       "      <td>2018</td>\n",
       "      <td>4.0</td>\n",
       "      <td>14488.500000</td>\n",
       "    </tr>\n",
       "    <tr>\n",
       "      <td>6</td>\n",
       "      <td>12990</td>\n",
       "      <td>2015.0</td>\n",
       "      <td>toyota camry</td>\n",
       "      <td>3</td>\n",
       "      <td>4.0</td>\n",
       "      <td>gas</td>\n",
       "      <td>79212.0</td>\n",
       "      <td>automatic</td>\n",
       "      <td>sedan</td>\n",
       "      <td>white</td>\n",
       "      <td>False</td>\n",
       "      <td>2018-12-27</td>\n",
       "      <td>73</td>\n",
       "      <td>2018</td>\n",
       "      <td>3.0</td>\n",
       "      <td>26404.000000</td>\n",
       "    </tr>\n",
       "    <tr>\n",
       "      <td>7</td>\n",
       "      <td>15990</td>\n",
       "      <td>2013.0</td>\n",
       "      <td>honda pilot</td>\n",
       "      <td>3</td>\n",
       "      <td>6.0</td>\n",
       "      <td>gas</td>\n",
       "      <td>109473.0</td>\n",
       "      <td>automatic</td>\n",
       "      <td>SUV</td>\n",
       "      <td>black</td>\n",
       "      <td>True</td>\n",
       "      <td>2019-01-07</td>\n",
       "      <td>68</td>\n",
       "      <td>2019</td>\n",
       "      <td>6.0</td>\n",
       "      <td>18245.500000</td>\n",
       "    </tr>\n",
       "    <tr>\n",
       "      <td>8</td>\n",
       "      <td>11500</td>\n",
       "      <td>2012.0</td>\n",
       "      <td>kia sorento</td>\n",
       "      <td>3</td>\n",
       "      <td>4.0</td>\n",
       "      <td>gas</td>\n",
       "      <td>104174.0</td>\n",
       "      <td>automatic</td>\n",
       "      <td>SUV</td>\n",
       "      <td>NaN</td>\n",
       "      <td>True</td>\n",
       "      <td>2018-07-16</td>\n",
       "      <td>19</td>\n",
       "      <td>2018</td>\n",
       "      <td>6.0</td>\n",
       "      <td>17362.333333</td>\n",
       "    </tr>\n",
       "    <tr>\n",
       "      <td>9</td>\n",
       "      <td>9200</td>\n",
       "      <td>2008.0</td>\n",
       "      <td>honda pilot</td>\n",
       "      <td>3</td>\n",
       "      <td>NaN</td>\n",
       "      <td>gas</td>\n",
       "      <td>147191.0</td>\n",
       "      <td>automatic</td>\n",
       "      <td>SUV</td>\n",
       "      <td>blue</td>\n",
       "      <td>True</td>\n",
       "      <td>2019-02-15</td>\n",
       "      <td>17</td>\n",
       "      <td>2019</td>\n",
       "      <td>11.0</td>\n",
       "      <td>13381.000000</td>\n",
       "    </tr>\n",
       "  </tbody>\n",
       "</table>\n",
       "</div>"
      ],
      "text/plain": [
       "   price  model_year           model  condition  cylinders fuel  odometer  \\\n",
       "0   9400      2011.0          bmw x5          2        6.0  gas  145000.0   \n",
       "1  25500         NaN      ford f-150          2        6.0  gas   88705.0   \n",
       "2   5500      2013.0  hyundai sonata          4        4.0  gas  110000.0   \n",
       "3   1500      2003.0      ford f-150          1        8.0  gas  162071.0   \n",
       "4  14900      2017.0    chrysler 200          3        4.0  gas   80903.0   \n",
       "5  14990      2014.0    chrysler 300          3        6.0  gas   57954.0   \n",
       "6  12990      2015.0    toyota camry          3        4.0  gas   79212.0   \n",
       "7  15990      2013.0     honda pilot          3        6.0  gas  109473.0   \n",
       "8  11500      2012.0     kia sorento          3        4.0  gas  104174.0   \n",
       "9   9200      2008.0     honda pilot          3        NaN  gas  147191.0   \n",
       "\n",
       "  transmission    type paint_color  is_4wd date_posted  days_listed  \\\n",
       "0    automatic     SUV         NaN    True  2018-06-23           19   \n",
       "1    automatic  pickup       white    True  2018-10-19           50   \n",
       "2    automatic   sedan         red   False  2019-02-07           79   \n",
       "3    automatic  pickup         NaN   False  2019-03-22            9   \n",
       "4    automatic   sedan       black   False  2019-04-02           28   \n",
       "5    automatic   sedan       black    True  2018-06-20           15   \n",
       "6    automatic   sedan       white   False  2018-12-27           73   \n",
       "7    automatic     SUV       black    True  2019-01-07           68   \n",
       "8    automatic     SUV         NaN    True  2018-07-16           19   \n",
       "9    automatic     SUV        blue    True  2019-02-15           17   \n",
       "\n",
       "   year_posted  vehicle_age   avg_mileage  \n",
       "0         2018          7.0  20714.285714  \n",
       "1         2018          NaN           NaN  \n",
       "2         2019          6.0  18333.333333  \n",
       "3         2019         16.0  10129.437500  \n",
       "4         2019          2.0  40451.500000  \n",
       "5         2018          4.0  14488.500000  \n",
       "6         2018          3.0  26404.000000  \n",
       "7         2019          6.0  18245.500000  \n",
       "8         2018          6.0  17362.333333  \n",
       "9         2019         11.0  13381.000000  "
      ]
     },
     "execution_count": 40,
     "metadata": {},
     "output_type": "execute_result"
    }
   ],
   "source": [
    "# print a sample of data\n",
    "df.head(10)\n"
   ]
  },
  {
   "cell_type": "markdown",
   "metadata": {},
   "source": [
    "## Study core parameters\n",
    "\n",
    "The parameters are\n",
    "- Price\n",
    "- The vehicle's age when the ad was placed\n",
    "- Mileage\n",
    "- Number of cylinders\n",
    "- Condition"
   ]
  },
  {
   "cell_type": "code",
   "execution_count": 41,
   "metadata": {},
   "outputs": [],
   "source": [
    "# Price\n",
    "core_df = df[['price','vehicle_age','avg_mileage','cylinders','condition','type','transmission','paint_color','days_listed']]"
   ]
  },
  {
   "cell_type": "code",
   "execution_count": 42,
   "metadata": {},
   "outputs": [
    {
     "name": "stdout",
     "output_type": "stream",
     "text": [
      "count     51525.000000\n",
      "mean      12132.464920\n",
      "std       10040.803015\n",
      "min           1.000000\n",
      "25%        5000.000000\n",
      "50%        9000.000000\n",
      "75%       16839.000000\n",
      "max      375000.000000\n",
      "Name: price, dtype: float64\n",
      "\n"
     ]
    },
    {
     "data": {
      "text/plain": [
       "Text(0.5, 0, 'Price')"
      ]
     },
     "execution_count": 42,
     "metadata": {},
     "output_type": "execute_result"
    },
    {
     "data": {
      "image/png": "[encoded data removed]",
      "text/plain": [
       "<Figure size 432x288 with 1 Axes>"
      ]
     },
     "metadata": {
      "needs_background": "light"
     },
     "output_type": "display_data"
    }
   ],
   "source": [
    "# Price\n",
    "print(core_df.price.describe())\n",
    "print()\n",
    "\n",
    "\n",
    "core_df.plot(kind='hist',y='price',bins = 25, range=(0,80000),title='Price of Cars Listed').set_xlabel(\"Price\")\n",
    "\n"
   ]
  },
  {
   "cell_type": "markdown",
   "metadata": {},
   "source": [
    "According to this histogram, a majority of the vehicles listed are less than are equal to $10000."
   ]
  },
  {
   "cell_type": "code",
   "execution_count": 43,
   "metadata": {},
   "outputs": [
    {
     "name": "stdout",
     "output_type": "stream",
     "text": [
      "count    45778.000000\n",
      "mean         8.954738\n",
      "std          6.157160\n",
      "min          1.000000\n",
      "25%          4.000000\n",
      "50%          8.000000\n",
      "75%         12.000000\n",
      "max        110.000000\n",
      "Name: vehicle_age, dtype: float64\n",
      "\n"
     ]
    },
    {
     "data": {
      "text/plain": [
       "Text(0.5, 0, 'Vehicle Age')"
      ]
     },
     "execution_count": 43,
     "metadata": {},
     "output_type": "execute_result"
    },
    {
     "data": {
      "image/png": "[encoded data removed]",
      "text/plain": [
       "<Figure size 432x288 with 1 Axes>"
      ]
     },
     "metadata": {
      "needs_background": "light"
     },
     "output_type": "display_data"
    }
   ],
   "source": [
    "# Vehicle age when posted\n",
    "print(core_df.vehicle_age.describe())\n",
    "print()\n",
    "core_df.plot(kind='hist',y='vehicle_age',bins=150,range=(0,120),title='Vehicle Age of Cars Listed').set_xlabel('Vehicle Age')\n"
   ]
  },
  {
   "cell_type": "markdown",
   "metadata": {},
   "source": [
    "According to this histogram, a majority of the vehicles that are advertised are between 0-20 years old."
   ]
  },
  {
   "cell_type": "code",
   "execution_count": 44,
   "metadata": {},
   "outputs": [
    {
     "name": "stdout",
     "output_type": "stream",
     "text": [
      "count     45777.000000\n",
      "mean      17798.379060\n",
      "std       12344.426037\n",
      "min           0.000000\n",
      "25%       10854.285714\n",
      "50%       15118.833333\n",
      "75%       21002.142857\n",
      "max      279365.000000\n",
      "Name: avg_mileage, dtype: float64\n"
     ]
    },
    {
     "data": {
      "text/plain": [
       "Text(0.5, 0, 'Average Mileage')"
      ]
     },
     "execution_count": 44,
     "metadata": {},
     "output_type": "execute_result"
    },
    {
     "data": {
      "image/png": "[encoded data removed]",
      "text/plain": [
       "<Figure size 432x288 with 1 Axes>"
      ]
     },
     "metadata": {
      "needs_background": "light"
     },
     "output_type": "display_data"
    }
   ],
   "source": [
    "# Mileage\n",
    "print(core_df.avg_mileage.describe())\n",
    "core_df.plot(kind='hist',y='avg_mileage',bins=10,range=(0,30000),title='Average Mileage of Cars Listed').set_xlabel('Average Mileage')\n",
    "\n"
   ]
  },
  {
   "cell_type": "markdown",
   "metadata": {},
   "source": [
    "According to this histogram, a majority of cars listed have a mileage between 10000-15000."
   ]
  },
  {
   "cell_type": "code",
   "execution_count": 45,
   "metadata": {
    "scrolled": false
   },
   "outputs": [
    {
     "name": "stdout",
     "output_type": "stream",
     "text": [
      "8.0     15844\n",
      "6.0     15700\n",
      "4.0     13864\n",
      "10.0      549\n",
      "5.0       272\n",
      "3.0        34\n",
      "12.0        2\n",
      "Name: cylinders, dtype: int64\n"
     ]
    },
    {
     "data": {
      "text/plain": [
       "Text(0.5, 0, 'Cylinders')"
      ]
     },
     "execution_count": 45,
     "metadata": {},
     "output_type": "execute_result"
    },
    {
     "data": {
      "image/png": "[encoded data removed]",
      "text/plain": [
       "<Figure size 432x288 with 1 Axes>"
      ]
     },
     "metadata": {
      "needs_background": "light"
     },
     "output_type": "display_data"
    }
   ],
   "source": [
    "# Cylinders\n",
    "\n",
    "# Removing 0 values from cylinders column that were used to fill in missing values\n",
    "core_df = df.query('cylinders != 0')\n",
    "\n",
    "print(core_df.cylinders.value_counts())\n",
    "core_df.plot(kind='hist',y='cylinders',bins=10,range=(0,12),title='Number of Cylinders of Cars Listed').set_xlabel('Cylinders')\n",
    "\n",
    "\n",
    "\n"
   ]
  },
  {
   "cell_type": "markdown",
   "metadata": {},
   "source": [
    "According to this histogram, most vehicles listed are 4,6, or 8 cylinder vehicles."
   ]
  },
  {
   "cell_type": "code",
   "execution_count": 46,
   "metadata": {},
   "outputs": [
    {
     "name": "stdout",
     "output_type": "stream",
     "text": [
      "3    24773\n",
      "2    20145\n",
      "4     4742\n",
      "1     1607\n",
      "5      143\n",
      "0      115\n",
      "Name: condition, dtype: int64\n"
     ]
    },
    {
     "data": {
      "text/plain": [
       "Text(0.5, 0, 'Condition')"
      ]
     },
     "execution_count": 46,
     "metadata": {},
     "output_type": "execute_result"
    },
    {
     "data": {
      "image/png": "[encoded data removed]",
      "text/plain": [
       "<Figure size 432x288 with 1 Axes>"
      ]
     },
     "metadata": {
      "needs_background": "light"
     },
     "output_type": "display_data"
    }
   ],
   "source": [
    "# Condition\n",
    "print(core_df.condition.value_counts())\n",
    "core_df.plot(kind='hist',y='condition',bins=5,range=(0,5),title='Condition of Cars Listed').set_xlabel('Condition')\n"
   ]
  },
  {
   "cell_type": "markdown",
   "metadata": {},
   "source": [
    "According to this histogram, a majority of the vehicles listed are of good(2) or excellent(3) quality. "
   ]
  },
  {
   "cell_type": "markdown",
   "metadata": {},
   "source": [
    "## Study and treat outliers\n"
   ]
  },
  {
   "cell_type": "code",
   "execution_count": 47,
   "metadata": {},
   "outputs": [
    {
     "name": "stdout",
     "output_type": "stream",
     "text": [
      "-12758.5\n"
     ]
    }
   ],
   "source": [
    "# Determine the lower limits for outliers\n",
    "# IQR = Q3 – Q1\n",
    "# lower = Q1 – 1.5*IQR\n",
    "\n",
    "\n",
    "core_df.describe()\n",
    "\n",
    "price_iqr = (16839 - 5000)\n",
    "price_lower = 5000 - (1.5 * price_iqr)\n",
    "print(price_lower)\n",
    "\n",
    "\n"
   ]
  },
  {
   "cell_type": "code",
   "execution_count": 48,
   "metadata": {},
   "outputs": [
    {
     "name": "stdout",
     "output_type": "stream",
     "text": [
      "34597.5\n",
      "27.5\n"
     ]
    }
   ],
   "source": [
    "# Determine the upper limits for outliers\n",
    "# IQR = Q3 – Q1\n",
    "# upper = Q3 +1.5*IQR\n",
    "\n",
    "price_iqr = (16839 - 5000)\n",
    "price_upper = 16839 + (1.5 *price_iqr)\n",
    "print(price_upper)\n",
    "\n",
    "vehicle_age_upper = 14 + (1.5 * 9)\n",
    "print(vehicle_age_upper)\n",
    "\n",
    "\n",
    "\n",
    "\n",
    "\n",
    "\n"
   ]
  },
  {
   "cell_type": "code",
   "execution_count": 49,
   "metadata": {},
   "outputs": [
    {
     "data": {
      "text/html": [
       "<div>\n",
       "<style scoped>\n",
       "    .dataframe tbody tr th:only-of-type {\n",
       "        vertical-align: middle;\n",
       "    }\n",
       "\n",
       "    .dataframe tbody tr th {\n",
       "        vertical-align: top;\n",
       "    }\n",
       "\n",
       "    .dataframe thead th {\n",
       "        text-align: right;\n",
       "    }\n",
       "</style>\n",
       "<table border=\"1\" class=\"dataframe\">\n",
       "  <thead>\n",
       "    <tr style=\"text-align: right;\">\n",
       "      <th></th>\n",
       "      <th>price</th>\n",
       "      <th>vehicle_age</th>\n",
       "      <th>odometer</th>\n",
       "      <th>avg_mileage</th>\n",
       "    </tr>\n",
       "  </thead>\n",
       "  <tbody>\n",
       "    <tr>\n",
       "      <td>min</td>\n",
       "      <td>1000.0</td>\n",
       "      <td>1.0</td>\n",
       "      <td>0.0</td>\n",
       "      <td>0.0</td>\n",
       "    </tr>\n",
       "    <tr>\n",
       "      <td>max</td>\n",
       "      <td>34595.0</td>\n",
       "      <td>27.0</td>\n",
       "      <td>350000.0</td>\n",
       "      <td>143905.0</td>\n",
       "    </tr>\n",
       "  </tbody>\n",
       "</table>\n",
       "</div>"
      ],
      "text/plain": [
       "       price  vehicle_age  odometer  avg_mileage\n",
       "min   1000.0          1.0       0.0          0.0\n",
       "max  34595.0         27.0  350000.0     143905.0"
      ]
     },
     "execution_count": 49,
     "metadata": {},
     "output_type": "execute_result"
    }
   ],
   "source": [
    "# Store data without outliers in a separate DataFrame using .query()\n",
    "\n",
    "\n",
    "filtered_df = core_df.query('price <= @price_upper & vehicle_age <= @vehicle_age_upper & avg_mileage < 150000')\n",
    "filtered_df = filtered_df.query('odometer <= 350000 & price >= 1000')\n",
    "\n",
    "# Check data for outliers\n",
    "\n",
    "filtered_df[['price', 'vehicle_age', 'odometer', 'avg_mileage']].describe().loc[['min', 'max']]\n"
   ]
  },
  {
   "cell_type": "code",
   "execution_count": 50,
   "metadata": {},
   "outputs": [
    {
     "data": {
      "text/html": [
       "<div>\n",
       "<style scoped>\n",
       "    .dataframe tbody tr th:only-of-type {\n",
       "        vertical-align: middle;\n",
       "    }\n",
       "\n",
       "    .dataframe tbody tr th {\n",
       "        vertical-align: top;\n",
       "    }\n",
       "\n",
       "    .dataframe thead th {\n",
       "        text-align: right;\n",
       "    }\n",
       "</style>\n",
       "<table border=\"1\" class=\"dataframe\">\n",
       "  <thead>\n",
       "    <tr style=\"text-align: right;\">\n",
       "      <th></th>\n",
       "      <th>price</th>\n",
       "      <th>vehicle_age</th>\n",
       "      <th>odometer</th>\n",
       "      <th>avg_mileage</th>\n",
       "    </tr>\n",
       "  </thead>\n",
       "  <tbody>\n",
       "    <tr>\n",
       "      <td>min</td>\n",
       "      <td>1000.0</td>\n",
       "      <td>1.0</td>\n",
       "      <td>0.0</td>\n",
       "      <td>0.0</td>\n",
       "    </tr>\n",
       "    <tr>\n",
       "      <td>max</td>\n",
       "      <td>34595.0</td>\n",
       "      <td>27.0</td>\n",
       "      <td>350000.0</td>\n",
       "      <td>143905.0</td>\n",
       "    </tr>\n",
       "  </tbody>\n",
       "</table>\n",
       "</div>"
      ],
      "text/plain": [
       "       price  vehicle_age  odometer  avg_mileage\n",
       "min   1000.0          1.0       0.0          0.0\n",
       "max  34595.0         27.0  350000.0     143905.0"
      ]
     },
     "execution_count": 50,
     "metadata": {},
     "output_type": "execute_result"
    }
   ],
   "source": [
    "# Reviewer's code\n",
    "\n",
    "filtered_df[['price', 'vehicle_age', 'odometer', 'avg_mileage']].describe().loc[['min', 'max']]"
   ]
  },
  {
   "cell_type": "code",
   "execution_count": 51,
   "metadata": {},
   "outputs": [
    {
     "data": {
      "text/plain": [
       "<matplotlib.axes._subplots.AxesSubplot at 0x7f644f451290>"
      ]
     },
     "execution_count": 51,
     "metadata": {},
     "output_type": "execute_result"
    },
    {
     "data": {
      "image/png": "[encoded data removed]",
      "text/plain": [
       "<Figure size 432x288 with 1 Axes>"
      ]
     },
     "metadata": {
      "needs_background": "light"
     },
     "output_type": "display_data"
    }
   ],
   "source": [
    "# Reviwer's code\n",
    "\n",
    "filtered_df.boxplot('odometer')"
   ]
  },
  {
   "cell_type": "markdown",
   "metadata": {},
   "source": [
    "## Study core parameters without outliers"
   ]
  },
  {
   "cell_type": "code",
   "execution_count": 52,
   "metadata": {},
   "outputs": [
    {
     "name": "stdout",
     "output_type": "stream",
     "text": [
      "count    43241.000000\n",
      "mean     11138.147291\n",
      "std       7487.615146\n",
      "min       1000.000000\n",
      "25%       5200.000000\n",
      "50%       8995.000000\n",
      "75%      15498.000000\n",
      "max      34595.000000\n",
      "Name: price, dtype: float64\n",
      "\n",
      "\n",
      "count    43241.000000\n",
      "mean         8.753382\n",
      "std          5.172608\n",
      "min          1.000000\n",
      "25%          5.000000\n",
      "50%          8.000000\n",
      "75%         12.000000\n",
      "max         27.000000\n",
      "Name: vehicle_age, dtype: float64\n"
     ]
    },
    {
     "data": {
      "text/plain": [
       "<matplotlib.axes._subplots.AxesSubplot at 0x7f644ed43490>"
      ]
     },
     "execution_count": 52,
     "metadata": {},
     "output_type": "execute_result"
    },
    {
     "data": {
      "image/png": "[encoded data removed]",
      "text/plain": [
       "<Figure size 432x288 with 1 Axes>"
      ]
     },
     "metadata": {
      "needs_background": "light"
     },
     "output_type": "display_data"
    },
    {
     "data": {
      "image/png": "[encoded data removed]",
      "text/plain": [
       "<Figure size 432x288 with 1 Axes>"
      ]
     },
     "metadata": {
      "needs_background": "light"
     },
     "output_type": "display_data"
    },
    {
     "data": {
      "image/png": "[encoded data removed]",
      "text/plain": [
       "<Figure size 432x288 with 1 Axes>"
      ]
     },
     "metadata": {
      "needs_background": "light"
     },
     "output_type": "display_data"
    },
    {
     "data": {
      "image/png": "[encoded data removed]",
      "text/plain": [
       "<Figure size 432x288 with 1 Axes>"
      ]
     },
     "metadata": {
      "needs_background": "light"
     },
     "output_type": "display_data"
    }
   ],
   "source": [
    "# Price comparison\n",
    "print(filtered_df.price.describe())\n",
    "\n",
    "filtered_df.plot(kind='hist',y='price',bins=20,range=(500,35000),title='Price without Outliers')\n",
    "core_df.plot(kind='hist',y='price',bins = 50, range=(0,70000),title='Price with Outliers')\n",
    "\n",
    "print()\n",
    "\n",
    "# Vehicle age comparison\n",
    "\n",
    "print()\n",
    "print(filtered_df.vehicle_age.describe())\n",
    "filtered_df.plot(kind='hist',y='vehicle_age',bins=25,range=(0,30),title='Vehicle Age without Outliers')\n",
    "core_df.plot(kind='hist',y='vehicle_age',bins = 50, range=(0,60),title='Vehicle Age with Outliers')\n",
    "\n",
    "\n",
    "\n",
    "\n"
   ]
  },
  {
   "cell_type": "markdown",
   "metadata": {},
   "source": [
    "\n",
    "The histograms with or without outliers seem to be very similar, with almost identical peaks.\n"
   ]
  },
  {
   "cell_type": "markdown",
   "metadata": {},
   "source": [
    "# Conclusion"
   ]
  },
  {
   "cell_type": "markdown",
   "metadata": {},
   "source": [
    "## Ads lifetime\n"
   ]
  },
  {
   "cell_type": "code",
   "execution_count": 53,
   "metadata": {
    "scrolled": false
   },
   "outputs": [
    {
     "name": "stdout",
     "output_type": "stream",
     "text": [
      "count    43241.000000\n",
      "mean        39.580236\n",
      "std         28.229487\n",
      "min          0.000000\n",
      "25%         19.000000\n",
      "50%         33.000000\n",
      "75%         53.000000\n",
      "max        271.000000\n",
      "Name: days_listed, dtype: float64\n",
      "AxesSubplot(0.125,0.125;0.775x0.755)\n",
      "\n",
      "Median days listed: 33.0 \n",
      " Average days listed: 39.580236349760646\n"
     ]
    },
    {
     "data": {
      "image/png": "[encoded data removed]",
      "text/plain": [
       "<Figure size 432x288 with 1 Axes>"
      ]
     },
     "metadata": {
      "needs_background": "light"
     },
     "output_type": "display_data"
    }
   ],
   "source": [
    "print(filtered_df.days_listed.describe())\n",
    "print(filtered_df.days_listed.hist(range=(0,300)))\n",
    "print()\n",
    "print('Median days listed:',filtered_df.days_listed.median(),'\\n','Average days listed:',filtered_df.days_listed.mean())\n"
   ]
  },
  {
   "cell_type": "markdown",
   "metadata": {},
   "source": [
    "Vehicles that are listed for more than 150 days are rare and at around 200 days the histogram zeroes out. The average amount of days listed is about 40 days."
   ]
  },
  {
   "cell_type": "markdown",
   "metadata": {},
   "source": [
    "## Average price per each type of vehicle"
   ]
  },
  {
   "cell_type": "code",
   "execution_count": 54,
   "metadata": {},
   "outputs": [
    {
     "data": {
      "text/plain": [
       "(array([ 0,  1,  2,  3,  4,  5,  6,  7,  8,  9, 10, 11, 12]),\n",
       " <a list of 13 Text xticklabel objects>)"
      ]
     },
     "execution_count": 54,
     "metadata": {},
     "output_type": "execute_result"
    },
    {
     "data": {
      "image/png": "[encoded data removed]",
      "text/plain": [
       "<Figure size 1008x576 with 1 Axes>"
      ]
     },
     "metadata": {
      "needs_background": "light"
     },
     "output_type": "display_data"
    }
   ],
   "source": [
    "# Creating pivot table and bar graph for type and price\n",
    "\n",
    "avg_price_type = df.pivot_table(index='type',values='price')\n",
    "\n",
    "\n",
    "avg_price_type.sort_values('price',ascending=False).plot(kind='bar',title='Average Price per Type',figsize=(14,8))\n",
    "plt.xticks(rotation=0)\n",
    "\n"
   ]
  },
  {
   "cell_type": "code",
   "execution_count": 55,
   "metadata": {},
   "outputs": [
    {
     "name": "stdout",
     "output_type": "stream",
     "text": [
      "AxesSubplot(0.125,0.125;0.775x0.755)\n"
     ]
    },
    {
     "data": {
      "text/plain": [
       "(array([ 0,  1,  2,  3,  4,  5,  6,  7,  8,  9, 10, 11, 12]),\n",
       " <a list of 13 Text xticklabel objects>)"
      ]
     },
     "execution_count": 55,
     "metadata": {},
     "output_type": "execute_result"
    },
    {
     "data": {
      "image/png": "[encoded data removed]",
      "text/plain": [
       "<Figure size 1008x576 with 1 Axes>"
      ]
     },
     "metadata": {
      "needs_background": "light"
     },
     "output_type": "display_data"
    }
   ],
   "source": [
    "# Creating bar graph to find most popular type of vehicle\n",
    "\n",
    "total_ads_type = filtered_df['type'].value_counts()\n",
    "print(total_ads_type.plot(kind='bar',title='Total Ads per Type',figsize=(14,8)))\n",
    "plt.xticks(rotation=0)\n"
   ]
  },
  {
   "cell_type": "markdown",
   "metadata": {},
   "source": [
    "According to this bar graph, Sedans and SUV's are the most popular type of vehicle listed."
   ]
  },
  {
   "cell_type": "code",
   "execution_count": 56,
   "metadata": {},
   "outputs": [
    {
     "data": {
      "image/png": "[encoded data removed]",
      "text/plain": [
       "<Figure size 1008x576 with 1 Axes>"
      ]
     },
     "metadata": {
      "needs_background": "light"
     },
     "output_type": "display_data"
    }
   ],
   "source": [
    "# Reviewer's code\n",
    "\n",
    "filtered_df['type'].value_counts().plot(kind='bar',title='Total Ads per Type', figsize=(14,8))\n",
    "plt.xticks(rotation=0)\n",
    "\n",
    "plt.title('Title')\n",
    "plt.xlabel('Type')\n",
    "plt.ylabel('Quantity')\n",
    "plt.show()"
   ]
  },
  {
   "cell_type": "markdown",
   "metadata": {},
   "source": [
    "## Price factors"
   ]
  },
  {
   "cell_type": "code",
   "execution_count": 57,
   "metadata": {},
   "outputs": [
    {
     "data": {
      "image/png": "[encoded data removed]",
      "text/plain": [
       "<Figure size 432x288 with 1 Axes>"
      ]
     },
     "metadata": {
      "needs_background": "light"
     },
     "output_type": "display_data"
    },
    {
     "data": {
      "image/png": "[encoded data removed]",
      "text/plain": [
       "<Figure size 432x288 with 1 Axes>"
      ]
     },
     "metadata": {
      "needs_background": "light"
     },
     "output_type": "display_data"
    },
    {
     "data": {
      "image/png": "[encoded data removed]",
      "text/plain": [
       "<Figure size 432x288 with 1 Axes>"
      ]
     },
     "metadata": {
      "needs_background": "light"
     },
     "output_type": "display_data"
    },
    {
     "data": {
      "image/png": "[encoded data removed]",
      "text/plain": [
       "<Figure size 432x288 with 1 Axes>"
      ]
     },
     "metadata": {
      "needs_background": "light"
     },
     "output_type": "display_data"
    }
   ],
   "source": [
    "# Quantitative variables\n",
    "\n",
    "suv_data = filtered_df.query('type == \"SUV\"')\n",
    "sedan_data = filtered_df.query('type == \"sedan\"')\n",
    "\n",
    "# Automating histograms\n",
    "\n",
    "factors = ['vehicle_age','avg_mileage']\n",
    "for i in factors:\n",
    "    \n",
    "    sedan_data.plot(kind='scatter',x=i,y='price',title='Sedan')\n",
    "    suv_data.plot(kind='scatter',x=i,y='price',title='SUV',)\n",
    "    \n",
    "    \n",
    "\n",
    "\n",
    "\n",
    "    \n",
    "    \n",
    "\n",
    "\n",
    "                                                                             \n",
    "                                                         "
   ]
  },
  {
   "cell_type": "code",
   "execution_count": 58,
   "metadata": {},
   "outputs": [
    {
     "data": {
      "text/plain": [
       "(0, 15000)"
      ]
     },
     "execution_count": 58,
     "metadata": {},
     "output_type": "execute_result"
    },
    {
     "data": {
      "image/png": "[encoded data removed]",
      "text/plain": [
       "<Figure size 432x288 with 1 Axes>"
      ]
     },
     "metadata": {
      "needs_background": "light"
     },
     "output_type": "display_data"
    }
   ],
   "source": [
    "# condition\n",
    "suv_data.groupby('condition')['price'].median().plot()\n",
    "sedan_data.groupby('condition')['price'].median().plot()\n",
    "plt.title('SUVs vs Sedans')\n",
    "plt.xlabel('Condition')\n",
    "plt.ylabel('Median price')\n",
    "plt.legend(labels=['SUV','Sedan'])\n",
    "plt.ylim(0,15000)"
   ]
  },
  {
   "cell_type": "code",
   "execution_count": 59,
   "metadata": {},
   "outputs": [
    {
     "data": {
      "image/png": "[encoded data removed]",
      "text/plain": [
       "<Figure size 432x288 with 1 Axes>"
      ]
     },
     "metadata": {
      "needs_background": "light"
     },
     "output_type": "display_data"
    }
   ],
   "source": [
    "# Reviwer's code\n",
    "\n",
    "sedan_data.groupby('condition')['price'].median().plot()\n",
    "\n",
    "plt.title('Title')\n",
    "plt.xlabel('Condition')\n",
    "plt.ylabel('Median price')\n",
    "\n",
    "plt.show()"
   ]
  },
  {
   "cell_type": "code",
   "execution_count": 60,
   "metadata": {},
   "outputs": [
    {
     "data": {
      "text/html": [
       "<div>\n",
       "<style scoped>\n",
       "    .dataframe tbody tr th:only-of-type {\n",
       "        vertical-align: middle;\n",
       "    }\n",
       "\n",
       "    .dataframe tbody tr th {\n",
       "        vertical-align: top;\n",
       "    }\n",
       "\n",
       "    .dataframe thead th {\n",
       "        text-align: right;\n",
       "    }\n",
       "</style>\n",
       "<table border=\"1\" class=\"dataframe\">\n",
       "  <thead>\n",
       "    <tr style=\"text-align: right;\">\n",
       "      <th></th>\n",
       "      <th>price</th>\n",
       "      <th>model_year</th>\n",
       "      <th>condition</th>\n",
       "      <th>cylinders</th>\n",
       "      <th>odometer</th>\n",
       "      <th>is_4wd</th>\n",
       "      <th>days_listed</th>\n",
       "      <th>year_posted</th>\n",
       "      <th>vehicle_age</th>\n",
       "      <th>avg_mileage</th>\n",
       "    </tr>\n",
       "  </thead>\n",
       "  <tbody>\n",
       "    <tr>\n",
       "      <td>price</td>\n",
       "      <td>1.000000</td>\n",
       "      <td>0.696718</td>\n",
       "      <td>0.292745</td>\n",
       "      <td>0.006881</td>\n",
       "      <td>-0.607051</td>\n",
       "      <td>0.123195</td>\n",
       "      <td>0.000133</td>\n",
       "      <td>0.036114</td>\n",
       "      <td>-0.691653</td>\n",
       "      <td>0.339194</td>\n",
       "    </tr>\n",
       "    <tr>\n",
       "      <td>model_year</td>\n",
       "      <td>0.696718</td>\n",
       "      <td>1.000000</td>\n",
       "      <td>0.267887</td>\n",
       "      <td>-0.190590</td>\n",
       "      <td>-0.603773</td>\n",
       "      <td>0.025779</td>\n",
       "      <td>0.000684</td>\n",
       "      <td>0.033306</td>\n",
       "      <td>-0.994646</td>\n",
       "      <td>0.537094</td>\n",
       "    </tr>\n",
       "    <tr>\n",
       "      <td>condition</td>\n",
       "      <td>0.292745</td>\n",
       "      <td>0.267887</td>\n",
       "      <td>1.000000</td>\n",
       "      <td>-0.068269</td>\n",
       "      <td>-0.292262</td>\n",
       "      <td>0.002568</td>\n",
       "      <td>-0.011600</td>\n",
       "      <td>0.020738</td>\n",
       "      <td>-0.265232</td>\n",
       "      <td>0.073329</td>\n",
       "    </tr>\n",
       "    <tr>\n",
       "      <td>cylinders</td>\n",
       "      <td>0.006881</td>\n",
       "      <td>-0.190590</td>\n",
       "      <td>-0.068269</td>\n",
       "      <td>1.000000</td>\n",
       "      <td>0.132880</td>\n",
       "      <td>0.126239</td>\n",
       "      <td>-0.009721</td>\n",
       "      <td>-0.004180</td>\n",
       "      <td>0.189745</td>\n",
       "      <td>-0.098238</td>\n",
       "    </tr>\n",
       "    <tr>\n",
       "      <td>odometer</td>\n",
       "      <td>-0.607051</td>\n",
       "      <td>-0.603773</td>\n",
       "      <td>-0.292262</td>\n",
       "      <td>0.132880</td>\n",
       "      <td>1.000000</td>\n",
       "      <td>-0.010727</td>\n",
       "      <td>0.005118</td>\n",
       "      <td>-0.025532</td>\n",
       "      <td>0.599980</td>\n",
       "      <td>0.025110</td>\n",
       "    </tr>\n",
       "    <tr>\n",
       "      <td>is_4wd</td>\n",
       "      <td>0.123195</td>\n",
       "      <td>0.025779</td>\n",
       "      <td>0.002568</td>\n",
       "      <td>0.126239</td>\n",
       "      <td>-0.010727</td>\n",
       "      <td>1.000000</td>\n",
       "      <td>0.010354</td>\n",
       "      <td>-0.011214</td>\n",
       "      <td>-0.026889</td>\n",
       "      <td>0.009661</td>\n",
       "    </tr>\n",
       "    <tr>\n",
       "      <td>days_listed</td>\n",
       "      <td>0.000133</td>\n",
       "      <td>0.000684</td>\n",
       "      <td>-0.011600</td>\n",
       "      <td>-0.009721</td>\n",
       "      <td>0.005118</td>\n",
       "      <td>0.010354</td>\n",
       "      <td>1.000000</td>\n",
       "      <td>0.013031</td>\n",
       "      <td>0.000665</td>\n",
       "      <td>-0.004926</td>\n",
       "    </tr>\n",
       "    <tr>\n",
       "      <td>year_posted</td>\n",
       "      <td>0.036114</td>\n",
       "      <td>0.033306</td>\n",
       "      <td>0.020738</td>\n",
       "      <td>-0.004180</td>\n",
       "      <td>-0.025532</td>\n",
       "      <td>-0.011214</td>\n",
       "      <td>0.013031</td>\n",
       "      <td>1.000000</td>\n",
       "      <td>0.070153</td>\n",
       "      <td>-0.146345</td>\n",
       "    </tr>\n",
       "    <tr>\n",
       "      <td>vehicle_age</td>\n",
       "      <td>-0.691653</td>\n",
       "      <td>-0.994646</td>\n",
       "      <td>-0.265232</td>\n",
       "      <td>0.189745</td>\n",
       "      <td>0.599980</td>\n",
       "      <td>-0.026889</td>\n",
       "      <td>0.000665</td>\n",
       "      <td>0.070153</td>\n",
       "      <td>1.000000</td>\n",
       "      <td>-0.551199</td>\n",
       "    </tr>\n",
       "    <tr>\n",
       "      <td>avg_mileage</td>\n",
       "      <td>0.339194</td>\n",
       "      <td>0.537094</td>\n",
       "      <td>0.073329</td>\n",
       "      <td>-0.098238</td>\n",
       "      <td>0.025110</td>\n",
       "      <td>0.009661</td>\n",
       "      <td>-0.004926</td>\n",
       "      <td>-0.146345</td>\n",
       "      <td>-0.551199</td>\n",
       "      <td>1.000000</td>\n",
       "    </tr>\n",
       "  </tbody>\n",
       "</table>\n",
       "</div>"
      ],
      "text/plain": [
       "                price  model_year  condition  cylinders  odometer    is_4wd  \\\n",
       "price        1.000000    0.696718   0.292745   0.006881 -0.607051  0.123195   \n",
       "model_year   0.696718    1.000000   0.267887  -0.190590 -0.603773  0.025779   \n",
       "condition    0.292745    0.267887   1.000000  -0.068269 -0.292262  0.002568   \n",
       "cylinders    0.006881   -0.190590  -0.068269   1.000000  0.132880  0.126239   \n",
       "odometer    -0.607051   -0.603773  -0.292262   0.132880  1.000000 -0.010727   \n",
       "is_4wd       0.123195    0.025779   0.002568   0.126239 -0.010727  1.000000   \n",
       "days_listed  0.000133    0.000684  -0.011600  -0.009721  0.005118  0.010354   \n",
       "year_posted  0.036114    0.033306   0.020738  -0.004180 -0.025532 -0.011214   \n",
       "vehicle_age -0.691653   -0.994646  -0.265232   0.189745  0.599980 -0.026889   \n",
       "avg_mileage  0.339194    0.537094   0.073329  -0.098238  0.025110  0.009661   \n",
       "\n",
       "             days_listed  year_posted  vehicle_age  avg_mileage  \n",
       "price           0.000133     0.036114    -0.691653     0.339194  \n",
       "model_year      0.000684     0.033306    -0.994646     0.537094  \n",
       "condition      -0.011600     0.020738    -0.265232     0.073329  \n",
       "cylinders      -0.009721    -0.004180     0.189745    -0.098238  \n",
       "odometer        0.005118    -0.025532     0.599980     0.025110  \n",
       "is_4wd          0.010354    -0.011214    -0.026889     0.009661  \n",
       "days_listed     1.000000     0.013031     0.000665    -0.004926  \n",
       "year_posted     0.013031     1.000000     0.070153    -0.146345  \n",
       "vehicle_age     0.000665     0.070153     1.000000    -0.551199  \n",
       "avg_mileage    -0.004926    -0.146345    -0.551199     1.000000  "
      ]
     },
     "execution_count": 60,
     "metadata": {},
     "output_type": "execute_result"
    }
   ],
   "source": [
    "#Correlation matrix\n",
    "sedan_data.corr()"
   ]
  },
  {
   "cell_type": "code",
   "execution_count": 61,
   "metadata": {},
   "outputs": [
    {
     "data": {
      "text/html": [
       "<div>\n",
       "<style scoped>\n",
       "    .dataframe tbody tr th:only-of-type {\n",
       "        vertical-align: middle;\n",
       "    }\n",
       "\n",
       "    .dataframe tbody tr th {\n",
       "        vertical-align: top;\n",
       "    }\n",
       "\n",
       "    .dataframe thead th {\n",
       "        text-align: right;\n",
       "    }\n",
       "</style>\n",
       "<table border=\"1\" class=\"dataframe\">\n",
       "  <thead>\n",
       "    <tr style=\"text-align: right;\">\n",
       "      <th></th>\n",
       "      <th>price</th>\n",
       "      <th>model_year</th>\n",
       "      <th>condition</th>\n",
       "      <th>cylinders</th>\n",
       "      <th>odometer</th>\n",
       "      <th>is_4wd</th>\n",
       "      <th>days_listed</th>\n",
       "      <th>year_posted</th>\n",
       "      <th>vehicle_age</th>\n",
       "      <th>avg_mileage</th>\n",
       "    </tr>\n",
       "  </thead>\n",
       "  <tbody>\n",
       "    <tr>\n",
       "      <td>price</td>\n",
       "      <td>1.000000</td>\n",
       "      <td>0.664095</td>\n",
       "      <td>0.278253</td>\n",
       "      <td>0.038589</td>\n",
       "      <td>-0.589559</td>\n",
       "      <td>0.130648</td>\n",
       "      <td>-0.018251</td>\n",
       "      <td>0.007776</td>\n",
       "      <td>-0.661997</td>\n",
       "      <td>0.332616</td>\n",
       "    </tr>\n",
       "    <tr>\n",
       "      <td>model_year</td>\n",
       "      <td>0.664095</td>\n",
       "      <td>1.000000</td>\n",
       "      <td>0.295807</td>\n",
       "      <td>-0.300863</td>\n",
       "      <td>-0.607472</td>\n",
       "      <td>-0.084103</td>\n",
       "      <td>-0.013817</td>\n",
       "      <td>0.024394</td>\n",
       "      <td>-0.995660</td>\n",
       "      <td>0.578660</td>\n",
       "    </tr>\n",
       "    <tr>\n",
       "      <td>condition</td>\n",
       "      <td>0.278253</td>\n",
       "      <td>0.295807</td>\n",
       "      <td>1.000000</td>\n",
       "      <td>-0.099887</td>\n",
       "      <td>-0.294059</td>\n",
       "      <td>-0.003910</td>\n",
       "      <td>-0.014573</td>\n",
       "      <td>0.004948</td>\n",
       "      <td>-0.294735</td>\n",
       "      <td>0.081765</td>\n",
       "    </tr>\n",
       "    <tr>\n",
       "      <td>cylinders</td>\n",
       "      <td>0.038589</td>\n",
       "      <td>-0.300863</td>\n",
       "      <td>-0.099887</td>\n",
       "      <td>1.000000</td>\n",
       "      <td>0.271995</td>\n",
       "      <td>0.121636</td>\n",
       "      <td>0.020883</td>\n",
       "      <td>-0.008530</td>\n",
       "      <td>0.299503</td>\n",
       "      <td>-0.170483</td>\n",
       "    </tr>\n",
       "    <tr>\n",
       "      <td>odometer</td>\n",
       "      <td>-0.589559</td>\n",
       "      <td>-0.607472</td>\n",
       "      <td>-0.294059</td>\n",
       "      <td>0.271995</td>\n",
       "      <td>1.000000</td>\n",
       "      <td>0.030601</td>\n",
       "      <td>0.008799</td>\n",
       "      <td>-0.015927</td>\n",
       "      <td>0.604733</td>\n",
       "      <td>-0.041133</td>\n",
       "    </tr>\n",
       "    <tr>\n",
       "      <td>is_4wd</td>\n",
       "      <td>0.130648</td>\n",
       "      <td>-0.084103</td>\n",
       "      <td>-0.003910</td>\n",
       "      <td>0.121636</td>\n",
       "      <td>0.030601</td>\n",
       "      <td>1.000000</td>\n",
       "      <td>-0.006427</td>\n",
       "      <td>-0.012213</td>\n",
       "      <td>0.082792</td>\n",
       "      <td>-0.049752</td>\n",
       "    </tr>\n",
       "    <tr>\n",
       "      <td>days_listed</td>\n",
       "      <td>-0.018251</td>\n",
       "      <td>-0.013817</td>\n",
       "      <td>-0.014573</td>\n",
       "      <td>0.020883</td>\n",
       "      <td>0.008799</td>\n",
       "      <td>-0.006427</td>\n",
       "      <td>1.000000</td>\n",
       "      <td>-0.005374</td>\n",
       "      <td>0.013288</td>\n",
       "      <td>-0.017223</td>\n",
       "    </tr>\n",
       "    <tr>\n",
       "      <td>year_posted</td>\n",
       "      <td>0.007776</td>\n",
       "      <td>0.024394</td>\n",
       "      <td>0.004948</td>\n",
       "      <td>-0.008530</td>\n",
       "      <td>-0.015927</td>\n",
       "      <td>-0.012213</td>\n",
       "      <td>-0.005374</td>\n",
       "      <td>1.000000</td>\n",
       "      <td>0.068746</td>\n",
       "      <td>-0.121079</td>\n",
       "    </tr>\n",
       "    <tr>\n",
       "      <td>vehicle_age</td>\n",
       "      <td>-0.661997</td>\n",
       "      <td>-0.995660</td>\n",
       "      <td>-0.294735</td>\n",
       "      <td>0.299503</td>\n",
       "      <td>0.604733</td>\n",
       "      <td>0.082792</td>\n",
       "      <td>0.013288</td>\n",
       "      <td>0.068746</td>\n",
       "      <td>1.000000</td>\n",
       "      <td>-0.588733</td>\n",
       "    </tr>\n",
       "    <tr>\n",
       "      <td>avg_mileage</td>\n",
       "      <td>0.332616</td>\n",
       "      <td>0.578660</td>\n",
       "      <td>0.081765</td>\n",
       "      <td>-0.170483</td>\n",
       "      <td>-0.041133</td>\n",
       "      <td>-0.049752</td>\n",
       "      <td>-0.017223</td>\n",
       "      <td>-0.121079</td>\n",
       "      <td>-0.588733</td>\n",
       "      <td>1.000000</td>\n",
       "    </tr>\n",
       "  </tbody>\n",
       "</table>\n",
       "</div>"
      ],
      "text/plain": [
       "                price  model_year  condition  cylinders  odometer    is_4wd  \\\n",
       "price        1.000000    0.664095   0.278253   0.038589 -0.589559  0.130648   \n",
       "model_year   0.664095    1.000000   0.295807  -0.300863 -0.607472 -0.084103   \n",
       "condition    0.278253    0.295807   1.000000  -0.099887 -0.294059 -0.003910   \n",
       "cylinders    0.038589   -0.300863  -0.099887   1.000000  0.271995  0.121636   \n",
       "odometer    -0.589559   -0.607472  -0.294059   0.271995  1.000000  0.030601   \n",
       "is_4wd       0.130648   -0.084103  -0.003910   0.121636  0.030601  1.000000   \n",
       "days_listed -0.018251   -0.013817  -0.014573   0.020883  0.008799 -0.006427   \n",
       "year_posted  0.007776    0.024394   0.004948  -0.008530 -0.015927 -0.012213   \n",
       "vehicle_age -0.661997   -0.995660  -0.294735   0.299503  0.604733  0.082792   \n",
       "avg_mileage  0.332616    0.578660   0.081765  -0.170483 -0.041133 -0.049752   \n",
       "\n",
       "             days_listed  year_posted  vehicle_age  avg_mileage  \n",
       "price          -0.018251     0.007776    -0.661997     0.332616  \n",
       "model_year     -0.013817     0.024394    -0.995660     0.578660  \n",
       "condition      -0.014573     0.004948    -0.294735     0.081765  \n",
       "cylinders       0.020883    -0.008530     0.299503    -0.170483  \n",
       "odometer        0.008799    -0.015927     0.604733    -0.041133  \n",
       "is_4wd         -0.006427    -0.012213     0.082792    -0.049752  \n",
       "days_listed     1.000000    -0.005374     0.013288    -0.017223  \n",
       "year_posted    -0.005374     1.000000     0.068746    -0.121079  \n",
       "vehicle_age     0.013288     0.068746     1.000000    -0.588733  \n",
       "avg_mileage    -0.017223    -0.121079    -0.588733     1.000000  "
      ]
     },
     "execution_count": 61,
     "metadata": {},
     "output_type": "execute_result"
    }
   ],
   "source": [
    "#Correlation matrix\n",
    "suv_data.corr()\n"
   ]
  },
  {
   "cell_type": "markdown",
   "metadata": {},
   "source": [
    "According to the above histograms and correlation matrix, the vehicle age when listed, average mileage, and conditions impact the price of a vehicle the most. There is a negative correlation between the age of the vehicle and the price. The lower the age of the vehicle, the higher the price. There is a positive correlation between condition and price. The better the condition of the vehicle listed, the higher the price."
   ]
  },
  {
   "cell_type": "code",
   "execution_count": 62,
   "metadata": {},
   "outputs": [
    {
     "name": "stderr",
     "output_type": "stream",
     "text": [
      "/opt/conda/lib/python3.7/site-packages/pandas/core/series.py:4784: SettingWithCopyWarning: \n",
      "A value is trying to be set on a copy of a slice from a DataFrame\n",
      "\n",
      "See the caveats in the documentation: http://pandas.pydata.org/pandas-docs/stable/user_guide/indexing.html#returning-a-view-versus-a-copy\n",
      "  self._update_inplace(result)\n"
     ]
    },
    {
     "name": "stdout",
     "output_type": "stream",
     "text": [
      "Popular SUV paint colors: \n",
      " black     1851\n",
      "white     1652\n",
      "silver    1351\n",
      "grey      1026\n",
      "blue       902\n",
      "red        793\n",
      "green      380\n",
      "brown      317\n",
      "custom     253\n",
      "orange      69\n",
      "yellow      40\n",
      "purple      37\n",
      "Name: paint_color, dtype: int64\n",
      "\n",
      "Popular Sedan colors: \n",
      " silver    1805\n",
      "black     1572\n",
      "grey      1430\n",
      "white     1303\n",
      "blue      1067\n",
      "red        818\n",
      "custom     237\n",
      "brown      231\n",
      "green      180\n",
      "purple      23\n",
      "yellow      18\n",
      "orange       6\n",
      "Name: paint_color, dtype: int64\n"
     ]
    },
    {
     "data": {
      "image/png": "[encoded data removed]",
      "text/plain": [
       "<Figure size 720x360 with 1 Axes>"
      ]
     },
     "metadata": {
      "needs_background": "light"
     },
     "output_type": "display_data"
    },
    {
     "data": {
      "image/png": "[encoded data removed]",
      "text/plain": [
       "<Figure size 720x360 with 1 Axes>"
      ]
     },
     "metadata": {
      "needs_background": "light"
     },
     "output_type": "display_data"
    }
   ],
   "source": [
    "\n",
    "# Categorical variables    \n",
    "suv_data.paint_color.dropna(inplace=True)\n",
    "sedan_data.paint_color.dropna(inplace=True)\n",
    "\n",
    "# Ignore warnings\n",
    "warnings.filterwarnings('ignore')\n",
    "\n",
    "# Plotting boxplots for paint color and price\n",
    "suv_data.boxplot(by='paint_color',column=['price'],figsize= (10,5))\n",
    "sedan_data.boxplot(by='paint_color',column=['price'],figsize=(10,5))\n",
    "\n",
    "# Compare value counts\n",
    "\n",
    "print(\"Popular SUV paint colors:\",'\\n',suv_data.paint_color.value_counts())\n",
    "print()\n",
    "print('Popular Sedan colors:','\\n',sedan_data.paint_color.value_counts())\n",
    "\n",
    "\n",
    "\n",
    "\n"
   ]
  },
  {
   "cell_type": "markdown",
   "metadata": {},
   "source": [
    "The distributions among paint colors are most likely random. Orange or other bright colors are the most expensive on average.  A reason for this may be that sport cars tend to have be brighter colors. Automatic transmissions are the most popular transmission among cars listed. Automatic transmissions are more expensive for sedans, however manual is more expensive for SUV's.\n"
   ]
  },
  {
   "cell_type": "code",
   "execution_count": 63,
   "metadata": {
    "scrolled": false
   },
   "outputs": [
    {
     "name": "stdout",
     "output_type": "stream",
     "text": [
      "Popular SUV transmission types: \n",
      " automatic    10042\n",
      "manual         439\n",
      "other           87\n",
      "Name: transmission, dtype: int64\n",
      "\n",
      "Popular SUV transmission types: \n",
      " automatic    9987\n",
      "manual        512\n",
      "other          68\n",
      "Name: transmission, dtype: int64\n"
     ]
    },
    {
     "data": {
      "image/png": "[encoded data removed]",
      "text/plain": [
       "<Figure size 720x360 with 1 Axes>"
      ]
     },
     "metadata": {
      "needs_background": "light"
     },
     "output_type": "display_data"
    },
    {
     "data": {
      "image/png": "[encoded data removed]",
      "text/plain": [
       "<Figure size 720x360 with 1 Axes>"
      ]
     },
     "metadata": {
      "needs_background": "light"
     },
     "output_type": "display_data"
    }
   ],
   "source": [
    "# Transmission\n",
    "suv_data.boxplot(by='transmission',column=['price'],figsize= (10,5))\n",
    "sedan_data.boxplot(by='transmission',column=['price'],figsize=(10,5))\n",
    "\n",
    "# Transmission value counts\n",
    "print(\"Popular SUV transmission types:\",'\\n', suv_data.transmission.value_counts())\n",
    "print()\n",
    "print(\"Popular SUV transmission types:\",'\\n',sedan_data.transmission.value_counts())"
   ]
  },
  {
   "cell_type": "markdown",
   "metadata": {},
   "source": [
    "## General conclusion\n"
   ]
  },
  {
   "cell_type": "markdown",
   "metadata": {},
   "source": [
    "After studying the general information, there were missing values in multiple columns. The is_4wd column contains the most missing values with about half of the total entries. The is_4wd column consisted of  Boolean values. If a Boolean field contains only True (or 1) values, it's reasonable to assume that the missing values are False or 0. Therefore the missing 'is_4wd' column values were  filled with 0s. The percentage of missing values in the 'cylinders' colummn was 7% and missing values in 'model_year' is 11%, which is insignificant so they were dropped. The odometer column was filled in using the average value per model_year. Columns with float datatypes were converted to int64 in order to save memory.\n",
    "\n",
    "The vehicle's age (in years) when the ad was placed and average mileage per year were calculated and added to the table.In the condition column, the string values were replaced with a numeric scale. The following parameters: price, vehicle's age when the ad was\n",
    "placed, mileage, number of cylinders, and condition were analyzed and histograms plotted of each.The histograms with or without outliers seem to be very similar, with almost identical peaks.\n",
    "\n",
    "According to the analysis, vehicles that are listed for more than 150 days are rare and at around 200 days the histogram zeroes out. The average amount of days listed is about 40 days. Sedans and SUV's are the most popular type of vehicle listed. According to the above histograms and correlation matrix, the vehicle age when listed and average mileage impact price the most.\n",
    "\n",
    "The distributions among paint colors are most likely random. Orange or other bright colors are the most expensive on average.  A reason for this may be that sport cars tend to have be brighter colors. Automatic transmissions are the most popular transmission among cars listed. Automatic transmissions are more expensive for sedans, however manual is more expensive for SUV's.\n",
    "\n",
    "\n",
    "\n",
    "\n",
    "\n"
   ]
  }
 ],
 "metadata": {
  "ExecuteTimeLog": [
   {
    "duration": 828,
    "start_time": "2021-11-16T09:21:11.304Z"
   },
   {
    "duration": 893,
    "start_time": "2021-11-16T09:21:17.728Z"
   },
   {
    "duration": 1150,
    "start_time": "2021-11-16T09:21:29.568Z"
   },
   {
    "duration": 3,
    "start_time": "2021-11-16T09:24:14.495Z"
   },
   {
    "duration": 120,
    "start_time": "2021-11-16T09:24:46.630Z"
   },
   {
    "duration": 3,
    "start_time": "2021-11-16T09:28:27.882Z"
   },
   {
    "duration": 4,
    "start_time": "2021-11-16T09:29:54.281Z"
   },
   {
    "duration": 3,
    "start_time": "2021-11-16T09:30:45.936Z"
   },
   {
    "duration": 4,
    "start_time": "2021-11-16T09:31:06.300Z"
   },
   {
    "duration": 113,
    "start_time": "2021-11-16T09:31:37.208Z"
   },
   {
    "duration": 143,
    "start_time": "2021-11-16T09:31:48.656Z"
   },
   {
    "duration": 98,
    "start_time": "2021-11-16T09:31:55.678Z"
   },
   {
    "duration": 3,
    "start_time": "2021-11-16T09:32:08.535Z"
   },
   {
    "duration": 111,
    "start_time": "2021-11-16T09:32:10.120Z"
   },
   {
    "duration": 3,
    "start_time": "2021-11-16T09:32:15.732Z"
   },
   {
    "duration": 4,
    "start_time": "2021-11-16T09:32:29.423Z"
   },
   {
    "duration": 3,
    "start_time": "2021-11-16T10:03:03.074Z"
   },
   {
    "duration": 3,
    "start_time": "2021-11-16T10:10:01.288Z"
   },
   {
    "duration": 3,
    "start_time": "2021-11-16T10:10:46.923Z"
   },
   {
    "duration": 121,
    "start_time": "2021-11-16T10:37:46.494Z"
   },
   {
    "duration": 125,
    "start_time": "2021-11-16T10:38:20.632Z"
   },
   {
    "duration": 112,
    "start_time": "2021-11-16T10:46:53.001Z"
   },
   {
    "duration": 110,
    "start_time": "2021-11-16T10:48:25.775Z"
   },
   {
    "duration": 3,
    "start_time": "2021-11-16T10:50:18.720Z"
   },
   {
    "duration": 4,
    "start_time": "2021-11-16T10:50:37.649Z"
   },
   {
    "duration": 2,
    "start_time": "2021-11-16T10:50:51.884Z"
   },
   {
    "duration": 3,
    "start_time": "2021-11-16T10:51:56.237Z"
   },
   {
    "duration": 101,
    "start_time": "2021-11-16T10:53:13.791Z"
   },
   {
    "duration": 3,
    "start_time": "2021-11-16T10:55:59.186Z"
   },
   {
    "duration": 3,
    "start_time": "2021-11-16T10:56:10.751Z"
   },
   {
    "duration": 3,
    "start_time": "2021-11-16T10:56:49.038Z"
   },
   {
    "duration": 3,
    "start_time": "2021-11-16T10:56:49.174Z"
   },
   {
    "duration": 4,
    "start_time": "2021-11-16T10:56:49.414Z"
   },
   {
    "duration": 3,
    "start_time": "2021-11-16T10:56:49.680Z"
   },
   {
    "duration": 3,
    "start_time": "2021-11-16T10:56:50.370Z"
   },
   {
    "duration": 114,
    "start_time": "2021-11-16T10:59:34.518Z"
   },
   {
    "duration": 3,
    "start_time": "2021-11-16T11:01:41.201Z"
   },
   {
    "duration": 116,
    "start_time": "2021-11-16T11:01:48.754Z"
   },
   {
    "duration": 3,
    "start_time": "2021-11-16T11:02:16.685Z"
   },
   {
    "duration": 3,
    "start_time": "2021-11-16T11:02:19.479Z"
   },
   {
    "duration": 3,
    "start_time": "2021-11-16T11:02:47.067Z"
   },
   {
    "duration": 3,
    "start_time": "2021-11-16T11:02:49.353Z"
   },
   {
    "duration": 3,
    "start_time": "2021-11-16T11:03:07.835Z"
   },
   {
    "duration": 3,
    "start_time": "2021-11-16T11:03:07.953Z"
   },
   {
    "duration": 112,
    "start_time": "2021-11-16T11:07:52.072Z"
   },
   {
    "duration": 187,
    "start_time": "2021-11-16T11:09:23.468Z"
   },
   {
    "duration": 4,
    "start_time": "2021-11-16T11:10:01.455Z"
   },
   {
    "duration": 3,
    "start_time": "2021-11-16T11:10:05.069Z"
   },
   {
    "duration": 4,
    "start_time": "2021-11-16T11:10:13.376Z"
   },
   {
    "duration": 3,
    "start_time": "2021-11-16T11:10:14.434Z"
   },
   {
    "duration": 3,
    "start_time": "2021-11-16T11:10:22.853Z"
   },
   {
    "duration": 4,
    "start_time": "2021-11-16T11:27:29.279Z"
   },
   {
    "duration": 4,
    "start_time": "2021-11-16T11:29:08.919Z"
   },
   {
    "duration": 118,
    "start_time": "2021-11-16T11:29:46.703Z"
   },
   {
    "duration": 437,
    "start_time": "2021-11-16T11:36:02.181Z"
   },
   {
    "duration": 157,
    "start_time": "2021-11-16T11:36:14.388Z"
   },
   {
    "duration": 207,
    "start_time": "2021-11-16T11:47:15.898Z"
   },
   {
    "duration": 3,
    "start_time": "2021-11-16T11:53:52.092Z"
   },
   {
    "duration": 3,
    "start_time": "2021-11-16T11:53:52.236Z"
   },
   {
    "duration": 3,
    "start_time": "2021-11-16T11:59:12.005Z"
   },
   {
    "duration": 112,
    "start_time": "2021-11-16T12:00:33.446Z"
   },
   {
    "duration": 3,
    "start_time": "2021-11-16T12:02:14.453Z"
   },
   {
    "duration": 3,
    "start_time": "2021-11-16T12:02:39.512Z"
   },
   {
    "duration": 106,
    "start_time": "2021-11-16T12:03:03.460Z"
   },
   {
    "duration": 959,
    "start_time": "2021-12-14T19:36:02.484Z"
   },
   {
    "duration": 2118,
    "start_time": "2021-12-14T19:36:16.243Z"
   },
   {
    "duration": 357,
    "start_time": "2021-12-14T19:36:43.641Z"
   },
   {
    "duration": 27,
    "start_time": "2021-12-14T19:37:07.142Z"
   },
   {
    "duration": 11,
    "start_time": "2021-12-14T19:37:09.200Z"
   },
   {
    "duration": 117,
    "start_time": "2021-12-14T19:37:14.235Z"
   },
   {
    "duration": 97,
    "start_time": "2021-12-14T19:37:33.117Z"
   },
   {
    "duration": 275,
    "start_time": "2021-12-14T20:28:21.996Z"
   },
   {
    "duration": 1975,
    "start_time": "2021-12-14T20:28:27.176Z"
   },
   {
    "duration": 15,
    "start_time": "2021-12-14T20:29:16.598Z"
   },
   {
    "duration": 18,
    "start_time": "2021-12-14T20:29:33.083Z"
   },
   {
    "duration": 12,
    "start_time": "2021-12-14T20:30:53.659Z"
   },
   {
    "duration": 13,
    "start_time": "2021-12-14T20:31:03.833Z"
   },
   {
    "duration": 98,
    "start_time": "2021-12-18T18:38:58.425Z"
   },
   {
    "duration": 73,
    "start_time": "2021-12-18T18:43:52.867Z"
   },
   {
    "duration": 917,
    "start_time": "2021-12-24T00:23:55.747Z"
   },
   {
    "duration": 591,
    "start_time": "2021-12-24T00:23:56.668Z"
   },
   {
    "duration": 31,
    "start_time": "2021-12-24T00:23:57.263Z"
   },
   {
    "duration": 12,
    "start_time": "2021-12-24T00:23:57.296Z"
   },
   {
    "duration": 1883,
    "start_time": "2021-12-24T00:23:57.310Z"
   },
   {
    "duration": -183,
    "start_time": "2021-12-24T00:23:59.378Z"
   },
   {
    "duration": 20,
    "start_time": "2021-12-24T00:24:04.553Z"
   },
   {
    "duration": 169,
    "start_time": "2021-12-24T00:28:18.588Z"
   },
   {
    "duration": 450,
    "start_time": "2021-12-24T00:33:06.675Z"
   },
   {
    "duration": 798,
    "start_time": "2021-12-24T00:33:11.939Z"
   },
   {
    "duration": 138,
    "start_time": "2021-12-24T00:33:12.740Z"
   },
   {
    "duration": 26,
    "start_time": "2021-12-24T00:33:12.881Z"
   },
   {
    "duration": 12,
    "start_time": "2021-12-24T00:33:12.909Z"
   },
   {
    "duration": 17,
    "start_time": "2021-12-24T00:33:14.035Z"
   },
   {
    "duration": 11,
    "start_time": "2021-12-24T00:33:49.210Z"
   },
   {
    "duration": 621,
    "start_time": "2021-12-24T00:34:12.870Z"
   },
   {
    "duration": 404,
    "start_time": "2021-12-24T00:34:15.380Z"
   },
   {
    "duration": 9,
    "start_time": "2021-12-24T00:34:22.933Z"
   },
   {
    "duration": 13,
    "start_time": "2021-12-24T00:35:06.907Z"
   },
   {
    "duration": 12,
    "start_time": "2021-12-24T00:37:03.438Z"
   },
   {
    "duration": 17,
    "start_time": "2021-12-24T00:37:45.503Z"
   },
   {
    "duration": 18,
    "start_time": "2021-12-24T01:03:19.309Z"
   },
   {
    "duration": 17,
    "start_time": "2021-12-24T01:03:34.066Z"
   },
   {
    "duration": 29,
    "start_time": "2021-12-24T01:04:03.823Z"
   },
   {
    "duration": 10,
    "start_time": "2021-12-24T01:06:35.408Z"
   },
   {
    "duration": 39,
    "start_time": "2021-12-24T01:08:52.125Z"
   },
   {
    "duration": 75,
    "start_time": "2021-12-24T01:09:05.091Z"
   },
   {
    "duration": 383,
    "start_time": "2021-12-25T00:22:00.846Z"
   },
   {
    "duration": 373,
    "start_time": "2021-12-25T00:22:09.203Z"
   },
   {
    "duration": 27,
    "start_time": "2021-12-25T00:22:17.640Z"
   },
   {
    "duration": 32,
    "start_time": "2021-12-25T00:26:15.013Z"
   },
   {
    "duration": 37,
    "start_time": "2021-12-25T00:26:30.497Z"
   },
   {
    "duration": 27,
    "start_time": "2021-12-25T00:26:45.388Z"
   },
   {
    "duration": 27,
    "start_time": "2021-12-25T00:27:02.499Z"
   },
   {
    "duration": 26,
    "start_time": "2021-12-25T00:27:13.211Z"
   },
   {
    "duration": 38,
    "start_time": "2021-12-25T00:27:57.155Z"
   },
   {
    "duration": 33,
    "start_time": "2021-12-25T00:28:10.645Z"
   },
   {
    "duration": 34,
    "start_time": "2021-12-25T00:53:33.774Z"
   },
   {
    "duration": 48,
    "start_time": "2021-12-25T00:53:44.049Z"
   },
   {
    "duration": 396,
    "start_time": "2021-12-25T00:53:49.046Z"
   },
   {
    "duration": 828,
    "start_time": "2021-12-25T00:54:00.534Z"
   },
   {
    "duration": 124,
    "start_time": "2021-12-25T00:54:01.364Z"
   },
   {
    "duration": 95,
    "start_time": "2021-12-25T00:54:01.491Z"
   },
   {
    "duration": 11,
    "start_time": "2021-12-25T00:54:01.588Z"
   },
   {
    "duration": 33,
    "start_time": "2021-12-25T00:54:01.692Z"
   },
   {
    "duration": 3,
    "start_time": "2021-12-25T00:54:46.749Z"
   },
   {
    "duration": 113,
    "start_time": "2021-12-25T00:54:46.754Z"
   },
   {
    "duration": 71,
    "start_time": "2021-12-25T00:54:46.870Z"
   },
   {
    "duration": 11,
    "start_time": "2021-12-25T00:54:46.958Z"
   },
   {
    "duration": 32,
    "start_time": "2021-12-25T00:55:11.629Z"
   },
   {
    "duration": 122,
    "start_time": "2021-12-25T00:55:29.392Z"
   },
   {
    "duration": 32,
    "start_time": "2021-12-25T00:55:39.217Z"
   },
   {
    "duration": 35,
    "start_time": "2021-12-25T20:47:15.197Z"
   },
   {
    "duration": 36,
    "start_time": "2021-12-25T20:47:24.674Z"
   },
   {
    "duration": 34,
    "start_time": "2021-12-25T20:47:35.370Z"
   },
   {
    "duration": 13,
    "start_time": "2021-12-25T20:53:06.855Z"
   },
   {
    "duration": 15,
    "start_time": "2021-12-25T20:53:13.557Z"
   },
   {
    "duration": 19,
    "start_time": "2021-12-25T21:02:38.115Z"
   },
   {
    "duration": 14,
    "start_time": "2021-12-25T21:03:02.421Z"
   },
   {
    "duration": 133,
    "start_time": "2021-12-25T21:03:06.454Z"
   },
   {
    "duration": 116,
    "start_time": "2021-12-25T21:03:12.436Z"
   },
   {
    "duration": 129,
    "start_time": "2021-12-25T21:03:26.463Z"
   },
   {
    "duration": 13,
    "start_time": "2021-12-25T21:03:32.459Z"
   },
   {
    "duration": 127,
    "start_time": "2021-12-25T21:16:00.402Z"
   },
   {
    "duration": 14,
    "start_time": "2021-12-25T21:16:05.347Z"
   },
   {
    "duration": 130,
    "start_time": "2021-12-25T21:16:14.870Z"
   },
   {
    "duration": 15,
    "start_time": "2021-12-25T21:16:23.154Z"
   },
   {
    "duration": 17,
    "start_time": "2021-12-25T21:16:48.529Z"
   },
   {
    "duration": 773,
    "start_time": "2021-12-25T21:25:06.446Z"
   },
   {
    "duration": 571,
    "start_time": "2021-12-25T21:25:07.222Z"
   },
   {
    "duration": 89,
    "start_time": "2021-12-25T21:25:07.796Z"
   },
   {
    "duration": 12,
    "start_time": "2021-12-25T21:25:07.888Z"
   },
   {
    "duration": 20,
    "start_time": "2021-12-27T18:26:18.460Z"
   },
   {
    "duration": 36,
    "start_time": "2021-12-28T23:55:08.889Z"
   },
   {
    "duration": 34,
    "start_time": "2021-12-28T23:55:26.545Z"
   },
   {
    "duration": 19,
    "start_time": "2021-12-28T23:55:47.218Z"
   },
   {
    "duration": 20,
    "start_time": "2021-12-28T23:57:27.049Z"
   },
   {
    "duration": 21,
    "start_time": "2021-12-28T23:57:41.156Z"
   },
   {
    "duration": 21,
    "start_time": "2021-12-28T23:58:22.708Z"
   },
   {
    "duration": 793,
    "start_time": "2021-12-28T23:58:32.725Z"
   },
   {
    "duration": 113,
    "start_time": "2021-12-28T23:58:33.521Z"
   },
   {
    "duration": 84,
    "start_time": "2021-12-28T23:58:33.637Z"
   },
   {
    "duration": 11,
    "start_time": "2021-12-28T23:58:33.724Z"
   },
   {
    "duration": 24,
    "start_time": "2021-12-29T00:00:06.490Z"
   },
   {
    "duration": 475,
    "start_time": "2021-12-29T00:00:10.384Z"
   },
   {
    "duration": 25,
    "start_time": "2021-12-29T00:00:15.612Z"
   },
   {
    "duration": 1510,
    "start_time": "2021-12-29T00:00:37.146Z"
   },
   {
    "duration": 1728,
    "start_time": "2021-12-29T00:00:55.016Z"
   },
   {
    "duration": 1596,
    "start_time": "2021-12-29T00:01:09.426Z"
   },
   {
    "duration": 1530,
    "start_time": "2021-12-29T00:01:13.577Z"
   },
   {
    "duration": 1469,
    "start_time": "2021-12-29T00:01:32.555Z"
   },
   {
    "duration": 4,
    "start_time": "2021-12-29T00:01:38.701Z"
   },
   {
    "duration": 115,
    "start_time": "2021-12-29T00:01:38.707Z"
   },
   {
    "duration": 85,
    "start_time": "2021-12-29T00:01:38.825Z"
   },
   {
    "duration": 11,
    "start_time": "2021-12-29T00:01:38.913Z"
   },
   {
    "duration": 46,
    "start_time": "2021-12-29T00:01:38.927Z"
   },
   {
    "duration": 1457,
    "start_time": "2021-12-29T00:01:41.425Z"
   },
   {
    "duration": 31,
    "start_time": "2021-12-29T00:03:22.947Z"
   },
   {
    "duration": 746,
    "start_time": "2021-12-29T00:07:26.607Z"
   },
   {
    "duration": 119,
    "start_time": "2021-12-29T00:07:27.355Z"
   },
   {
    "duration": 86,
    "start_time": "2021-12-29T00:07:27.477Z"
   },
   {
    "duration": 11,
    "start_time": "2021-12-29T00:07:27.565Z"
   },
   {
    "duration": 33,
    "start_time": "2021-12-29T00:07:27.578Z"
   },
   {
    "duration": 41,
    "start_time": "2021-12-29T00:08:24.578Z"
   },
   {
    "duration": 40,
    "start_time": "2021-12-29T00:09:00.809Z"
   },
   {
    "duration": 1544,
    "start_time": "2021-12-29T00:09:08.928Z"
   },
   {
    "duration": 553,
    "start_time": "2021-12-29T00:10:19.698Z"
   },
   {
    "duration": 764,
    "start_time": "2021-12-29T00:10:24.682Z"
   },
   {
    "duration": 117,
    "start_time": "2021-12-29T00:10:25.449Z"
   },
   {
    "duration": 94,
    "start_time": "2021-12-29T00:10:25.569Z"
   },
   {
    "duration": 12,
    "start_time": "2021-12-29T00:10:25.665Z"
   },
   {
    "duration": 25,
    "start_time": "2021-12-29T00:10:25.679Z"
   },
   {
    "duration": 24,
    "start_time": "2021-12-29T00:10:27.496Z"
   },
   {
    "duration": 792,
    "start_time": "2021-12-29T00:12:17.018Z"
   },
   {
    "duration": 112,
    "start_time": "2021-12-29T00:12:17.813Z"
   },
   {
    "duration": 91,
    "start_time": "2021-12-29T00:12:17.928Z"
   },
   {
    "duration": 11,
    "start_time": "2021-12-29T00:12:18.021Z"
   },
   {
    "duration": 29,
    "start_time": "2021-12-29T00:12:20.043Z"
   },
   {
    "duration": 796,
    "start_time": "2021-12-29T00:13:35.031Z"
   },
   {
    "duration": 116,
    "start_time": "2021-12-29T00:13:35.830Z"
   },
   {
    "duration": 87,
    "start_time": "2021-12-29T00:13:35.949Z"
   },
   {
    "duration": 25,
    "start_time": "2021-12-29T00:13:36.039Z"
   },
   {
    "duration": 30,
    "start_time": "2021-12-29T00:13:36.066Z"
   },
   {
    "duration": 520,
    "start_time": "2021-12-29T00:14:27.566Z"
   },
   {
    "duration": 789,
    "start_time": "2021-12-29T00:14:36.845Z"
   },
   {
    "duration": 122,
    "start_time": "2021-12-29T00:14:37.637Z"
   },
   {
    "duration": 102,
    "start_time": "2021-12-29T00:14:37.767Z"
   },
   {
    "duration": 12,
    "start_time": "2021-12-29T00:14:37.873Z"
   },
   {
    "duration": 28,
    "start_time": "2021-12-29T00:14:37.888Z"
   },
   {
    "duration": 1576,
    "start_time": "2021-12-29T00:14:44.014Z"
   },
   {
    "duration": 439,
    "start_time": "2021-12-29T00:21:46.789Z"
   },
   {
    "duration": 747,
    "start_time": "2021-12-29T00:21:49.482Z"
   },
   {
    "duration": 123,
    "start_time": "2021-12-29T00:21:50.232Z"
   },
   {
    "duration": 101,
    "start_time": "2021-12-29T00:21:50.361Z"
   },
   {
    "duration": 14,
    "start_time": "2021-12-29T00:21:50.466Z"
   },
   {
    "duration": 1579,
    "start_time": "2021-12-29T00:21:50.639Z"
   },
   {
    "duration": 779,
    "start_time": "2021-12-29T00:22:21.386Z"
   },
   {
    "duration": 122,
    "start_time": "2021-12-29T00:22:22.168Z"
   },
   {
    "duration": 101,
    "start_time": "2021-12-29T00:22:22.293Z"
   },
   {
    "duration": 13,
    "start_time": "2021-12-29T00:22:22.397Z"
   },
   {
    "duration": 5069,
    "start_time": "2021-12-29T00:22:31.431Z"
   },
   {
    "duration": 730,
    "start_time": "2021-12-29T00:22:59.507Z"
   },
   {
    "duration": 120,
    "start_time": "2021-12-29T00:23:00.240Z"
   },
   {
    "duration": 113,
    "start_time": "2021-12-29T00:23:00.362Z"
   },
   {
    "duration": 17,
    "start_time": "2021-12-29T00:23:00.478Z"
   },
   {
    "duration": 5858,
    "start_time": "2021-12-29T00:23:00.497Z"
   },
   {
    "duration": 5660,
    "start_time": "2021-12-29T00:23:14.524Z"
   },
   {
    "duration": 826,
    "start_time": "2021-12-29T00:23:43.853Z"
   },
   {
    "duration": 118,
    "start_time": "2021-12-29T00:23:44.682Z"
   },
   {
    "duration": 99,
    "start_time": "2021-12-29T00:23:44.803Z"
   },
   {
    "duration": 12,
    "start_time": "2021-12-29T00:23:44.904Z"
   },
   {
    "duration": 51,
    "start_time": "2021-12-29T00:23:44.919Z"
   },
   {
    "duration": 2638,
    "start_time": "2021-12-29T00:23:58.711Z"
   },
   {
    "duration": 423,
    "start_time": "2021-12-31T20:53:06.113Z"
   },
   {
    "duration": 762,
    "start_time": "2021-12-31T20:53:09.645Z"
   },
   {
    "duration": 114,
    "start_time": "2021-12-31T20:53:10.410Z"
   },
   {
    "duration": 82,
    "start_time": "2021-12-31T20:53:10.527Z"
   },
   {
    "duration": 11,
    "start_time": "2021-12-31T20:53:10.612Z"
   },
   {
    "duration": 51,
    "start_time": "2021-12-31T20:53:10.625Z"
   },
   {
    "duration": 445,
    "start_time": "2021-12-31T20:53:31.385Z"
   },
   {
    "duration": 388,
    "start_time": "2021-12-31T20:53:59.006Z"
   },
   {
    "duration": 782,
    "start_time": "2021-12-31T20:54:07.030Z"
   },
   {
    "duration": 115,
    "start_time": "2021-12-31T20:54:07.814Z"
   },
   {
    "duration": 87,
    "start_time": "2021-12-31T20:54:07.932Z"
   },
   {
    "duration": 10,
    "start_time": "2021-12-31T20:54:08.022Z"
   },
   {
    "duration": 49,
    "start_time": "2021-12-31T20:54:08.035Z"
   },
   {
    "duration": 774,
    "start_time": "2021-12-31T20:54:30.592Z"
   },
   {
    "duration": 119,
    "start_time": "2021-12-31T20:54:31.369Z"
   },
   {
    "duration": 92,
    "start_time": "2021-12-31T20:54:31.491Z"
   },
   {
    "duration": 11,
    "start_time": "2021-12-31T20:54:31.585Z"
   },
   {
    "duration": 33,
    "start_time": "2021-12-31T20:54:43.558Z"
   },
   {
    "duration": 507,
    "start_time": "2021-12-31T20:55:00.134Z"
   },
   {
    "duration": 748,
    "start_time": "2021-12-31T20:55:07.891Z"
   },
   {
    "duration": 125,
    "start_time": "2021-12-31T20:55:08.643Z"
   },
   {
    "duration": 100,
    "start_time": "2021-12-31T20:55:08.772Z"
   },
   {
    "duration": 13,
    "start_time": "2021-12-31T20:55:08.876Z"
   },
   {
    "duration": 69,
    "start_time": "2021-12-31T20:55:08.892Z"
   },
   {
    "duration": 27,
    "start_time": "2021-12-31T20:55:21.898Z"
   },
   {
    "duration": 769,
    "start_time": "2021-12-31T20:55:31.045Z"
   },
   {
    "duration": 115,
    "start_time": "2021-12-31T20:55:31.817Z"
   },
   {
    "duration": 95,
    "start_time": "2021-12-31T20:55:31.935Z"
   },
   {
    "duration": 28,
    "start_time": "2021-12-31T20:55:32.033Z"
   },
   {
    "duration": 30,
    "start_time": "2021-12-31T20:55:32.064Z"
   },
   {
    "duration": 26,
    "start_time": "2021-12-31T20:55:44.917Z"
   },
   {
    "duration": 144,
    "start_time": "2021-12-31T20:59:15.525Z"
   },
   {
    "duration": 133,
    "start_time": "2021-12-31T20:59:35.700Z"
   },
   {
    "duration": 456,
    "start_time": "2021-12-31T20:59:50.852Z"
   },
   {
    "duration": 750,
    "start_time": "2021-12-31T20:59:55.772Z"
   },
   {
    "duration": 114,
    "start_time": "2021-12-31T20:59:56.524Z"
   },
   {
    "duration": 83,
    "start_time": "2021-12-31T20:59:56.640Z"
   },
   {
    "duration": 11,
    "start_time": "2021-12-31T20:59:56.726Z"
   },
   {
    "duration": 440,
    "start_time": "2021-12-31T20:59:56.739Z"
   },
   {
    "duration": 21,
    "start_time": "2021-12-31T21:00:49.606Z"
   },
   {
    "duration": 3,
    "start_time": "2022-01-01T00:31:08.817Z"
   },
   {
    "duration": 111,
    "start_time": "2022-01-01T00:31:08.824Z"
   },
   {
    "duration": 74,
    "start_time": "2022-01-01T00:31:08.937Z"
   },
   {
    "duration": 11,
    "start_time": "2022-01-01T00:31:09.013Z"
   },
   {
    "duration": 44,
    "start_time": "2022-01-01T00:31:09.026Z"
   },
   {
    "duration": 750,
    "start_time": "2022-01-01T18:14:36.318Z"
   },
   {
    "duration": 120,
    "start_time": "2022-01-01T18:14:37.071Z"
   },
   {
    "duration": 101,
    "start_time": "2022-01-01T18:14:37.194Z"
   },
   {
    "duration": 13,
    "start_time": "2022-01-01T18:14:37.298Z"
   },
   {
    "duration": 57,
    "start_time": "2022-01-01T18:14:37.315Z"
   },
   {
    "duration": 4,
    "start_time": "2022-01-01T18:14:43.795Z"
   },
   {
    "duration": 114,
    "start_time": "2022-01-01T18:14:43.801Z"
   },
   {
    "duration": 76,
    "start_time": "2022-01-01T18:14:43.918Z"
   },
   {
    "duration": 11,
    "start_time": "2022-01-01T18:14:43.997Z"
   },
   {
    "duration": 24,
    "start_time": "2022-01-01T18:14:46.953Z"
   },
   {
    "duration": 479,
    "start_time": "2022-01-01T18:14:49.686Z"
   },
   {
    "duration": 417,
    "start_time": "2022-01-01T18:14:58.915Z"
   },
   {
    "duration": 397,
    "start_time": "2022-01-01T18:15:32.079Z"
   },
   {
    "duration": 732,
    "start_time": "2022-01-01T18:17:57.403Z"
   },
   {
    "duration": 114,
    "start_time": "2022-01-01T18:17:58.137Z"
   },
   {
    "duration": 83,
    "start_time": "2022-01-01T18:17:58.254Z"
   },
   {
    "duration": 24,
    "start_time": "2022-01-01T18:17:58.339Z"
   },
   {
    "duration": 23,
    "start_time": "2022-01-01T18:18:01.344Z"
   },
   {
    "duration": 587,
    "start_time": "2022-01-01T18:18:11.648Z"
   },
   {
    "duration": 415,
    "start_time": "2022-01-01T18:21:49.327Z"
   },
   {
    "duration": 404,
    "start_time": "2022-01-01T18:23:29.189Z"
   },
   {
    "duration": 392,
    "start_time": "2022-01-01T18:24:47.467Z"
   },
   {
    "duration": 413,
    "start_time": "2022-01-01T18:25:13.569Z"
   },
   {
    "duration": 478,
    "start_time": "2022-01-01T18:25:52.444Z"
   },
   {
    "duration": 28,
    "start_time": "2022-01-01T18:26:00.609Z"
   },
   {
    "duration": 25,
    "start_time": "2022-01-01T18:29:42.035Z"
   },
   {
    "duration": 62,
    "start_time": "2022-01-01T18:31:03.712Z"
   },
   {
    "duration": 419,
    "start_time": "2022-01-01T18:31:28.238Z"
   },
   {
    "duration": 395,
    "start_time": "2022-01-01T18:33:11.756Z"
   },
   {
    "duration": 542,
    "start_time": "2022-01-01T18:33:28.691Z"
   },
   {
    "duration": 442,
    "start_time": "2022-01-01T18:33:42.979Z"
   },
   {
    "duration": 28,
    "start_time": "2022-01-01T18:33:45.807Z"
   },
   {
    "duration": 426,
    "start_time": "2022-01-01T18:34:01.016Z"
   },
   {
    "duration": 30,
    "start_time": "2022-01-01T18:34:04.596Z"
   },
   {
    "duration": 21,
    "start_time": "2022-01-01T18:34:09.841Z"
   },
   {
    "duration": 22,
    "start_time": "2022-01-01T18:34:29.831Z"
   },
   {
    "duration": 127,
    "start_time": "2022-01-01T18:34:40.109Z"
   },
   {
    "duration": 29,
    "start_time": "2022-01-01T18:34:43.503Z"
   },
   {
    "duration": 27,
    "start_time": "2022-01-01T18:34:46.482Z"
   },
   {
    "duration": 25,
    "start_time": "2022-01-01T18:35:01.493Z"
   },
   {
    "duration": 773,
    "start_time": "2022-01-01T18:35:08.465Z"
   },
   {
    "duration": 1216,
    "start_time": "2022-01-01T18:35:12.134Z"
   },
   {
    "duration": 1209,
    "start_time": "2022-01-01T18:35:20.313Z"
   },
   {
    "duration": 112,
    "start_time": "2022-01-01T18:35:21.526Z"
   },
   {
    "duration": 86,
    "start_time": "2022-01-01T18:35:21.640Z"
   },
   {
    "duration": 11,
    "start_time": "2022-01-01T18:35:21.728Z"
   },
   {
    "duration": 21,
    "start_time": "2022-01-01T18:35:21.808Z"
   },
   {
    "duration": 31,
    "start_time": "2022-01-01T18:35:37.244Z"
   },
   {
    "duration": 29,
    "start_time": "2022-01-01T18:36:13.225Z"
   },
   {
    "duration": 48,
    "start_time": "2022-01-01T18:36:19.235Z"
   },
   {
    "duration": 770,
    "start_time": "2022-01-01T18:37:02.027Z"
   },
   {
    "duration": 51,
    "start_time": "2022-01-01T18:37:08.321Z"
   },
   {
    "duration": 50,
    "start_time": "2022-01-01T18:37:16.801Z"
   },
   {
    "duration": 50,
    "start_time": "2022-01-01T18:37:32.998Z"
   },
   {
    "duration": 426,
    "start_time": "2022-01-01T18:39:25.903Z"
   },
   {
    "duration": 439,
    "start_time": "2022-01-01T18:39:35.498Z"
   },
   {
    "duration": 409,
    "start_time": "2022-01-01T18:40:17.619Z"
   },
   {
    "duration": 45,
    "start_time": "2022-01-01T18:40:34.089Z"
   },
   {
    "duration": 29,
    "start_time": "2022-01-01T18:40:56.100Z"
   },
   {
    "duration": 48,
    "start_time": "2022-01-01T18:41:02.671Z"
   },
   {
    "duration": 49,
    "start_time": "2022-01-01T18:41:10.140Z"
   },
   {
    "duration": 428,
    "start_time": "2022-01-01T18:41:19.962Z"
   },
   {
    "duration": 48,
    "start_time": "2022-01-01T18:41:33.698Z"
   },
   {
    "duration": 22,
    "start_time": "2022-01-01T18:41:47.925Z"
   },
   {
    "duration": 52,
    "start_time": "2022-01-01T18:41:53.619Z"
   },
   {
    "duration": 119,
    "start_time": "2022-01-01T18:43:12.980Z"
   },
   {
    "duration": 54,
    "start_time": "2022-01-01T18:43:18.847Z"
   },
   {
    "duration": 35,
    "start_time": "2022-01-01T18:43:56.190Z"
   },
   {
    "duration": 34,
    "start_time": "2022-01-01T18:44:08.677Z"
   },
   {
    "duration": 404,
    "start_time": "2022-01-01T18:44:28.719Z"
   },
   {
    "duration": 27,
    "start_time": "2022-01-01T18:44:37.559Z"
   },
   {
    "duration": 28,
    "start_time": "2022-01-01T18:44:45.077Z"
   },
   {
    "duration": 31,
    "start_time": "2022-01-01T18:45:06.929Z"
   },
   {
    "duration": 33,
    "start_time": "2022-01-01T18:45:15.658Z"
   },
   {
    "duration": 54,
    "start_time": "2022-01-01T18:45:18.538Z"
   },
   {
    "duration": 52,
    "start_time": "2022-01-01T18:45:26.684Z"
   },
   {
    "duration": 48,
    "start_time": "2022-01-01T18:45:46.291Z"
   },
   {
    "duration": 382,
    "start_time": "2022-01-01T18:45:57.465Z"
   },
   {
    "duration": 59,
    "start_time": "2022-01-01T18:46:01.201Z"
   },
   {
    "duration": 52,
    "start_time": "2022-01-01T18:46:58.255Z"
   },
   {
    "duration": 220,
    "start_time": "2022-01-01T18:48:28.020Z"
   },
   {
    "duration": 231,
    "start_time": "2022-01-01T18:48:56.054Z"
   },
   {
    "duration": 50,
    "start_time": "2022-01-01T18:49:33.305Z"
   },
   {
    "duration": 397,
    "start_time": "2022-01-01T18:56:26.079Z"
   },
   {
    "duration": 55,
    "start_time": "2022-01-01T18:56:46.064Z"
   },
   {
    "duration": 52,
    "start_time": "2022-01-01T18:57:21.298Z"
   },
   {
    "duration": 390,
    "start_time": "2022-01-01T18:57:32.331Z"
   },
   {
    "duration": 931,
    "start_time": "2022-01-01T18:57:38.839Z"
   },
   {
    "duration": 52,
    "start_time": "2022-01-01T18:57:41.536Z"
   },
   {
    "duration": 392,
    "start_time": "2022-01-01T18:57:51.700Z"
   },
   {
    "duration": 47,
    "start_time": "2022-01-01T18:57:59.868Z"
   },
   {
    "duration": 48,
    "start_time": "2022-01-01T18:58:06.370Z"
   },
   {
    "duration": 21,
    "start_time": "2022-01-01T19:00:56.475Z"
   },
   {
    "duration": 50,
    "start_time": "2022-01-01T19:00:59.255Z"
   },
   {
    "duration": 50,
    "start_time": "2022-01-01T19:01:17.052Z"
   },
   {
    "duration": 748,
    "start_time": "2022-01-01T19:01:55.685Z"
   },
   {
    "duration": 111,
    "start_time": "2022-01-01T19:01:56.436Z"
   },
   {
    "duration": 88,
    "start_time": "2022-01-01T19:01:56.550Z"
   },
   {
    "duration": 25,
    "start_time": "2022-01-01T19:01:56.640Z"
   },
   {
    "duration": 20,
    "start_time": "2022-01-01T19:01:58.285Z"
   },
   {
    "duration": 71,
    "start_time": "2022-01-01T19:02:01.151Z"
   },
   {
    "duration": 19,
    "start_time": "2022-01-01T19:02:24.592Z"
   },
   {
    "duration": 806,
    "start_time": "2022-01-01T19:02:35.346Z"
   },
   {
    "duration": 115,
    "start_time": "2022-01-01T19:02:36.155Z"
   },
   {
    "duration": 91,
    "start_time": "2022-01-01T19:02:36.273Z"
   },
   {
    "duration": 12,
    "start_time": "2022-01-01T19:02:36.367Z"
   },
   {
    "duration": 22,
    "start_time": "2022-01-01T19:02:36.382Z"
   },
   {
    "duration": 52,
    "start_time": "2022-01-01T19:02:40.628Z"
   },
   {
    "duration": 540,
    "start_time": "2022-01-01T19:05:22.643Z"
   },
   {
    "duration": 49,
    "start_time": "2022-01-01T19:05:46.484Z"
   },
   {
    "duration": 383,
    "start_time": "2022-01-01T19:05:51.838Z"
   },
   {
    "duration": 391,
    "start_time": "2022-01-01T19:05:55.926Z"
   },
   {
    "duration": 768,
    "start_time": "2022-01-01T19:06:05.178Z"
   },
   {
    "duration": 116,
    "start_time": "2022-01-01T19:06:05.949Z"
   },
   {
    "duration": 93,
    "start_time": "2022-01-01T19:06:06.068Z"
   },
   {
    "duration": 11,
    "start_time": "2022-01-01T19:06:06.164Z"
   },
   {
    "duration": 26,
    "start_time": "2022-01-01T19:06:06.177Z"
   },
   {
    "duration": 81,
    "start_time": "2022-01-01T19:06:06.205Z"
   },
   {
    "duration": 53,
    "start_time": "2022-01-01T19:07:09.096Z"
   },
   {
    "duration": 565,
    "start_time": "2022-01-01T19:09:41.464Z"
   },
   {
    "duration": 30,
    "start_time": "2022-01-01T19:10:09.576Z"
   },
   {
    "duration": 44,
    "start_time": "2022-01-01T19:10:15.676Z"
   },
   {
    "duration": 49,
    "start_time": "2022-01-01T19:10:19.372Z"
   },
   {
    "duration": 420,
    "start_time": "2022-01-01T19:16:46.805Z"
   },
   {
    "duration": 421,
    "start_time": "2022-01-01T19:17:10.427Z"
   },
   {
    "duration": 435,
    "start_time": "2022-01-01T19:17:21.147Z"
   },
   {
    "duration": 417,
    "start_time": "2022-01-01T19:17:43.301Z"
   },
   {
    "duration": 61,
    "start_time": "2022-01-01T19:17:49.339Z"
   },
   {
    "duration": 785,
    "start_time": "2022-01-01T19:18:14.025Z"
   },
   {
    "duration": 119,
    "start_time": "2022-01-01T19:18:14.813Z"
   },
   {
    "duration": 94,
    "start_time": "2022-01-01T19:18:14.937Z"
   },
   {
    "duration": 27,
    "start_time": "2022-01-01T19:18:15.033Z"
   },
   {
    "duration": 55,
    "start_time": "2022-01-01T19:18:15.064Z"
   },
   {
    "duration": 81,
    "start_time": "2022-01-01T19:18:15.121Z"
   },
   {
    "duration": 19,
    "start_time": "2022-01-01T19:18:15.205Z"
   },
   {
    "duration": 41,
    "start_time": "2022-01-01T19:18:15.228Z"
   },
   {
    "duration": 4,
    "start_time": "2022-01-01T19:18:15.273Z"
   },
   {
    "duration": 9,
    "start_time": "2022-01-01T19:18:15.280Z"
   },
   {
    "duration": 5,
    "start_time": "2022-01-01T19:18:15.291Z"
   },
   {
    "duration": 5,
    "start_time": "2022-01-01T19:18:15.299Z"
   },
   {
    "duration": 5,
    "start_time": "2022-01-01T19:18:15.306Z"
   },
   {
    "duration": 48,
    "start_time": "2022-01-01T19:18:15.313Z"
   },
   {
    "duration": 17,
    "start_time": "2022-01-01T19:18:15.364Z"
   },
   {
    "duration": 5,
    "start_time": "2022-01-01T19:18:15.384Z"
   },
   {
    "duration": 6,
    "start_time": "2022-01-01T19:18:15.391Z"
   },
   {
    "duration": 6,
    "start_time": "2022-01-01T19:18:15.400Z"
   },
   {
    "duration": 5,
    "start_time": "2022-01-01T19:18:15.408Z"
   },
   {
    "duration": 5,
    "start_time": "2022-01-01T19:18:15.415Z"
   },
   {
    "duration": 6,
    "start_time": "2022-01-01T19:18:15.423Z"
   },
   {
    "duration": 66,
    "start_time": "2022-01-01T19:18:32.028Z"
   },
   {
    "duration": 65,
    "start_time": "2022-01-01T19:19:07.596Z"
   },
   {
    "duration": 65,
    "start_time": "2022-01-01T19:19:23.473Z"
   },
   {
    "duration": 839,
    "start_time": "2022-01-01T19:19:31.337Z"
   },
   {
    "duration": 122,
    "start_time": "2022-01-01T19:19:32.179Z"
   },
   {
    "duration": 90,
    "start_time": "2022-01-01T19:19:32.304Z"
   },
   {
    "duration": 13,
    "start_time": "2022-01-01T19:19:32.396Z"
   },
   {
    "duration": 84,
    "start_time": "2022-01-01T19:19:32.411Z"
   },
   {
    "duration": 61,
    "start_time": "2022-01-01T19:19:32.498Z"
   },
   {
    "duration": 60,
    "start_time": "2022-01-01T19:19:44.548Z"
   },
   {
    "duration": 34,
    "start_time": "2022-01-01T19:20:00.716Z"
   },
   {
    "duration": 39,
    "start_time": "2022-01-01T19:20:26.003Z"
   },
   {
    "duration": 859,
    "start_time": "2022-01-01T19:20:32.646Z"
   },
   {
    "duration": 123,
    "start_time": "2022-01-01T19:20:33.508Z"
   },
   {
    "duration": 92,
    "start_time": "2022-01-01T19:20:33.634Z"
   },
   {
    "duration": 11,
    "start_time": "2022-01-01T19:20:33.728Z"
   },
   {
    "duration": 69,
    "start_time": "2022-01-01T19:20:33.741Z"
   },
   {
    "duration": 563,
    "start_time": "2022-01-01T19:20:33.813Z"
   },
   {
    "duration": 38,
    "start_time": "2022-01-01T19:21:02.671Z"
   },
   {
    "duration": 556,
    "start_time": "2022-01-01T19:22:34.942Z"
   },
   {
    "duration": 428,
    "start_time": "2022-01-01T19:22:50.938Z"
   },
   {
    "duration": 50,
    "start_time": "2022-01-01T19:23:07.796Z"
   },
   {
    "duration": 47,
    "start_time": "2022-01-01T19:23:42.300Z"
   },
   {
    "duration": 60,
    "start_time": "2022-01-01T19:26:21.457Z"
   },
   {
    "duration": 407,
    "start_time": "2022-01-01T19:26:28.817Z"
   },
   {
    "duration": 404,
    "start_time": "2022-01-01T19:26:45.427Z"
   },
   {
    "duration": 462,
    "start_time": "2022-01-01T19:28:15.695Z"
   },
   {
    "duration": 398,
    "start_time": "2022-01-01T19:28:42.417Z"
   },
   {
    "duration": 416,
    "start_time": "2022-01-01T19:28:50.490Z"
   },
   {
    "duration": 47,
    "start_time": "2022-01-01T19:28:59.013Z"
   },
   {
    "duration": 5632,
    "start_time": "2022-01-01T19:29:14.823Z"
   },
   {
    "duration": 832,
    "start_time": "2022-01-01T19:31:00.529Z"
   },
   {
    "duration": 120,
    "start_time": "2022-01-01T19:31:01.365Z"
   },
   {
    "duration": 92,
    "start_time": "2022-01-01T19:31:01.488Z"
   },
   {
    "duration": 12,
    "start_time": "2022-01-01T19:31:01.582Z"
   },
   {
    "duration": 5154,
    "start_time": "2022-01-01T19:31:01.596Z"
   },
   {
    "duration": 796,
    "start_time": "2022-01-01T19:31:31.203Z"
   },
   {
    "duration": 118,
    "start_time": "2022-01-01T19:31:32.005Z"
   },
   {
    "duration": 98,
    "start_time": "2022-01-01T19:31:32.126Z"
   },
   {
    "duration": 11,
    "start_time": "2022-01-01T19:31:32.226Z"
   },
   {
    "duration": 74,
    "start_time": "2022-01-01T19:31:32.240Z"
   },
   {
    "duration": 51,
    "start_time": "2022-01-01T19:31:33.781Z"
   },
   {
    "duration": 54,
    "start_time": "2022-01-01T19:33:26.326Z"
   },
   {
    "duration": 1256,
    "start_time": "2022-01-01T19:34:27.882Z"
   },
   {
    "duration": -346,
    "start_time": "2022-01-01T19:34:41.442Z"
   },
   {
    "duration": -401,
    "start_time": "2022-01-01T19:34:55.180Z"
   },
   {
    "duration": 3,
    "start_time": "2022-01-01T19:38:47.246Z"
   },
   {
    "duration": 116,
    "start_time": "2022-01-01T19:38:47.252Z"
   },
   {
    "duration": 73,
    "start_time": "2022-01-01T19:38:47.371Z"
   },
   {
    "duration": 12,
    "start_time": "2022-01-01T19:38:47.460Z"
   },
   {
    "duration": 41,
    "start_time": "2022-01-01T19:39:10.368Z"
   },
   {
    "duration": 402,
    "start_time": "2022-01-01T19:39:23.150Z"
   },
   {
    "duration": 45,
    "start_time": "2022-01-01T19:42:50.039Z"
   },
   {
    "duration": 52,
    "start_time": "2022-01-01T19:42:59.213Z"
   },
   {
    "duration": 449,
    "start_time": "2022-01-01T19:45:28.993Z"
   },
   {
    "duration": 767,
    "start_time": "2022-01-01T19:45:32.454Z"
   },
   {
    "duration": 118,
    "start_time": "2022-01-01T19:45:33.223Z"
   },
   {
    "duration": 82,
    "start_time": "2022-01-01T19:45:33.344Z"
   },
   {
    "duration": 32,
    "start_time": "2022-01-01T19:45:33.428Z"
   },
   {
    "duration": 49,
    "start_time": "2022-01-01T19:45:33.462Z"
   },
   {
    "duration": 45,
    "start_time": "2022-01-01T19:46:09.042Z"
   },
   {
    "duration": 46,
    "start_time": "2022-01-01T19:47:54.686Z"
   },
   {
    "duration": 46,
    "start_time": "2022-01-01T19:54:28.523Z"
   },
   {
    "duration": 56,
    "start_time": "2022-01-01T19:54:34.256Z"
   },
   {
    "duration": 58,
    "start_time": "2022-01-01T19:55:00.237Z"
   },
   {
    "duration": 32,
    "start_time": "2022-01-01T19:55:52.259Z"
   },
   {
    "duration": 30,
    "start_time": "2022-01-01T19:56:11.931Z"
   },
   {
    "duration": 48,
    "start_time": "2022-01-01T19:56:25.812Z"
   },
   {
    "duration": 39,
    "start_time": "2022-01-01T19:58:58.078Z"
   },
   {
    "duration": 38,
    "start_time": "2022-01-01T19:59:55.283Z"
   },
   {
    "duration": 40,
    "start_time": "2022-01-01T20:00:35.280Z"
   },
   {
    "duration": 49,
    "start_time": "2022-01-01T20:00:45.960Z"
   },
   {
    "duration": 46,
    "start_time": "2022-01-01T20:02:27.900Z"
   },
   {
    "duration": 795,
    "start_time": "2022-01-01T20:03:02.415Z"
   },
   {
    "duration": 114,
    "start_time": "2022-01-01T20:03:03.213Z"
   },
   {
    "duration": 88,
    "start_time": "2022-01-01T20:03:03.330Z"
   },
   {
    "duration": 12,
    "start_time": "2022-01-01T20:03:03.421Z"
   },
   {
    "duration": 59,
    "start_time": "2022-01-01T20:03:03.435Z"
   },
   {
    "duration": 66,
    "start_time": "2022-01-01T20:03:03.496Z"
   },
   {
    "duration": 23,
    "start_time": "2022-01-01T20:03:03.564Z"
   },
   {
    "duration": 16,
    "start_time": "2022-01-01T20:03:03.591Z"
   },
   {
    "duration": 3,
    "start_time": "2022-01-01T20:03:03.610Z"
   },
   {
    "duration": 14,
    "start_time": "2022-01-01T20:03:03.615Z"
   },
   {
    "duration": 29,
    "start_time": "2022-01-01T20:03:03.631Z"
   },
   {
    "duration": 15,
    "start_time": "2022-01-01T20:03:03.663Z"
   },
   {
    "duration": 12,
    "start_time": "2022-01-01T20:03:03.681Z"
   },
   {
    "duration": 11,
    "start_time": "2022-01-01T20:03:03.696Z"
   },
   {
    "duration": 17,
    "start_time": "2022-01-01T20:03:03.709Z"
   },
   {
    "duration": 17,
    "start_time": "2022-01-01T20:03:03.728Z"
   },
   {
    "duration": 17,
    "start_time": "2022-01-01T20:03:03.747Z"
   },
   {
    "duration": 11,
    "start_time": "2022-01-01T20:03:03.766Z"
   },
   {
    "duration": 20,
    "start_time": "2022-01-01T20:03:03.780Z"
   },
   {
    "duration": 12,
    "start_time": "2022-01-01T20:03:03.802Z"
   },
   {
    "duration": 14,
    "start_time": "2022-01-01T20:03:03.817Z"
   },
   {
    "duration": 52,
    "start_time": "2022-01-01T20:04:23.521Z"
   },
   {
    "duration": 501,
    "start_time": "2022-01-01T20:05:46.841Z"
   },
   {
    "duration": 817,
    "start_time": "2022-01-01T20:05:59.672Z"
   },
   {
    "duration": 114,
    "start_time": "2022-01-01T20:06:16.619Z"
   },
   {
    "duration": 397,
    "start_time": "2022-01-01T20:06:20.569Z"
   },
   {
    "duration": 39,
    "start_time": "2022-01-01T20:06:41.899Z"
   },
   {
    "duration": 451,
    "start_time": "2022-01-01T20:06:46.595Z"
   },
   {
    "duration": 403,
    "start_time": "2022-01-01T20:07:03.807Z"
   },
   {
    "duration": 22,
    "start_time": "2022-01-01T20:07:08.768Z"
   },
   {
    "duration": 38,
    "start_time": "2022-01-01T20:07:14.851Z"
   },
   {
    "duration": 417,
    "start_time": "2022-01-01T20:07:18.990Z"
   },
   {
    "duration": 375,
    "start_time": "2022-01-01T20:08:27.186Z"
   },
   {
    "duration": 53,
    "start_time": "2022-01-01T20:08:31.175Z"
   },
   {
    "duration": 52,
    "start_time": "2022-01-01T20:09:11.461Z"
   },
   {
    "duration": 392,
    "start_time": "2022-01-01T20:09:25.519Z"
   },
   {
    "duration": 408,
    "start_time": "2022-01-01T20:09:34.466Z"
   },
   {
    "duration": 401,
    "start_time": "2022-01-01T20:09:37.940Z"
   },
   {
    "duration": 26,
    "start_time": "2022-01-01T20:09:48.814Z"
   },
   {
    "duration": 431,
    "start_time": "2022-01-01T20:09:55.981Z"
   },
   {
    "duration": 32,
    "start_time": "2022-01-01T20:10:18.996Z"
   },
   {
    "duration": 652,
    "start_time": "2022-01-01T20:11:00.900Z"
   },
   {
    "duration": 55,
    "start_time": "2022-01-01T20:11:23.304Z"
   },
   {
    "duration": 416,
    "start_time": "2022-01-01T20:11:45.111Z"
   },
   {
    "duration": 57,
    "start_time": "2022-01-01T20:11:52.058Z"
   },
   {
    "duration": 57,
    "start_time": "2022-01-01T20:12:01.842Z"
   },
   {
    "duration": 12,
    "start_time": "2022-01-01T20:12:13.205Z"
   },
   {
    "duration": 16,
    "start_time": "2022-01-01T20:12:14.749Z"
   },
   {
    "duration": 12039,
    "start_time": "2022-01-01T20:50:14.849Z"
   },
   {
    "duration": 17,
    "start_time": "2022-01-01T20:50:33.914Z"
   },
   {
    "duration": 11,
    "start_time": "2022-01-01T20:50:35.990Z"
   },
   {
    "duration": 11,
    "start_time": "2022-01-01T20:52:19.601Z"
   },
   {
    "duration": 450,
    "start_time": "2022-01-01T20:52:31.002Z"
   },
   {
    "duration": 8,
    "start_time": "2022-01-01T20:52:43.676Z"
   },
   {
    "duration": 11,
    "start_time": "2022-01-01T20:52:53.307Z"
   },
   {
    "duration": 18,
    "start_time": "2022-01-01T20:53:12.612Z"
   },
   {
    "duration": 37,
    "start_time": "2022-01-01T20:58:10.178Z"
   },
   {
    "duration": 28,
    "start_time": "2022-01-01T20:59:13.214Z"
   },
   {
    "duration": 28,
    "start_time": "2022-01-01T20:59:22.604Z"
   },
   {
    "duration": 27,
    "start_time": "2022-01-01T20:59:33.461Z"
   },
   {
    "duration": 15,
    "start_time": "2022-01-01T20:59:49.402Z"
   },
   {
    "duration": 24,
    "start_time": "2022-01-01T21:00:15.751Z"
   },
   {
    "duration": 42,
    "start_time": "2022-01-01T21:02:06.099Z"
   },
   {
    "duration": 50,
    "start_time": "2022-01-01T21:02:26.508Z"
   },
   {
    "duration": 55,
    "start_time": "2022-01-01T21:03:12.437Z"
   },
   {
    "duration": 47,
    "start_time": "2022-01-01T21:03:35.040Z"
   },
   {
    "duration": 53,
    "start_time": "2022-01-01T21:03:46.720Z"
   },
   {
    "duration": 43,
    "start_time": "2022-01-01T21:04:18.761Z"
   },
   {
    "duration": 53,
    "start_time": "2022-01-01T21:04:32.217Z"
   },
   {
    "duration": 382,
    "start_time": "2022-01-01T21:04:49.820Z"
   },
   {
    "duration": 48,
    "start_time": "2022-01-01T21:04:52.772Z"
   },
   {
    "duration": 84,
    "start_time": "2022-01-01T21:05:00.454Z"
   },
   {
    "duration": 50,
    "start_time": "2022-01-01T21:05:05.008Z"
   },
   {
    "duration": 846,
    "start_time": "2022-01-01T21:05:11.177Z"
   },
   {
    "duration": 117,
    "start_time": "2022-01-01T21:05:12.026Z"
   },
   {
    "duration": 94,
    "start_time": "2022-01-01T21:05:12.146Z"
   },
   {
    "duration": 38,
    "start_time": "2022-01-01T21:05:12.243Z"
   },
   {
    "duration": 45,
    "start_time": "2022-01-01T21:05:12.283Z"
   },
   {
    "duration": 51,
    "start_time": "2022-01-01T21:05:13.529Z"
   },
   {
    "duration": 44,
    "start_time": "2022-01-01T21:05:26.580Z"
   },
   {
    "duration": 83,
    "start_time": "2022-01-01T21:05:37.511Z"
   },
   {
    "duration": 63,
    "start_time": "2022-01-01T21:05:50.954Z"
   },
   {
    "duration": 20,
    "start_time": "2022-01-01T21:06:00.467Z"
   },
   {
    "duration": 23,
    "start_time": "2022-01-01T21:06:01.845Z"
   },
   {
    "duration": 10,
    "start_time": "2022-01-01T21:06:03.469Z"
   },
   {
    "duration": 26,
    "start_time": "2022-01-01T21:06:05.075Z"
   },
   {
    "duration": 30,
    "start_time": "2022-01-01T21:06:09.016Z"
   },
   {
    "duration": 24,
    "start_time": "2022-01-01T21:06:11.125Z"
   },
   {
    "duration": 397,
    "start_time": "2022-01-01T21:07:27.962Z"
   },
   {
    "duration": 854,
    "start_time": "2022-01-01T21:08:46.223Z"
   },
   {
    "duration": 112,
    "start_time": "2022-01-01T21:08:47.081Z"
   },
   {
    "duration": 91,
    "start_time": "2022-01-01T21:08:47.195Z"
   },
   {
    "duration": 21,
    "start_time": "2022-01-01T21:08:47.289Z"
   },
   {
    "duration": 69,
    "start_time": "2022-01-01T21:08:47.312Z"
   },
   {
    "duration": 92,
    "start_time": "2022-01-01T21:08:47.384Z"
   },
   {
    "duration": 19,
    "start_time": "2022-01-01T21:08:47.479Z"
   },
   {
    "duration": 20,
    "start_time": "2022-01-01T21:08:47.502Z"
   },
   {
    "duration": 9,
    "start_time": "2022-01-01T21:08:47.525Z"
   },
   {
    "duration": 47,
    "start_time": "2022-01-01T21:08:47.536Z"
   },
   {
    "duration": 27,
    "start_time": "2022-01-01T21:08:47.585Z"
   },
   {
    "duration": 51,
    "start_time": "2022-01-01T21:08:47.614Z"
   },
   {
    "duration": 401,
    "start_time": "2022-01-01T21:08:47.672Z"
   },
   {
    "duration": 283,
    "start_time": "2022-01-01T21:09:32.982Z"
   },
   {
    "duration": 987,
    "start_time": "2022-01-01T21:10:14.062Z"
   },
   {
    "duration": 4,
    "start_time": "2022-01-01T21:10:49.182Z"
   },
   {
    "duration": 117,
    "start_time": "2022-01-01T21:10:49.188Z"
   },
   {
    "duration": 78,
    "start_time": "2022-01-01T21:10:49.308Z"
   },
   {
    "duration": 22,
    "start_time": "2022-01-01T21:10:49.389Z"
   },
   {
    "duration": 110,
    "start_time": "2022-01-01T21:10:49.413Z"
   },
   {
    "duration": 90,
    "start_time": "2022-01-01T21:10:49.525Z"
   },
   {
    "duration": 19,
    "start_time": "2022-01-01T21:10:49.619Z"
   },
   {
    "duration": 33,
    "start_time": "2022-01-01T21:10:49.640Z"
   },
   {
    "duration": 10,
    "start_time": "2022-01-01T21:10:54.564Z"
   },
   {
    "duration": 27,
    "start_time": "2022-01-01T21:10:57.491Z"
   },
   {
    "duration": 28,
    "start_time": "2022-01-01T21:10:59.583Z"
   },
   {
    "duration": 24,
    "start_time": "2022-01-01T21:11:00.909Z"
   },
   {
    "duration": 295,
    "start_time": "2022-01-01T21:11:03.145Z"
   },
   {
    "duration": 288,
    "start_time": "2022-01-01T21:11:04.971Z"
   },
   {
    "duration": 872,
    "start_time": "2022-01-01T21:11:08.181Z"
   },
   {
    "duration": 287,
    "start_time": "2022-01-01T21:11:27.901Z"
   },
   {
    "duration": 747,
    "start_time": "2022-01-01T21:13:11.604Z"
   },
   {
    "duration": 114,
    "start_time": "2022-01-01T21:13:12.355Z"
   },
   {
    "duration": 92,
    "start_time": "2022-01-01T21:13:12.473Z"
   },
   {
    "duration": 21,
    "start_time": "2022-01-01T21:13:12.568Z"
   },
   {
    "duration": 70,
    "start_time": "2022-01-01T21:13:12.592Z"
   },
   {
    "duration": 74,
    "start_time": "2022-01-01T21:13:12.664Z"
   },
   {
    "duration": 21,
    "start_time": "2022-01-01T21:13:12.760Z"
   },
   {
    "duration": 17,
    "start_time": "2022-01-01T21:13:12.785Z"
   },
   {
    "duration": 9,
    "start_time": "2022-01-01T21:13:12.805Z"
   },
   {
    "duration": 59,
    "start_time": "2022-01-01T21:13:12.817Z"
   },
   {
    "duration": 30,
    "start_time": "2022-01-01T21:13:12.879Z"
   },
   {
    "duration": 49,
    "start_time": "2022-01-01T21:13:12.911Z"
   },
   {
    "duration": 398,
    "start_time": "2022-01-01T21:13:12.963Z"
   },
   {
    "duration": 306,
    "start_time": "2022-01-01T21:13:13.364Z"
   },
   {
    "duration": 934,
    "start_time": "2022-01-01T21:13:13.672Z"
   },
   {
    "duration": -325,
    "start_time": "2022-01-01T21:13:14.933Z"
   },
   {
    "duration": -329,
    "start_time": "2022-01-01T21:13:14.938Z"
   },
   {
    "duration": -344,
    "start_time": "2022-01-01T21:13:14.955Z"
   },
   {
    "duration": -357,
    "start_time": "2022-01-01T21:13:14.969Z"
   },
   {
    "duration": -370,
    "start_time": "2022-01-01T21:13:14.983Z"
   },
   {
    "duration": -384,
    "start_time": "2022-01-01T21:13:14.998Z"
   },
   {
    "duration": 389,
    "start_time": "2022-01-01T21:14:08.308Z"
   },
   {
    "duration": 442,
    "start_time": "2022-01-01T21:14:20.376Z"
   },
   {
    "duration": 305,
    "start_time": "2022-01-01T21:14:25.073Z"
   },
   {
    "duration": 279,
    "start_time": "2022-01-01T21:15:31.357Z"
   },
   {
    "duration": 387,
    "start_time": "2022-01-01T21:15:53.848Z"
   },
   {
    "duration": 333,
    "start_time": "2022-01-01T21:16:01.974Z"
   },
   {
    "duration": 284,
    "start_time": "2022-01-01T21:16:06.328Z"
   },
   {
    "duration": 293,
    "start_time": "2022-01-01T21:16:10.006Z"
   },
   {
    "duration": 463,
    "start_time": "2022-01-01T21:16:16.952Z"
   },
   {
    "duration": 394,
    "start_time": "2022-01-01T21:19:07.181Z"
   },
   {
    "duration": 396,
    "start_time": "2022-01-01T21:19:14.194Z"
   },
   {
    "duration": 437,
    "start_time": "2022-01-01T21:20:09.309Z"
   },
   {
    "duration": 397,
    "start_time": "2022-01-01T21:20:19.665Z"
   },
   {
    "duration": 415,
    "start_time": "2022-01-01T21:20:28.080Z"
   },
   {
    "duration": 1378,
    "start_time": "2022-01-01T21:20:47.675Z"
   },
   {
    "duration": 393,
    "start_time": "2022-01-01T21:20:53.281Z"
   },
   {
    "duration": 418,
    "start_time": "2022-01-01T21:21:02.329Z"
   },
   {
    "duration": 302,
    "start_time": "2022-01-01T21:21:08.324Z"
   },
   {
    "duration": 319,
    "start_time": "2022-01-01T21:22:20.845Z"
   },
   {
    "duration": 123,
    "start_time": "2022-01-01T21:22:37.638Z"
   },
   {
    "duration": 300,
    "start_time": "2022-01-01T21:22:56.073Z"
   },
   {
    "duration": 412,
    "start_time": "2022-01-01T21:23:05.919Z"
   },
   {
    "duration": 618,
    "start_time": "2022-01-01T21:24:16.554Z"
   },
   {
    "duration": 408,
    "start_time": "2022-01-01T21:24:28.958Z"
   },
   {
    "duration": 291,
    "start_time": "2022-01-01T21:30:38.033Z"
   },
   {
    "duration": 394,
    "start_time": "2022-01-01T21:30:55.383Z"
   },
   {
    "duration": 400,
    "start_time": "2022-01-01T21:31:03.905Z"
   },
   {
    "duration": 415,
    "start_time": "2022-01-01T21:31:09.689Z"
   },
   {
    "duration": 408,
    "start_time": "2022-01-01T21:31:21.368Z"
   },
   {
    "duration": 541,
    "start_time": "2022-01-01T21:31:30.283Z"
   },
   {
    "duration": 12,
    "start_time": "2022-01-01T21:31:35.063Z"
   },
   {
    "duration": 649,
    "start_time": "2022-01-01T21:31:46.383Z"
   },
   {
    "duration": 530,
    "start_time": "2022-01-01T21:31:49.540Z"
   },
   {
    "duration": 409,
    "start_time": "2022-01-01T21:32:29.603Z"
   },
   {
    "duration": 349,
    "start_time": "2022-01-01T21:33:56.331Z"
   },
   {
    "duration": 387,
    "start_time": "2022-01-01T21:34:18.394Z"
   },
   {
    "duration": 397,
    "start_time": "2022-01-01T21:34:34.274Z"
   },
   {
    "duration": 429,
    "start_time": "2022-01-01T21:34:42.136Z"
   },
   {
    "duration": 420,
    "start_time": "2022-01-01T21:34:50.557Z"
   },
   {
    "duration": 363,
    "start_time": "2022-01-01T21:34:56.533Z"
   },
   {
    "duration": 366,
    "start_time": "2022-01-01T21:35:04.254Z"
   },
   {
    "duration": 344,
    "start_time": "2022-01-01T21:36:05.410Z"
   },
   {
    "duration": 580,
    "start_time": "2022-01-01T21:36:14.970Z"
   },
   {
    "duration": 550,
    "start_time": "2022-01-01T21:36:21.955Z"
   },
   {
    "duration": 553,
    "start_time": "2022-01-01T21:36:37.940Z"
   },
   {
    "duration": 563,
    "start_time": "2022-01-01T21:37:27.578Z"
   },
   {
    "duration": 564,
    "start_time": "2022-01-01T21:37:44.225Z"
   },
   {
    "duration": 664,
    "start_time": "2022-01-01T21:39:28.522Z"
   },
   {
    "duration": 10,
    "start_time": "2022-01-01T21:43:02.233Z"
   },
   {
    "duration": 644,
    "start_time": "2022-01-01T21:43:12.630Z"
   },
   {
    "duration": 12,
    "start_time": "2022-01-01T21:44:44.090Z"
   },
   {
    "duration": 640,
    "start_time": "2022-01-01T21:44:52.395Z"
   },
   {
    "duration": 892,
    "start_time": "2022-01-01T21:45:00.237Z"
   },
   {
    "duration": 307,
    "start_time": "2022-01-01T21:45:57.333Z"
   },
   {
    "duration": 455,
    "start_time": "2022-01-01T21:46:22.939Z"
   },
   {
    "duration": 286,
    "start_time": "2022-01-01T21:46:26.512Z"
   },
   {
    "duration": 299,
    "start_time": "2022-01-01T21:46:39.743Z"
   },
   {
    "duration": 975,
    "start_time": "2022-01-01T21:46:58.380Z"
   },
   {
    "duration": 934,
    "start_time": "2022-01-01T21:47:04.902Z"
   },
   {
    "duration": 292,
    "start_time": "2022-01-01T21:47:12.214Z"
   },
   {
    "duration": 289,
    "start_time": "2022-01-01T21:47:18.652Z"
   },
   {
    "duration": 806,
    "start_time": "2022-01-01T21:48:13.644Z"
   },
   {
    "duration": 110,
    "start_time": "2022-01-01T21:48:14.453Z"
   },
   {
    "duration": 94,
    "start_time": "2022-01-01T21:48:14.566Z"
   },
   {
    "duration": 21,
    "start_time": "2022-01-01T21:48:14.662Z"
   },
   {
    "duration": 44,
    "start_time": "2022-01-01T21:48:14.686Z"
   },
   {
    "duration": 74,
    "start_time": "2022-01-01T21:48:14.759Z"
   },
   {
    "duration": 40,
    "start_time": "2022-01-01T21:48:14.836Z"
   },
   {
    "duration": 16,
    "start_time": "2022-01-01T21:48:14.879Z"
   },
   {
    "duration": 10,
    "start_time": "2022-01-01T21:48:14.898Z"
   },
   {
    "duration": 59,
    "start_time": "2022-01-01T21:48:14.910Z"
   },
   {
    "duration": 28,
    "start_time": "2022-01-01T21:48:14.971Z"
   },
   {
    "duration": 27,
    "start_time": "2022-01-01T21:48:15.002Z"
   },
   {
    "duration": 693,
    "start_time": "2022-01-01T21:48:15.060Z"
   },
   {
    "duration": 523,
    "start_time": "2022-01-01T21:48:15.759Z"
   },
   {
    "duration": 1034,
    "start_time": "2022-01-01T21:48:16.285Z"
   },
   {
    "duration": -456,
    "start_time": "2022-01-01T21:48:17.778Z"
   },
   {
    "duration": -461,
    "start_time": "2022-01-01T21:48:17.784Z"
   },
   {
    "duration": -472,
    "start_time": "2022-01-01T21:48:17.797Z"
   },
   {
    "duration": -475,
    "start_time": "2022-01-01T21:48:17.801Z"
   },
   {
    "duration": -488,
    "start_time": "2022-01-01T21:48:17.815Z"
   },
   {
    "duration": -493,
    "start_time": "2022-01-01T21:48:17.822Z"
   },
   {
    "duration": 168,
    "start_time": "2022-01-01T21:50:49.132Z"
   },
   {
    "duration": 443,
    "start_time": "2022-01-01T21:52:56.809Z"
   },
   {
    "duration": 767,
    "start_time": "2022-01-01T21:53:00.974Z"
   },
   {
    "duration": 120,
    "start_time": "2022-01-01T21:53:01.744Z"
   },
   {
    "duration": 81,
    "start_time": "2022-01-01T21:53:01.867Z"
   },
   {
    "duration": 22,
    "start_time": "2022-01-01T21:53:01.959Z"
   },
   {
    "duration": 46,
    "start_time": "2022-01-01T21:53:01.983Z"
   },
   {
    "duration": 101,
    "start_time": "2022-01-01T21:53:02.031Z"
   },
   {
    "duration": 35,
    "start_time": "2022-01-01T21:53:02.135Z"
   },
   {
    "duration": 22,
    "start_time": "2022-01-01T21:53:02.173Z"
   },
   {
    "duration": 10,
    "start_time": "2022-01-01T21:53:02.198Z"
   },
   {
    "duration": 69,
    "start_time": "2022-01-01T21:53:02.210Z"
   },
   {
    "duration": 698,
    "start_time": "2022-01-01T21:53:30.146Z"
   },
   {
    "duration": 912,
    "start_time": "2022-01-01T21:53:45.118Z"
   },
   {
    "duration": 335,
    "start_time": "2022-01-01T21:53:49.679Z"
   },
   {
    "duration": 303,
    "start_time": "2022-01-01T21:53:52.347Z"
   },
   {
    "duration": 281,
    "start_time": "2022-01-01T21:54:00.701Z"
   },
   {
    "duration": 138,
    "start_time": "2022-01-01T21:54:14.374Z"
   },
   {
    "duration": 291,
    "start_time": "2022-01-01T21:54:22.148Z"
   },
   {
    "duration": 274,
    "start_time": "2022-01-01T21:54:29.385Z"
   },
   {
    "duration": 258,
    "start_time": "2022-01-01T21:54:34.990Z"
   },
   {
    "duration": 11,
    "start_time": "2022-01-01T21:56:43.060Z"
   },
   {
    "duration": 1051,
    "start_time": "2022-01-01T21:56:52.586Z"
   },
   {
    "duration": 6,
    "start_time": "2022-01-01T21:56:59.156Z"
   },
   {
    "duration": 844,
    "start_time": "2022-01-01T21:57:11.801Z"
   },
   {
    "duration": 14,
    "start_time": "2022-01-01T21:57:15.049Z"
   },
   {
    "duration": 42,
    "start_time": "2022-01-01T21:58:14.794Z"
   },
   {
    "duration": 35,
    "start_time": "2022-01-01T21:58:38.667Z"
   },
   {
    "duration": 13,
    "start_time": "2022-01-01T21:58:48.343Z"
   },
   {
    "duration": 720,
    "start_time": "2022-01-01T21:59:07.999Z"
   },
   {
    "duration": 116,
    "start_time": "2022-01-01T21:59:08.722Z"
   },
   {
    "duration": 89,
    "start_time": "2022-01-01T21:59:08.841Z"
   },
   {
    "duration": 45,
    "start_time": "2022-01-01T21:59:08.933Z"
   },
   {
    "duration": 41,
    "start_time": "2022-01-01T21:59:27.518Z"
   },
   {
    "duration": 479,
    "start_time": "2022-01-01T21:59:38.272Z"
   },
   {
    "duration": 4,
    "start_time": "2022-01-01T21:59:45.399Z"
   },
   {
    "duration": 124,
    "start_time": "2022-01-01T21:59:45.405Z"
   },
   {
    "duration": 81,
    "start_time": "2022-01-01T21:59:45.533Z"
   },
   {
    "duration": 43,
    "start_time": "2022-01-01T21:59:45.618Z"
   },
   {
    "duration": 43,
    "start_time": "2022-01-01T21:59:45.664Z"
   },
   {
    "duration": 108,
    "start_time": "2022-01-01T21:59:45.710Z"
   },
   {
    "duration": 21,
    "start_time": "2022-01-01T21:59:45.820Z"
   },
   {
    "duration": 22,
    "start_time": "2022-01-01T21:59:45.860Z"
   },
   {
    "duration": 12,
    "start_time": "2022-01-01T21:59:45.885Z"
   },
   {
    "duration": 68,
    "start_time": "2022-01-01T21:59:45.900Z"
   },
   {
    "duration": 30,
    "start_time": "2022-01-01T21:59:45.971Z"
   },
   {
    "duration": 24,
    "start_time": "2022-01-01T21:59:46.003Z"
   },
   {
    "duration": 734,
    "start_time": "2022-01-01T21:59:46.030Z"
   },
   {
    "duration": 437,
    "start_time": "2022-01-01T21:59:46.768Z"
   },
   {
    "duration": 16,
    "start_time": "2022-01-01T21:59:47.209Z"
   },
   {
    "duration": 10,
    "start_time": "2022-01-01T22:01:08.289Z"
   },
   {
    "duration": 384,
    "start_time": "2022-01-01T22:01:31.588Z"
   },
   {
    "duration": 17,
    "start_time": "2022-01-01T22:01:59.970Z"
   },
   {
    "duration": 15,
    "start_time": "2022-01-01T22:02:11.144Z"
   },
   {
    "duration": 20,
    "start_time": "2022-01-01T22:03:18.858Z"
   },
   {
    "duration": 430,
    "start_time": "2022-01-01T22:03:51.626Z"
   },
   {
    "duration": 11,
    "start_time": "2022-01-01T22:04:03.552Z"
   },
   {
    "duration": 16,
    "start_time": "2022-01-01T22:04:11.125Z"
   },
   {
    "duration": 17,
    "start_time": "2022-01-01T22:04:52.770Z"
   },
   {
    "duration": 18,
    "start_time": "2022-01-01T22:05:53.877Z"
   },
   {
    "duration": 18,
    "start_time": "2022-01-01T22:05:57.741Z"
   },
   {
    "duration": 17,
    "start_time": "2022-01-01T22:06:14.265Z"
   },
   {
    "duration": 16,
    "start_time": "2022-01-01T22:06:22.905Z"
   },
   {
    "duration": 15,
    "start_time": "2022-01-01T22:07:31.985Z"
   },
   {
    "duration": 123,
    "start_time": "2022-01-01T22:08:06.308Z"
   },
   {
    "duration": 109,
    "start_time": "2022-01-01T22:08:09.560Z"
   },
   {
    "duration": 15,
    "start_time": "2022-01-01T22:08:14.430Z"
   },
   {
    "duration": 747,
    "start_time": "2022-01-01T22:08:26.673Z"
   },
   {
    "duration": 116,
    "start_time": "2022-01-01T22:08:27.423Z"
   },
   {
    "duration": 83,
    "start_time": "2022-01-01T22:08:27.541Z"
   },
   {
    "duration": 40,
    "start_time": "2022-01-01T22:08:27.627Z"
   },
   {
    "duration": 44,
    "start_time": "2022-01-01T22:08:27.670Z"
   },
   {
    "duration": 114,
    "start_time": "2022-01-01T22:08:27.717Z"
   },
   {
    "duration": 36,
    "start_time": "2022-01-01T22:08:27.834Z"
   },
   {
    "duration": 23,
    "start_time": "2022-01-01T22:08:27.874Z"
   },
   {
    "duration": 18,
    "start_time": "2022-01-01T22:08:42.302Z"
   },
   {
    "duration": 17,
    "start_time": "2022-01-01T22:13:56.664Z"
   },
   {
    "duration": 134,
    "start_time": "2022-01-01T22:14:06.675Z"
   },
   {
    "duration": 17,
    "start_time": "2022-01-01T22:14:18.904Z"
   },
   {
    "duration": 459,
    "start_time": "2022-01-01T22:19:33.428Z"
   },
   {
    "duration": 20,
    "start_time": "2022-01-01T22:19:38.620Z"
   },
   {
    "duration": 269,
    "start_time": "2022-01-01T22:20:08.675Z"
   },
   {
    "duration": 19,
    "start_time": "2022-01-01T22:20:13.383Z"
   },
   {
    "duration": 832,
    "start_time": "2022-01-01T22:20:23.510Z"
   },
   {
    "duration": 118,
    "start_time": "2022-01-01T22:20:24.345Z"
   },
   {
    "duration": 81,
    "start_time": "2022-01-01T22:20:24.466Z"
   },
   {
    "duration": 20,
    "start_time": "2022-01-01T22:20:24.560Z"
   },
   {
    "duration": 40,
    "start_time": "2022-01-01T22:20:24.582Z"
   },
   {
    "duration": 100,
    "start_time": "2022-01-01T22:20:24.624Z"
   },
   {
    "duration": 37,
    "start_time": "2022-01-01T22:20:24.726Z"
   },
   {
    "duration": 25,
    "start_time": "2022-01-01T22:20:24.767Z"
   },
   {
    "duration": 18,
    "start_time": "2022-01-01T22:20:34.900Z"
   },
   {
    "duration": 487,
    "start_time": "2022-01-01T22:20:58.272Z"
   },
   {
    "duration": 3,
    "start_time": "2022-01-01T22:21:09.455Z"
   },
   {
    "duration": 111,
    "start_time": "2022-01-01T22:21:09.465Z"
   },
   {
    "duration": 98,
    "start_time": "2022-01-01T22:21:09.579Z"
   },
   {
    "duration": 22,
    "start_time": "2022-01-01T22:21:09.681Z"
   },
   {
    "duration": 71,
    "start_time": "2022-01-01T22:21:09.707Z"
   },
   {
    "duration": 95,
    "start_time": "2022-01-01T22:21:09.781Z"
   },
   {
    "duration": 19,
    "start_time": "2022-01-01T22:21:09.879Z"
   },
   {
    "duration": 18,
    "start_time": "2022-01-01T22:21:09.900Z"
   },
   {
    "duration": 48,
    "start_time": "2022-01-01T22:21:09.921Z"
   },
   {
    "duration": 41,
    "start_time": "2022-01-01T22:21:09.972Z"
   },
   {
    "duration": 50,
    "start_time": "2022-01-01T22:21:10.016Z"
   },
   {
    "duration": 25,
    "start_time": "2022-01-01T22:21:10.069Z"
   },
   {
    "duration": 707,
    "start_time": "2022-01-01T22:21:10.097Z"
   },
   {
    "duration": 432,
    "start_time": "2022-01-01T22:21:10.807Z"
   },
   {
    "duration": 22,
    "start_time": "2022-01-01T22:21:11.242Z"
   },
   {
    "duration": 14,
    "start_time": "2022-01-01T22:21:14.641Z"
   },
   {
    "duration": 16,
    "start_time": "2022-01-01T22:21:19.965Z"
   },
   {
    "duration": 13,
    "start_time": "2022-01-01T22:21:25.177Z"
   },
   {
    "duration": 15,
    "start_time": "2022-01-01T22:21:35.903Z"
   },
   {
    "duration": 773,
    "start_time": "2022-01-01T22:21:47.764Z"
   },
   {
    "duration": 121,
    "start_time": "2022-01-01T22:21:48.541Z"
   },
   {
    "duration": 94,
    "start_time": "2022-01-01T22:21:48.665Z"
   },
   {
    "duration": 23,
    "start_time": "2022-01-01T22:21:48.762Z"
   },
   {
    "duration": 79,
    "start_time": "2022-01-01T22:21:48.787Z"
   },
   {
    "duration": 73,
    "start_time": "2022-01-01T22:21:48.869Z"
   },
   {
    "duration": 19,
    "start_time": "2022-01-01T22:21:48.960Z"
   },
   {
    "duration": 25,
    "start_time": "2022-01-01T22:21:48.982Z"
   },
   {
    "duration": 15,
    "start_time": "2022-01-01T22:21:49.010Z"
   },
   {
    "duration": 71,
    "start_time": "2022-01-01T22:21:49.028Z"
   },
   {
    "duration": 26,
    "start_time": "2022-01-01T22:21:49.102Z"
   },
   {
    "duration": 48,
    "start_time": "2022-01-01T22:21:49.131Z"
   },
   {
    "duration": 674,
    "start_time": "2022-01-01T22:21:49.181Z"
   },
   {
    "duration": 422,
    "start_time": "2022-01-01T22:21:49.860Z"
   },
   {
    "duration": 14,
    "start_time": "2022-01-01T22:21:50.285Z"
   },
   {
    "duration": 13,
    "start_time": "2022-01-01T22:22:14.802Z"
   },
   {
    "duration": 323,
    "start_time": "2022-01-01T22:24:17.882Z"
   },
   {
    "duration": 360,
    "start_time": "2022-01-01T22:24:30.356Z"
   },
   {
    "duration": 296,
    "start_time": "2022-01-01T22:24:38.998Z"
   },
   {
    "duration": 689,
    "start_time": "2022-01-01T22:25:05.776Z"
   },
   {
    "duration": 494,
    "start_time": "2022-01-01T22:25:12.297Z"
   },
   {
    "duration": 114,
    "start_time": "2022-01-01T22:25:12.794Z"
   },
   {
    "duration": 87,
    "start_time": "2022-01-01T22:25:12.911Z"
   },
   {
    "duration": 22,
    "start_time": "2022-01-01T22:25:13.001Z"
   },
   {
    "duration": 66,
    "start_time": "2022-01-01T22:25:13.025Z"
   },
   {
    "duration": 90,
    "start_time": "2022-01-01T22:25:13.093Z"
   },
   {
    "duration": 20,
    "start_time": "2022-01-01T22:25:13.186Z"
   },
   {
    "duration": 303,
    "start_time": "2022-01-01T22:25:13.209Z"
   },
   {
    "duration": 399,
    "start_time": "2022-01-01T22:25:22.544Z"
   },
   {
    "duration": 3,
    "start_time": "2022-01-01T22:25:28.260Z"
   },
   {
    "duration": 134,
    "start_time": "2022-01-01T22:25:28.266Z"
   },
   {
    "duration": 82,
    "start_time": "2022-01-01T22:25:28.402Z"
   },
   {
    "duration": 22,
    "start_time": "2022-01-01T22:25:28.487Z"
   },
   {
    "duration": 65,
    "start_time": "2022-01-01T22:25:28.511Z"
   },
   {
    "duration": 83,
    "start_time": "2022-01-01T22:25:28.579Z"
   },
   {
    "duration": 19,
    "start_time": "2022-01-01T22:25:28.666Z"
   },
   {
    "duration": 339,
    "start_time": "2022-01-01T22:25:28.688Z"
   },
   {
    "duration": 76,
    "start_time": "2022-01-01T22:25:29.030Z"
   },
   {
    "duration": 52,
    "start_time": "2022-01-01T22:25:29.109Z"
   },
   {
    "duration": 52,
    "start_time": "2022-01-01T22:25:29.163Z"
   },
   {
    "duration": 44,
    "start_time": "2022-01-01T22:25:29.217Z"
   },
   {
    "duration": 670,
    "start_time": "2022-01-01T22:25:29.263Z"
   },
   {
    "duration": 490,
    "start_time": "2022-01-01T22:25:29.935Z"
   },
   {
    "duration": 69,
    "start_time": "2022-01-01T22:25:30.428Z"
   },
   {
    "duration": 55,
    "start_time": "2022-01-01T22:26:01.319Z"
   },
   {
    "duration": 425,
    "start_time": "2022-01-01T22:26:40.908Z"
   },
   {
    "duration": 741,
    "start_time": "2022-01-01T22:26:43.986Z"
   },
   {
    "duration": 115,
    "start_time": "2022-01-01T22:26:44.729Z"
   },
   {
    "duration": 91,
    "start_time": "2022-01-01T22:26:44.847Z"
   },
   {
    "duration": 37,
    "start_time": "2022-01-01T22:26:44.942Z"
   },
   {
    "duration": 44,
    "start_time": "2022-01-01T22:26:44.982Z"
   },
   {
    "duration": 77,
    "start_time": "2022-01-01T22:26:45.060Z"
   },
   {
    "duration": 33,
    "start_time": "2022-01-01T22:26:45.139Z"
   },
   {
    "duration": 24,
    "start_time": "2022-01-01T22:26:45.175Z"
   },
   {
    "duration": 352,
    "start_time": "2022-01-01T22:26:45.201Z"
   },
   {
    "duration": 64,
    "start_time": "2022-01-01T22:26:58.881Z"
   },
   {
    "duration": 844,
    "start_time": "2022-01-01T22:27:06.881Z"
   },
   {
    "duration": 118,
    "start_time": "2022-01-01T22:27:07.728Z"
   },
   {
    "duration": 87,
    "start_time": "2022-01-01T22:27:07.849Z"
   },
   {
    "duration": 32,
    "start_time": "2022-01-01T22:27:07.939Z"
   },
   {
    "duration": 42,
    "start_time": "2022-01-01T22:27:07.973Z"
   },
   {
    "duration": 98,
    "start_time": "2022-01-01T22:27:08.018Z"
   },
   {
    "duration": 41,
    "start_time": "2022-01-01T22:27:08.118Z"
   },
   {
    "duration": 24,
    "start_time": "2022-01-01T22:27:08.163Z"
   },
   {
    "duration": 16,
    "start_time": "2022-01-01T22:27:08.190Z"
   },
   {
    "duration": 24,
    "start_time": "2022-01-01T22:27:22.056Z"
   },
   {
    "duration": 332,
    "start_time": "2022-01-01T22:28:06.543Z"
   },
   {
    "duration": 75,
    "start_time": "2022-01-01T22:31:53.714Z"
   },
   {
    "duration": 787,
    "start_time": "2022-01-01T22:32:03.042Z"
   },
   {
    "duration": 117,
    "start_time": "2022-01-01T22:32:03.832Z"
   },
   {
    "duration": 85,
    "start_time": "2022-01-01T22:32:03.951Z"
   },
   {
    "duration": 35,
    "start_time": "2022-01-01T22:32:04.039Z"
   },
   {
    "duration": 42,
    "start_time": "2022-01-01T22:32:04.077Z"
   },
   {
    "duration": 106,
    "start_time": "2022-01-01T22:32:04.121Z"
   },
   {
    "duration": 36,
    "start_time": "2022-01-01T22:32:04.229Z"
   },
   {
    "duration": 30,
    "start_time": "2022-01-01T22:32:04.268Z"
   },
   {
    "duration": 27,
    "start_time": "2022-01-01T22:32:04.301Z"
   },
   {
    "duration": 23,
    "start_time": "2022-01-01T22:32:26.800Z"
   },
   {
    "duration": 491,
    "start_time": "2022-01-01T22:32:40.686Z"
   },
   {
    "duration": 388,
    "start_time": "2022-01-01T22:32:43.400Z"
   },
   {
    "duration": 371,
    "start_time": "2022-01-01T22:32:47.506Z"
   },
   {
    "duration": 23,
    "start_time": "2022-01-01T22:34:53.248Z"
   },
   {
    "duration": 18,
    "start_time": "2022-01-01T22:34:56.934Z"
   },
   {
    "duration": 3,
    "start_time": "2022-01-01T22:35:33.658Z"
   },
   {
    "duration": 124,
    "start_time": "2022-01-01T22:35:33.664Z"
   },
   {
    "duration": 81,
    "start_time": "2022-01-01T22:35:33.791Z"
   },
   {
    "duration": 21,
    "start_time": "2022-01-01T22:35:33.875Z"
   },
   {
    "duration": 64,
    "start_time": "2022-01-01T22:35:33.898Z"
   },
   {
    "duration": 71,
    "start_time": "2022-01-01T22:35:33.964Z"
   },
   {
    "duration": 42,
    "start_time": "2022-01-01T22:35:34.037Z"
   },
   {
    "duration": 24,
    "start_time": "2022-01-01T22:35:34.083Z"
   },
   {
    "duration": 49,
    "start_time": "2022-01-01T22:35:34.110Z"
   },
   {
    "duration": 41,
    "start_time": "2022-01-01T22:35:34.162Z"
   },
   {
    "duration": 24,
    "start_time": "2022-01-01T22:35:34.205Z"
   },
   {
    "duration": 48,
    "start_time": "2022-01-01T22:35:34.232Z"
   },
   {
    "duration": 685,
    "start_time": "2022-01-01T22:35:34.282Z"
   },
   {
    "duration": 433,
    "start_time": "2022-01-01T22:35:34.969Z"
   },
   {
    "duration": 522,
    "start_time": "2022-01-01T22:35:48.676Z"
   },
   {
    "duration": 2990,
    "start_time": "2022-01-01T22:35:55.957Z"
   },
   {
    "duration": 1676,
    "start_time": "2022-01-01T22:36:02.455Z"
   },
   {
    "duration": 1032,
    "start_time": "2022-01-01T22:36:07.484Z"
   },
   {
    "duration": 691,
    "start_time": "2022-01-01T22:36:20.718Z"
   },
   {
    "duration": 1703,
    "start_time": "2022-01-01T22:36:26.692Z"
   },
   {
    "duration": 957,
    "start_time": "2022-01-01T22:36:32.151Z"
   },
   {
    "duration": 1969,
    "start_time": "2022-01-01T22:36:37.277Z"
   },
   {
    "duration": 1710,
    "start_time": "2022-01-01T22:37:22.375Z"
   },
   {
    "duration": 1628,
    "start_time": "2022-01-01T22:37:32.476Z"
   },
   {
    "duration": 1826,
    "start_time": "2022-01-01T22:37:39.487Z"
   },
   {
    "duration": 585,
    "start_time": "2022-01-01T22:38:01.270Z"
   },
   {
    "duration": 381,
    "start_time": "2022-01-01T22:38:08.093Z"
   },
   {
    "duration": 576,
    "start_time": "2022-01-01T22:38:17.509Z"
   },
   {
    "duration": 343,
    "start_time": "2022-01-01T22:38:21.879Z"
   },
   {
    "duration": 423,
    "start_time": "2022-01-01T22:38:27.791Z"
   },
   {
    "duration": 810,
    "start_time": "2022-01-01T22:38:31.982Z"
   },
   {
    "duration": 14,
    "start_time": "2022-01-01T22:39:06.573Z"
   },
   {
    "duration": 296,
    "start_time": "2022-01-01T22:39:36.126Z"
   },
   {
    "duration": 304,
    "start_time": "2022-01-01T22:39:41.021Z"
   },
   {
    "duration": 313,
    "start_time": "2022-01-01T22:39:57.322Z"
   },
   {
    "duration": 540,
    "start_time": "2022-01-01T22:40:06.195Z"
   },
   {
    "duration": 257,
    "start_time": "2022-01-01T22:40:09.590Z"
   },
   {
    "duration": 78,
    "start_time": "2022-01-01T22:50:41.550Z"
   },
   {
    "duration": 646,
    "start_time": "2022-01-01T22:55:53.632Z"
   },
   {
    "duration": 541,
    "start_time": "2022-01-01T22:56:43.232Z"
   },
   {
    "duration": 709,
    "start_time": "2022-01-01T22:57:06.387Z"
   },
   {
    "duration": 579,
    "start_time": "2022-01-01T22:57:14.882Z"
   },
   {
    "duration": 263,
    "start_time": "2022-01-01T22:57:32.464Z"
   },
   {
    "duration": 285,
    "start_time": "2022-01-01T22:57:34.986Z"
   },
   {
    "duration": 361,
    "start_time": "2022-01-01T22:57:48.715Z"
   },
   {
    "duration": 37,
    "start_time": "2022-01-01T22:57:52.647Z"
   },
   {
    "duration": 43,
    "start_time": "2022-01-01T22:57:59.297Z"
   },
   {
    "duration": 42,
    "start_time": "2022-01-01T22:59:38.663Z"
   },
   {
    "duration": 36,
    "start_time": "2022-01-01T23:01:27.338Z"
   },
   {
    "duration": 34,
    "start_time": "2022-01-01T23:03:44.336Z"
   },
   {
    "duration": 489,
    "start_time": "2022-01-01T23:05:48.965Z"
   },
   {
    "duration": 297,
    "start_time": "2022-01-01T23:06:12.288Z"
   },
   {
    "duration": 264,
    "start_time": "2022-01-01T23:06:30.494Z"
   },
   {
    "duration": 35,
    "start_time": "2022-01-01T23:07:44.315Z"
   },
   {
    "duration": 35,
    "start_time": "2022-01-01T23:07:48.827Z"
   },
   {
    "duration": 5,
    "start_time": "2022-01-01T23:09:12.623Z"
   },
   {
    "duration": 24,
    "start_time": "2022-01-01T23:09:57.214Z"
   },
   {
    "duration": 728,
    "start_time": "2022-01-01T23:10:47.684Z"
   },
   {
    "duration": 728,
    "start_time": "2022-01-01T23:11:05.038Z"
   },
   {
    "duration": 45,
    "start_time": "2022-01-01T23:13:40.027Z"
   },
   {
    "duration": 607,
    "start_time": "2022-01-01T23:14:47.377Z"
   },
   {
    "duration": 23,
    "start_time": "2022-01-01T23:14:52.563Z"
   },
   {
    "duration": 24,
    "start_time": "2022-01-01T23:15:55.153Z"
   },
   {
    "duration": 30,
    "start_time": "2022-01-01T23:16:35.622Z"
   },
   {
    "duration": 49,
    "start_time": "2022-01-01T23:23:48.166Z"
   },
   {
    "duration": 813,
    "start_time": "2022-01-01T23:23:59.874Z"
   },
   {
    "duration": 118,
    "start_time": "2022-01-01T23:24:00.690Z"
   },
   {
    "duration": 90,
    "start_time": "2022-01-01T23:24:00.812Z"
   },
   {
    "duration": 23,
    "start_time": "2022-01-01T23:24:00.905Z"
   },
   {
    "duration": 61,
    "start_time": "2022-01-01T23:24:00.930Z"
   },
   {
    "duration": 42,
    "start_time": "2022-01-01T23:24:03.169Z"
   },
   {
    "duration": 619,
    "start_time": "2022-01-01T23:25:23.999Z"
   },
   {
    "duration": 42,
    "start_time": "2022-01-01T23:25:48.029Z"
   },
   {
    "duration": 47,
    "start_time": "2022-01-01T23:26:25.345Z"
   },
   {
    "duration": 49,
    "start_time": "2022-01-01T23:26:45.058Z"
   },
   {
    "duration": 794,
    "start_time": "2022-01-01T23:26:50.925Z"
   },
   {
    "duration": 117,
    "start_time": "2022-01-01T23:26:51.722Z"
   },
   {
    "duration": 82,
    "start_time": "2022-01-01T23:26:51.842Z"
   },
   {
    "duration": 38,
    "start_time": "2022-01-01T23:26:51.927Z"
   },
   {
    "duration": 46,
    "start_time": "2022-01-01T23:26:51.967Z"
   },
   {
    "duration": 48,
    "start_time": "2022-01-01T23:27:55.778Z"
   },
   {
    "duration": 42,
    "start_time": "2022-01-01T23:28:09.275Z"
   },
   {
    "duration": 50,
    "start_time": "2022-01-01T23:28:41.816Z"
   },
   {
    "duration": 52,
    "start_time": "2022-01-01T23:28:59.493Z"
   },
   {
    "duration": 41,
    "start_time": "2022-01-01T23:29:02.692Z"
   },
   {
    "duration": 775,
    "start_time": "2022-01-01T23:31:47.206Z"
   },
   {
    "duration": 120,
    "start_time": "2022-01-01T23:31:47.984Z"
   },
   {
    "duration": 94,
    "start_time": "2022-01-01T23:31:48.106Z"
   },
   {
    "duration": 47,
    "start_time": "2022-01-01T23:32:08.932Z"
   },
   {
    "duration": 463,
    "start_time": "2022-01-01T23:32:24.588Z"
   },
   {
    "duration": 42,
    "start_time": "2022-01-01T23:32:38.616Z"
   },
   {
    "duration": 41,
    "start_time": "2022-01-01T23:33:05.703Z"
   },
   {
    "duration": 383,
    "start_time": "2022-01-01T23:33:44.994Z"
   },
   {
    "duration": 3,
    "start_time": "2022-01-01T23:33:50.001Z"
   },
   {
    "duration": 140,
    "start_time": "2022-01-01T23:33:50.008Z"
   },
   {
    "duration": 76,
    "start_time": "2022-01-01T23:33:50.158Z"
   },
   {
    "duration": 39,
    "start_time": "2022-01-01T23:33:50.237Z"
   },
   {
    "duration": 49,
    "start_time": "2022-01-01T23:33:50.278Z"
   },
   {
    "duration": 93,
    "start_time": "2022-01-01T23:33:50.329Z"
   },
   {
    "duration": 40,
    "start_time": "2022-01-01T23:33:50.424Z"
   },
   {
    "duration": 31,
    "start_time": "2022-01-01T23:33:50.466Z"
   },
   {
    "duration": 20,
    "start_time": "2022-01-01T23:33:50.501Z"
   },
   {
    "duration": 66,
    "start_time": "2022-01-01T23:33:50.524Z"
   },
   {
    "duration": 24,
    "start_time": "2022-01-01T23:33:50.592Z"
   },
   {
    "duration": 44,
    "start_time": "2022-01-01T23:33:50.618Z"
   },
   {
    "duration": 9,
    "start_time": "2022-01-01T23:33:50.664Z"
   },
   {
    "duration": 718,
    "start_time": "2022-01-01T23:33:50.675Z"
   },
   {
    "duration": 798,
    "start_time": "2022-01-01T23:33:51.396Z"
   },
   {
    "duration": 344,
    "start_time": "2022-01-01T23:33:52.197Z"
   },
   {
    "duration": 330,
    "start_time": "2022-01-01T23:34:07.336Z"
   },
   {
    "duration": 404,
    "start_time": "2022-01-01T23:37:09.876Z"
   },
   {
    "duration": 1436,
    "start_time": "2022-01-01T23:37:20.787Z"
   },
   {
    "duration": 318,
    "start_time": "2022-01-01T23:37:55.026Z"
   },
   {
    "duration": 314,
    "start_time": "2022-01-01T23:38:00.471Z"
   },
   {
    "duration": 358,
    "start_time": "2022-01-01T23:38:21.397Z"
   },
   {
    "duration": 762,
    "start_time": "2022-01-01T23:38:33.451Z"
   },
   {
    "duration": 115,
    "start_time": "2022-01-01T23:38:34.216Z"
   },
   {
    "duration": 90,
    "start_time": "2022-01-01T23:38:34.335Z"
   },
   {
    "duration": 34,
    "start_time": "2022-01-01T23:38:34.428Z"
   },
   {
    "duration": 41,
    "start_time": "2022-01-01T23:38:34.465Z"
   },
   {
    "duration": 99,
    "start_time": "2022-01-01T23:38:34.508Z"
   },
   {
    "duration": 20,
    "start_time": "2022-01-01T23:38:34.610Z"
   },
   {
    "duration": 50,
    "start_time": "2022-01-01T23:38:34.633Z"
   },
   {
    "duration": 21,
    "start_time": "2022-01-01T23:38:34.686Z"
   },
   {
    "duration": 61,
    "start_time": "2022-01-01T23:38:34.709Z"
   },
   {
    "duration": 24,
    "start_time": "2022-01-01T23:38:34.772Z"
   },
   {
    "duration": 23,
    "start_time": "2022-01-01T23:38:34.799Z"
   },
   {
    "duration": 37,
    "start_time": "2022-01-01T23:38:34.824Z"
   },
   {
    "duration": 661,
    "start_time": "2022-01-01T23:38:34.864Z"
   },
   {
    "duration": 780,
    "start_time": "2022-01-01T23:38:35.527Z"
   },
   {
    "duration": 324,
    "start_time": "2022-01-01T23:38:36.309Z"
   },
   {
    "duration": 307,
    "start_time": "2022-01-01T23:38:36.635Z"
   },
   {
    "duration": 286,
    "start_time": "2022-01-01T23:38:36.944Z"
   },
   {
    "duration": 3,
    "start_time": "2022-01-01T23:38:37.232Z"
   },
   {
    "duration": 61,
    "start_time": "2022-01-01T23:38:37.237Z"
   },
   {
    "duration": 28,
    "start_time": "2022-01-01T23:38:37.300Z"
   },
   {
    "duration": 3,
    "start_time": "2022-01-01T23:38:37.330Z"
   },
   {
    "duration": 3,
    "start_time": "2022-01-01T23:38:51.640Z"
   },
   {
    "duration": 118,
    "start_time": "2022-01-01T23:38:51.646Z"
   },
   {
    "duration": 70,
    "start_time": "2022-01-01T23:38:51.767Z"
   },
   {
    "duration": 37,
    "start_time": "2022-01-01T23:38:51.840Z"
   },
   {
    "duration": 40,
    "start_time": "2022-01-01T23:38:51.880Z"
   },
   {
    "duration": 95,
    "start_time": "2022-01-01T23:38:51.922Z"
   },
   {
    "duration": 38,
    "start_time": "2022-01-01T23:38:52.021Z"
   },
   {
    "duration": 24,
    "start_time": "2022-01-01T23:38:52.061Z"
   },
   {
    "duration": 19,
    "start_time": "2022-01-01T23:38:52.088Z"
   },
   {
    "duration": 70,
    "start_time": "2022-01-01T23:38:52.109Z"
   },
   {
    "duration": 23,
    "start_time": "2022-01-01T23:38:52.182Z"
   },
   {
    "duration": 23,
    "start_time": "2022-01-01T23:38:52.207Z"
   },
   {
    "duration": 30,
    "start_time": "2022-01-01T23:38:52.232Z"
   },
   {
    "duration": 578,
    "start_time": "2022-01-01T23:38:52.264Z"
   },
   {
    "duration": 738,
    "start_time": "2022-01-01T23:38:52.845Z"
   },
   {
    "duration": 414,
    "start_time": "2022-01-01T23:38:53.585Z"
   },
   {
    "duration": 287,
    "start_time": "2022-01-01T23:38:58.842Z"
   },
   {
    "duration": 295,
    "start_time": "2022-01-01T23:39:22.850Z"
   },
   {
    "duration": 367,
    "start_time": "2022-01-01T23:39:40.494Z"
   },
   {
    "duration": 307,
    "start_time": "2022-01-01T23:40:39.346Z"
   },
   {
    "duration": 471,
    "start_time": "2022-01-01T23:41:13.694Z"
   },
   {
    "duration": 309,
    "start_time": "2022-01-01T23:41:24.466Z"
   },
   {
    "duration": 291,
    "start_time": "2022-01-01T23:41:31.942Z"
   },
   {
    "duration": 284,
    "start_time": "2022-01-01T23:41:46.397Z"
   },
   {
    "duration": 303,
    "start_time": "2022-01-01T23:41:58.544Z"
   },
   {
    "duration": 279,
    "start_time": "2022-01-01T23:42:04.561Z"
   },
   {
    "duration": 293,
    "start_time": "2022-01-01T23:42:23.589Z"
   },
   {
    "duration": 348,
    "start_time": "2022-01-01T23:42:27.244Z"
   },
   {
    "duration": 326,
    "start_time": "2022-01-01T23:42:35.579Z"
   },
   {
    "duration": 301,
    "start_time": "2022-01-01T23:42:42.221Z"
   },
   {
    "duration": 309,
    "start_time": "2022-01-01T23:43:34.494Z"
   },
   {
    "duration": 438,
    "start_time": "2022-01-01T23:43:39.174Z"
   },
   {
    "duration": 295,
    "start_time": "2022-01-01T23:43:51.321Z"
   },
   {
    "duration": 268,
    "start_time": "2022-01-01T23:44:02.663Z"
   },
   {
    "duration": 264,
    "start_time": "2022-01-01T23:44:07.984Z"
   },
   {
    "duration": 44,
    "start_time": "2022-01-01T23:44:30.329Z"
   },
   {
    "duration": 424,
    "start_time": "2022-01-01T23:46:58.186Z"
   },
   {
    "duration": 724,
    "start_time": "2022-01-01T23:47:02.995Z"
   },
   {
    "duration": 115,
    "start_time": "2022-01-01T23:47:03.722Z"
   },
   {
    "duration": 88,
    "start_time": "2022-01-01T23:47:03.840Z"
   },
   {
    "duration": 37,
    "start_time": "2022-01-01T23:47:03.931Z"
   },
   {
    "duration": 47,
    "start_time": "2022-01-01T23:47:03.970Z"
   },
   {
    "duration": 46,
    "start_time": "2022-01-01T23:47:15.909Z"
   },
   {
    "duration": 765,
    "start_time": "2022-01-01T23:47:23.764Z"
   },
   {
    "duration": 115,
    "start_time": "2022-01-01T23:47:24.532Z"
   },
   {
    "duration": 81,
    "start_time": "2022-01-01T23:47:24.649Z"
   },
   {
    "duration": 29,
    "start_time": "2022-01-01T23:47:24.732Z"
   },
   {
    "duration": 41,
    "start_time": "2022-01-01T23:47:24.763Z"
   },
   {
    "duration": 79,
    "start_time": "2022-01-01T23:47:40.984Z"
   },
   {
    "duration": 539,
    "start_time": "2022-01-01T23:48:07.089Z"
   },
   {
    "duration": 55,
    "start_time": "2022-01-01T23:48:18.787Z"
   },
   {
    "duration": 20,
    "start_time": "2022-01-01T23:48:21.689Z"
   },
   {
    "duration": 32,
    "start_time": "2022-01-01T23:48:24.456Z"
   },
   {
    "duration": 22,
    "start_time": "2022-01-01T23:48:45.198Z"
   },
   {
    "duration": 41,
    "start_time": "2022-01-01T23:48:47.151Z"
   },
   {
    "duration": 3,
    "start_time": "2022-01-01T23:48:56.338Z"
   },
   {
    "duration": 111,
    "start_time": "2022-01-01T23:48:56.344Z"
   },
   {
    "duration": 103,
    "start_time": "2022-01-01T23:48:56.458Z"
   },
   {
    "duration": 50,
    "start_time": "2022-01-01T23:48:56.565Z"
   },
   {
    "duration": 141,
    "start_time": "2022-01-01T23:48:56.619Z"
   },
   {
    "duration": 224,
    "start_time": "2022-01-01T23:48:56.764Z"
   },
   {
    "duration": 41,
    "start_time": "2022-01-01T23:48:56.992Z"
   },
   {
    "duration": 28,
    "start_time": "2022-01-01T23:48:57.036Z"
   },
   {
    "duration": 21,
    "start_time": "2022-01-01T23:48:57.066Z"
   },
   {
    "duration": 42,
    "start_time": "2022-01-01T23:48:57.091Z"
   },
   {
    "duration": 48,
    "start_time": "2022-01-01T23:48:57.135Z"
   },
   {
    "duration": 24,
    "start_time": "2022-01-01T23:48:57.185Z"
   },
   {
    "duration": 7,
    "start_time": "2022-01-01T23:48:57.211Z"
   },
   {
    "duration": 721,
    "start_time": "2022-01-01T23:48:57.220Z"
   },
   {
    "duration": 796,
    "start_time": "2022-01-01T23:48:57.943Z"
   },
   {
    "duration": 320,
    "start_time": "2022-01-01T23:48:58.741Z"
   },
   {
    "duration": 323,
    "start_time": "2022-01-01T23:48:59.064Z"
   },
   {
    "duration": 18,
    "start_time": "2022-01-01T23:50:13.378Z"
   },
   {
    "duration": 22,
    "start_time": "2022-01-01T23:51:19.945Z"
   },
   {
    "duration": 18,
    "start_time": "2022-01-01T23:51:26.272Z"
   },
   {
    "duration": 352,
    "start_time": "2022-01-01T23:52:22.018Z"
   },
   {
    "duration": 414,
    "start_time": "2022-01-01T23:52:58.077Z"
   },
   {
    "duration": 340,
    "start_time": "2022-01-01T23:53:37.051Z"
   },
   {
    "duration": 304,
    "start_time": "2022-01-01T23:53:53.611Z"
   },
   {
    "duration": 306,
    "start_time": "2022-01-01T23:55:09.089Z"
   },
   {
    "duration": 280,
    "start_time": "2022-01-02T03:53:31.159Z"
   },
   {
    "duration": 259,
    "start_time": "2022-01-02T03:53:37.068Z"
   },
   {
    "duration": 284,
    "start_time": "2022-01-02T03:53:46.200Z"
   },
   {
    "duration": 387,
    "start_time": "2022-01-02T03:54:16.689Z"
   },
   {
    "duration": 723,
    "start_time": "2022-01-02T03:58:11.689Z"
   },
   {
    "duration": 738,
    "start_time": "2022-01-02T03:58:22.684Z"
   },
   {
    "duration": 420,
    "start_time": "2022-01-02T04:06:56.932Z"
   },
   {
    "duration": 393,
    "start_time": "2022-01-02T04:07:02.713Z"
   },
   {
    "duration": 45,
    "start_time": "2022-01-02T04:08:54.318Z"
   },
   {
    "duration": 5,
    "start_time": "2022-01-02T04:08:56.005Z"
   },
   {
    "duration": 24,
    "start_time": "2022-01-02T04:08:57.808Z"
   },
   {
    "duration": 24,
    "start_time": "2022-01-02T04:34:02.047Z"
   },
   {
    "duration": 11,
    "start_time": "2022-01-02T04:34:22.025Z"
   },
   {
    "duration": 13,
    "start_time": "2022-01-02T04:36:01.483Z"
   },
   {
    "duration": 38,
    "start_time": "2022-01-02T04:38:31.784Z"
   },
   {
    "duration": 37,
    "start_time": "2022-01-02T04:38:42.152Z"
   },
   {
    "duration": 326,
    "start_time": "2022-01-02T04:40:14.337Z"
   },
   {
    "duration": 125,
    "start_time": "2022-01-02T04:42:15.863Z"
   },
   {
    "duration": 1150,
    "start_time": "2022-01-02T04:42:20.334Z"
   },
   {
    "duration": 676,
    "start_time": "2022-01-02T04:42:25.765Z"
   },
   {
    "duration": 649,
    "start_time": "2022-01-02T04:43:08.021Z"
   },
   {
    "duration": 793,
    "start_time": "2022-01-02T04:43:12.295Z"
   },
   {
    "duration": 560,
    "start_time": "2022-01-02T04:43:37.809Z"
   },
   {
    "duration": 428,
    "start_time": "2022-01-02T04:43:44.544Z"
   },
   {
    "duration": 340,
    "start_time": "2022-01-02T04:43:51.739Z"
   },
   {
    "duration": 412,
    "start_time": "2022-01-02T04:44:08.760Z"
   },
   {
    "duration": 725,
    "start_time": "2022-01-02T04:44:16.620Z"
   },
   {
    "duration": 688,
    "start_time": "2022-01-02T04:44:28.071Z"
   },
   {
    "duration": 353,
    "start_time": "2022-01-02T04:44:31.934Z"
   },
   {
    "duration": 813,
    "start_time": "2022-01-02T04:46:08.192Z"
   },
   {
    "duration": 682,
    "start_time": "2022-01-02T04:46:16.895Z"
   },
   {
    "duration": 787,
    "start_time": "2022-01-02T04:46:29.553Z"
   },
   {
    "duration": 838,
    "start_time": "2022-01-02T04:46:31.833Z"
   },
   {
    "duration": 1702,
    "start_time": "2022-01-02T04:47:52.705Z"
   },
   {
    "duration": 1687,
    "start_time": "2022-01-02T04:48:18.960Z"
   },
   {
    "duration": 1540,
    "start_time": "2022-01-02T04:48:29.569Z"
   },
   {
    "duration": 967,
    "start_time": "2022-01-02T04:48:56.105Z"
   },
   {
    "duration": 2421,
    "start_time": "2022-01-02T04:49:01.260Z"
   },
   {
    "duration": 6,
    "start_time": "2022-01-02T04:50:17.181Z"
   },
   {
    "duration": 2167,
    "start_time": "2022-01-02T04:50:52.327Z"
   },
   {
    "duration": 2130,
    "start_time": "2022-01-02T04:51:02.368Z"
   },
   {
    "duration": 1940,
    "start_time": "2022-01-02T04:51:10.158Z"
   },
   {
    "duration": 1920,
    "start_time": "2022-01-02T04:51:32.290Z"
   },
   {
    "duration": 1581,
    "start_time": "2022-01-02T04:51:41.778Z"
   },
   {
    "duration": 4857,
    "start_time": "2022-01-02T04:52:43.878Z"
   },
   {
    "duration": 1726,
    "start_time": "2022-01-02T04:52:52.835Z"
   },
   {
    "duration": 1759,
    "start_time": "2022-01-02T04:53:00.692Z"
   },
   {
    "duration": 1599,
    "start_time": "2022-01-02T04:57:14.330Z"
   },
   {
    "duration": 2507,
    "start_time": "2022-01-02T04:58:20.244Z"
   },
   {
    "duration": 368,
    "start_time": "2022-01-02T05:03:58.416Z"
   },
   {
    "duration": 13,
    "start_time": "2022-01-02T05:04:29.268Z"
   },
   {
    "duration": 306,
    "start_time": "2022-01-02T05:04:58.215Z"
   },
   {
    "duration": 341,
    "start_time": "2022-01-02T05:09:36.712Z"
   },
   {
    "duration": 347,
    "start_time": "2022-01-02T05:09:59.648Z"
   },
   {
    "duration": 526,
    "start_time": "2022-01-02T05:10:25.273Z"
   },
   {
    "duration": 337,
    "start_time": "2022-01-02T05:10:37.577Z"
   },
   {
    "duration": 303,
    "start_time": "2022-01-02T05:10:42.292Z"
   },
   {
    "duration": 120,
    "start_time": "2022-01-02T05:13:18.972Z"
   },
   {
    "duration": 372,
    "start_time": "2022-01-02T05:13:34.138Z"
   },
   {
    "duration": 382,
    "start_time": "2022-01-02T05:13:40.780Z"
   },
   {
    "duration": 25,
    "start_time": "2022-01-02T05:13:58.375Z"
   },
   {
    "duration": 49,
    "start_time": "2022-01-02T05:14:36.062Z"
   },
   {
    "duration": 38,
    "start_time": "2022-01-02T05:14:49.004Z"
   },
   {
    "duration": 1517,
    "start_time": "2022-01-02T05:16:06.229Z"
   },
   {
    "duration": 483,
    "start_time": "2022-01-02T05:16:11.194Z"
   },
   {
    "duration": 299,
    "start_time": "2022-01-02T05:16:22.375Z"
   },
   {
    "duration": 40,
    "start_time": "2022-01-02T05:16:39.154Z"
   },
   {
    "duration": 317,
    "start_time": "2022-01-02T05:17:11.810Z"
   },
   {
    "duration": 702,
    "start_time": "2022-01-02T05:17:39.874Z"
   },
   {
    "duration": 365,
    "start_time": "2022-01-02T05:17:55.441Z"
   },
   {
    "duration": 406,
    "start_time": "2022-01-02T05:19:32.131Z"
   },
   {
    "duration": 379,
    "start_time": "2022-01-02T05:19:49.986Z"
   },
   {
    "duration": 356,
    "start_time": "2022-01-02T05:19:53.915Z"
   },
   {
    "duration": 338,
    "start_time": "2022-01-02T05:21:01.201Z"
   },
   {
    "duration": 352,
    "start_time": "2022-01-02T05:22:02.329Z"
   },
   {
    "duration": 459,
    "start_time": "2022-01-02T05:22:18.016Z"
   },
   {
    "duration": 1353,
    "start_time": "2022-01-02T05:22:28.965Z"
   },
   {
    "duration": 1139,
    "start_time": "2022-01-02T05:22:44.383Z"
   },
   {
    "duration": 359,
    "start_time": "2022-01-02T05:23:19.049Z"
   },
   {
    "duration": 431,
    "start_time": "2022-01-02T05:23:34.835Z"
   },
   {
    "duration": 307,
    "start_time": "2022-01-02T05:23:42.293Z"
   },
   {
    "duration": 389,
    "start_time": "2022-01-02T05:23:46.940Z"
   },
   {
    "duration": 336,
    "start_time": "2022-01-02T05:24:07.656Z"
   },
   {
    "duration": 392,
    "start_time": "2022-01-02T05:24:19.945Z"
   },
   {
    "duration": 401,
    "start_time": "2022-01-02T05:25:10.618Z"
   },
   {
    "duration": 687,
    "start_time": "2022-01-02T05:25:40.885Z"
   },
   {
    "duration": 686,
    "start_time": "2022-01-02T05:26:01.393Z"
   },
   {
    "duration": 399,
    "start_time": "2022-01-02T05:26:27.313Z"
   },
   {
    "duration": 339,
    "start_time": "2022-01-02T05:26:34.173Z"
   },
   {
    "duration": 389,
    "start_time": "2022-01-02T05:26:52.775Z"
   },
   {
    "duration": 388,
    "start_time": "2022-01-02T05:27:19.986Z"
   },
   {
    "duration": 392,
    "start_time": "2022-01-02T05:27:29.307Z"
   },
   {
    "duration": 341,
    "start_time": "2022-01-02T05:28:04.742Z"
   },
   {
    "duration": 309,
    "start_time": "2022-01-02T05:28:20.985Z"
   },
   {
    "duration": 306,
    "start_time": "2022-01-02T05:29:11.586Z"
   },
   {
    "duration": 469,
    "start_time": "2022-01-02T09:42:02.201Z"
   },
   {
    "duration": 64,
    "start_time": "2022-01-02T09:42:09.941Z"
   },
   {
    "duration": 862,
    "start_time": "2022-01-03T00:01:06.768Z"
   },
   {
    "duration": 964,
    "start_time": "2022-01-03T00:01:23.008Z"
   },
   {
    "duration": 879,
    "start_time": "2022-01-03T00:01:30.537Z"
   },
   {
    "duration": 873,
    "start_time": "2022-01-03T00:01:38.937Z"
   },
   {
    "duration": 371,
    "start_time": "2022-01-03T00:01:41.988Z"
   },
   {
    "duration": 2268,
    "start_time": "2022-01-03T00:02:02.027Z"
   },
   {
    "duration": 1560,
    "start_time": "2022-01-03T00:02:12.858Z"
   },
   {
    "duration": 130,
    "start_time": "2022-01-03T00:05:46.716Z"
   },
   {
    "duration": 973,
    "start_time": "2022-01-03T00:06:07.110Z"
   },
   {
    "duration": 3183,
    "start_time": "2022-01-03T00:06:24.563Z"
   },
   {
    "duration": 1723,
    "start_time": "2022-01-03T00:07:57.623Z"
   },
   {
    "duration": 1972,
    "start_time": "2022-01-03T00:09:40.633Z"
   },
   {
    "duration": 1720,
    "start_time": "2022-01-03T00:10:07.839Z"
   },
   {
    "duration": 2114,
    "start_time": "2022-01-03T00:10:20.436Z"
   },
   {
    "duration": 1829,
    "start_time": "2022-01-03T00:10:31.722Z"
   },
   {
    "duration": 1712,
    "start_time": "2022-01-03T00:10:36.907Z"
   },
   {
    "duration": 390,
    "start_time": "2022-01-03T00:42:36.536Z"
   },
   {
    "duration": 350,
    "start_time": "2022-01-03T00:42:55.666Z"
   },
   {
    "duration": 336,
    "start_time": "2022-01-03T00:43:10.248Z"
   },
   {
    "duration": 371,
    "start_time": "2022-01-03T00:49:34.790Z"
   },
   {
    "duration": 16,
    "start_time": "2022-01-03T00:49:42.584Z"
   },
   {
    "duration": 19,
    "start_time": "2022-01-03T00:49:49.817Z"
   },
   {
    "duration": 33,
    "start_time": "2022-01-03T00:50:32.796Z"
   },
   {
    "duration": 41,
    "start_time": "2022-01-03T00:51:00.693Z"
   },
   {
    "duration": 466,
    "start_time": "2022-01-03T00:51:50.546Z"
   },
   {
    "duration": 435,
    "start_time": "2022-01-03T00:51:54.742Z"
   },
   {
    "duration": 448,
    "start_time": "2022-01-03T00:52:12.376Z"
   },
   {
    "duration": 411,
    "start_time": "2022-01-03T00:53:51.256Z"
   },
   {
    "duration": 6,
    "start_time": "2022-01-03T00:55:08.696Z"
   },
   {
    "duration": 364,
    "start_time": "2022-01-03T00:55:58.846Z"
   },
   {
    "duration": 12321,
    "start_time": "2022-01-03T00:56:05.507Z"
   },
   {
    "duration": 12553,
    "start_time": "2022-01-03T00:56:24.226Z"
   },
   {
    "duration": 7,
    "start_time": "2022-01-03T00:57:47.471Z"
   },
   {
    "duration": 843,
    "start_time": "2022-01-03T00:58:48.752Z"
   },
   {
    "duration": 822,
    "start_time": "2022-01-03T00:58:58.575Z"
   },
   {
    "duration": 849,
    "start_time": "2022-01-03T00:59:05.989Z"
   },
   {
    "duration": 1085,
    "start_time": "2022-01-03T01:00:09.051Z"
   },
   {
    "duration": 873,
    "start_time": "2022-01-03T01:00:45.045Z"
   },
   {
    "duration": 863,
    "start_time": "2022-01-03T01:01:31.688Z"
   },
   {
    "duration": 337,
    "start_time": "2022-01-03T01:03:10.544Z"
   },
   {
    "duration": 331,
    "start_time": "2022-01-03T01:03:26.344Z"
   },
   {
    "duration": 659,
    "start_time": "2022-01-03T01:03:46.575Z"
   },
   {
    "duration": 987,
    "start_time": "2022-01-03T01:03:53.033Z"
   },
   {
    "duration": 957,
    "start_time": "2022-01-03T01:04:02.061Z"
   },
   {
    "duration": 1070,
    "start_time": "2022-01-03T01:04:33.977Z"
   },
   {
    "duration": 15,
    "start_time": "2022-01-03T01:06:19.166Z"
   },
   {
    "duration": 8963,
    "start_time": "2022-01-03T01:07:05.219Z"
   },
   {
    "duration": 9738,
    "start_time": "2022-01-03T01:08:19.615Z"
   },
   {
    "duration": 364,
    "start_time": "2022-01-03T01:08:37.706Z"
   },
   {
    "duration": 7105,
    "start_time": "2022-01-03T01:08:40.429Z"
   },
   {
    "duration": 28,
    "start_time": "2022-01-03T01:09:19.825Z"
   },
   {
    "duration": 36,
    "start_time": "2022-01-03T01:09:30.656Z"
   },
   {
    "duration": 23,
    "start_time": "2022-01-03T01:09:55.724Z"
   },
   {
    "duration": 38,
    "start_time": "2022-01-03T01:10:03.390Z"
   },
   {
    "duration": 45,
    "start_time": "2022-01-03T01:11:46.557Z"
   },
   {
    "duration": 48,
    "start_time": "2022-01-03T01:11:56.635Z"
   },
   {
    "duration": 412,
    "start_time": "2022-01-03T01:14:51.785Z"
   },
   {
    "duration": 1482,
    "start_time": "2022-01-03T01:15:19.439Z"
   },
   {
    "duration": 6,
    "start_time": "2022-01-03T01:15:34.350Z"
   },
   {
    "duration": 9,
    "start_time": "2022-01-03T01:15:53.741Z"
   },
   {
    "duration": -228,
    "start_time": "2022-01-03T01:18:27.545Z"
   },
   {
    "duration": 9486,
    "start_time": "2022-01-03T01:18:50.513Z"
   },
   {
    "duration": 371,
    "start_time": "2022-01-03T01:19:25.766Z"
   },
   {
    "duration": 10038,
    "start_time": "2022-01-03T01:19:31.288Z"
   },
   {
    "duration": 9,
    "start_time": "2022-01-03T01:20:02.894Z"
   },
   {
    "duration": 1611,
    "start_time": "2022-01-03T01:20:09.997Z"
   },
   {
    "duration": 11,
    "start_time": "2022-01-03T01:20:16.276Z"
   },
   {
    "duration": 10,
    "start_time": "2022-01-03T01:20:22.695Z"
   },
   {
    "duration": 9425,
    "start_time": "2022-01-03T01:20:32.142Z"
   },
   {
    "duration": 11405,
    "start_time": "2022-01-03T01:21:19.267Z"
   },
   {
    "duration": 371,
    "start_time": "2022-01-03T01:21:49.668Z"
   },
   {
    "duration": 10768,
    "start_time": "2022-01-03T01:21:57.695Z"
   },
   {
    "duration": 9176,
    "start_time": "2022-01-03T01:22:39.968Z"
   },
   {
    "duration": 12,
    "start_time": "2022-01-03T01:23:41.709Z"
   },
   {
    "duration": 328,
    "start_time": "2022-01-03T01:24:23.518Z"
   },
   {
    "duration": 12,
    "start_time": "2022-01-03T01:24:36.069Z"
   },
   {
    "duration": 13,
    "start_time": "2022-01-03T01:25:16.029Z"
   },
   {
    "duration": 388,
    "start_time": "2022-01-03T01:25:43.100Z"
   },
   {
    "duration": 6,
    "start_time": "2022-01-03T01:26:12.025Z"
   },
   {
    "duration": 395,
    "start_time": "2022-01-03T01:26:19.511Z"
   },
   {
    "duration": 338,
    "start_time": "2022-01-03T01:26:28.098Z"
   },
   {
    "duration": 367,
    "start_time": "2022-01-03T01:27:37.444Z"
   },
   {
    "duration": 20,
    "start_time": "2022-01-03T01:27:51.437Z"
   },
   {
    "duration": 308,
    "start_time": "2022-01-03T01:28:16.633Z"
   },
   {
    "duration": 13,
    "start_time": "2022-01-03T01:28:31.704Z"
   },
   {
    "duration": 127,
    "start_time": "2022-01-03T01:28:41.324Z"
   },
   {
    "duration": 12,
    "start_time": "2022-01-03T01:28:44.502Z"
   },
   {
    "duration": 388,
    "start_time": "2022-01-03T01:29:19.336Z"
   },
   {
    "duration": 315,
    "start_time": "2022-01-03T01:30:31.703Z"
   },
   {
    "duration": 13,
    "start_time": "2022-01-03T01:30:46.895Z"
   },
   {
    "duration": 373,
    "start_time": "2022-01-03T01:31:21.387Z"
   },
   {
    "duration": 14,
    "start_time": "2022-01-03T01:31:29.829Z"
   },
   {
    "duration": 365,
    "start_time": "2022-01-03T01:31:37.612Z"
   },
   {
    "duration": 12,
    "start_time": "2022-01-03T01:32:05.411Z"
   },
   {
    "duration": 9223,
    "start_time": "2022-01-03T01:33:34.159Z"
   },
   {
    "duration": 9229,
    "start_time": "2022-01-03T01:34:16.274Z"
   },
   {
    "duration": 349,
    "start_time": "2022-01-03T01:34:36.713Z"
   },
   {
    "duration": 460,
    "start_time": "2022-01-03T01:35:00.952Z"
   },
   {
    "duration": 180,
    "start_time": "2022-01-03T01:35:20.645Z"
   },
   {
    "duration": 311,
    "start_time": "2022-01-03T01:35:27.071Z"
   },
   {
    "duration": 14,
    "start_time": "2022-01-03T01:35:30.941Z"
   },
   {
    "duration": 16,
    "start_time": "2022-01-03T01:36:26.607Z"
   },
   {
    "duration": 376,
    "start_time": "2022-01-03T01:36:42.228Z"
   },
   {
    "duration": 359,
    "start_time": "2022-01-03T01:45:37.787Z"
   },
   {
    "duration": 338,
    "start_time": "2022-01-03T01:47:15.965Z"
   },
   {
    "duration": 327,
    "start_time": "2022-01-03T01:47:37.657Z"
   },
   {
    "duration": 301,
    "start_time": "2022-01-03T01:48:01.729Z"
   },
   {
    "duration": 305,
    "start_time": "2022-01-03T01:48:07.558Z"
   },
   {
    "duration": 804,
    "start_time": "2022-01-03T01:48:19.032Z"
   },
   {
    "duration": 116,
    "start_time": "2022-01-03T01:48:19.838Z"
   },
   {
    "duration": 83,
    "start_time": "2022-01-03T01:48:19.957Z"
   },
   {
    "duration": 37,
    "start_time": "2022-01-03T01:48:20.043Z"
   },
   {
    "duration": 39,
    "start_time": "2022-01-03T01:48:20.084Z"
   },
   {
    "duration": 78,
    "start_time": "2022-01-03T01:48:20.158Z"
   },
   {
    "duration": 38,
    "start_time": "2022-01-03T01:48:20.239Z"
   },
   {
    "duration": 23,
    "start_time": "2022-01-03T01:48:20.283Z"
   },
   {
    "duration": 55,
    "start_time": "2022-01-03T01:48:20.310Z"
   },
   {
    "duration": 46,
    "start_time": "2022-01-03T01:48:20.368Z"
   },
   {
    "duration": 56,
    "start_time": "2022-01-03T01:48:20.417Z"
   },
   {
    "duration": 25,
    "start_time": "2022-01-03T01:48:20.476Z"
   },
   {
    "duration": 8,
    "start_time": "2022-01-03T01:48:20.504Z"
   },
   {
    "duration": 496,
    "start_time": "2022-01-03T01:48:20.515Z"
   },
   {
    "duration": 823,
    "start_time": "2022-01-03T01:48:21.014Z"
   },
   {
    "duration": 369,
    "start_time": "2022-01-03T01:48:21.840Z"
   },
   {
    "duration": 331,
    "start_time": "2022-01-03T01:48:22.211Z"
   },
   {
    "duration": 269,
    "start_time": "2022-01-03T01:48:22.544Z"
   },
   {
    "duration": 3,
    "start_time": "2022-01-03T01:48:22.816Z"
   },
   {
    "duration": 55,
    "start_time": "2022-01-03T01:48:22.821Z"
   },
   {
    "duration": 5,
    "start_time": "2022-01-03T01:48:22.878Z"
   },
   {
    "duration": 487,
    "start_time": "2022-01-03T01:48:22.885Z"
   },
   {
    "duration": -688,
    "start_time": "2022-01-03T01:48:24.062Z"
   },
   {
    "duration": -691,
    "start_time": "2022-01-03T01:48:24.067Z"
   },
   {
    "duration": -694,
    "start_time": "2022-01-03T01:48:24.071Z"
   },
   {
    "duration": -697,
    "start_time": "2022-01-03T01:48:24.075Z"
   },
   {
    "duration": 5,
    "start_time": "2022-01-03T01:49:26.602Z"
   },
   {
    "duration": 411,
    "start_time": "2022-01-03T01:49:28.679Z"
   },
   {
    "duration": 12,
    "start_time": "2022-01-03T01:49:41.137Z"
   },
   {
    "duration": 1686,
    "start_time": "2022-01-03T01:49:50.519Z"
   },
   {
    "duration": 283,
    "start_time": "2022-01-03T01:49:57.213Z"
   },
   {
    "duration": 342,
    "start_time": "2022-01-03T01:50:00.762Z"
   },
   {
    "duration": 297,
    "start_time": "2022-01-03T01:50:05.810Z"
   },
   {
    "duration": 303,
    "start_time": "2022-01-03T01:51:11.317Z"
   },
   {
    "duration": 362,
    "start_time": "2022-01-03T01:51:27.455Z"
   },
   {
    "duration": 296,
    "start_time": "2022-01-03T01:51:46.987Z"
   },
   {
    "duration": 32,
    "start_time": "2022-01-03T01:54:35.645Z"
   },
   {
    "duration": 285,
    "start_time": "2022-01-03T01:54:44.090Z"
   },
   {
    "duration": 20,
    "start_time": "2022-01-03T01:54:46.881Z"
   },
   {
    "duration": 795,
    "start_time": "2022-01-03T01:54:52.421Z"
   },
   {
    "duration": 114,
    "start_time": "2022-01-03T01:54:53.219Z"
   },
   {
    "duration": 94,
    "start_time": "2022-01-03T01:54:53.339Z"
   },
   {
    "duration": 37,
    "start_time": "2022-01-03T01:54:53.435Z"
   },
   {
    "duration": 37,
    "start_time": "2022-01-03T01:54:53.475Z"
   },
   {
    "duration": 98,
    "start_time": "2022-01-03T01:54:53.515Z"
   },
   {
    "duration": 20,
    "start_time": "2022-01-03T01:54:53.616Z"
   },
   {
    "duration": 24,
    "start_time": "2022-01-03T01:54:53.660Z"
   },
   {
    "duration": 21,
    "start_time": "2022-01-03T01:54:53.687Z"
   },
   {
    "duration": 63,
    "start_time": "2022-01-03T01:54:53.711Z"
   },
   {
    "duration": 27,
    "start_time": "2022-01-03T01:54:53.776Z"
   },
   {
    "duration": 23,
    "start_time": "2022-01-03T01:54:53.805Z"
   },
   {
    "duration": 34,
    "start_time": "2022-01-03T01:54:53.831Z"
   },
   {
    "duration": 474,
    "start_time": "2022-01-03T01:54:53.868Z"
   },
   {
    "duration": 725,
    "start_time": "2022-01-03T01:54:54.345Z"
   },
   {
    "duration": 367,
    "start_time": "2022-01-03T01:54:55.073Z"
   },
   {
    "duration": 332,
    "start_time": "2022-01-03T01:54:55.444Z"
   },
   {
    "duration": 289,
    "start_time": "2022-01-03T01:54:55.779Z"
   },
   {
    "duration": 3,
    "start_time": "2022-01-03T01:54:56.071Z"
   },
   {
    "duration": 39,
    "start_time": "2022-01-03T01:54:56.077Z"
   },
   {
    "duration": 6,
    "start_time": "2022-01-03T01:54:56.119Z"
   },
   {
    "duration": 14,
    "start_time": "2022-01-03T01:54:56.161Z"
   },
   {
    "duration": 1683,
    "start_time": "2022-01-03T01:54:56.177Z"
   },
   {
    "duration": 324,
    "start_time": "2022-01-03T01:54:57.862Z"
   },
   {
    "duration": 335,
    "start_time": "2022-01-03T01:54:58.189Z"
   },
   {
    "duration": 688,
    "start_time": "2022-01-03T01:54:58.529Z"
   },
   {
    "duration": -155,
    "start_time": "2022-01-03T01:54:59.374Z"
   },
   {
    "duration": 3,
    "start_time": "2022-01-03T01:55:09.009Z"
   },
   {
    "duration": 117,
    "start_time": "2022-01-03T01:55:09.015Z"
   },
   {
    "duration": 84,
    "start_time": "2022-01-03T01:55:09.135Z"
   },
   {
    "duration": 39,
    "start_time": "2022-01-03T01:55:09.222Z"
   },
   {
    "duration": 37,
    "start_time": "2022-01-03T01:55:09.264Z"
   },
   {
    "duration": 102,
    "start_time": "2022-01-03T01:55:09.303Z"
   },
   {
    "duration": 20,
    "start_time": "2022-01-03T01:55:09.408Z"
   },
   {
    "duration": 38,
    "start_time": "2022-01-03T01:55:09.431Z"
   },
   {
    "duration": 22,
    "start_time": "2022-01-03T01:55:09.471Z"
   },
   {
    "duration": 68,
    "start_time": "2022-01-03T01:55:09.495Z"
   },
   {
    "duration": 25,
    "start_time": "2022-01-03T01:55:09.566Z"
   },
   {
    "duration": 24,
    "start_time": "2022-01-03T01:55:09.593Z"
   },
   {
    "duration": 40,
    "start_time": "2022-01-03T01:55:09.619Z"
   },
   {
    "duration": 374,
    "start_time": "2022-01-03T01:55:09.662Z"
   },
   {
    "duration": 940,
    "start_time": "2022-01-03T01:55:10.038Z"
   },
   {
    "duration": 327,
    "start_time": "2022-01-03T01:55:10.981Z"
   },
   {
    "duration": 340,
    "start_time": "2022-01-03T01:55:11.311Z"
   },
   {
    "duration": 305,
    "start_time": "2022-01-03T01:55:11.654Z"
   },
   {
    "duration": 2,
    "start_time": "2022-01-03T01:55:11.964Z"
   },
   {
    "duration": 38,
    "start_time": "2022-01-03T01:55:11.969Z"
   },
   {
    "duration": 5,
    "start_time": "2022-01-03T01:55:12.009Z"
   },
   {
    "duration": 46,
    "start_time": "2022-01-03T01:55:12.017Z"
   },
   {
    "duration": 1660,
    "start_time": "2022-01-03T01:55:12.066Z"
   },
   {
    "duration": 310,
    "start_time": "2022-01-03T01:55:13.729Z"
   },
   {
    "duration": 354,
    "start_time": "2022-01-03T01:55:14.041Z"
   },
   {
    "duration": 365,
    "start_time": "2022-01-03T01:55:14.398Z"
   },
   {
    "duration": -80,
    "start_time": "2022-01-03T01:55:14.845Z"
   },
   {
    "duration": 302,
    "start_time": "2022-01-03T01:55:27.186Z"
   },
   {
    "duration": 21,
    "start_time": "2022-01-03T01:55:30.957Z"
   },
   {
    "duration": 363,
    "start_time": "2022-01-03T01:55:49.545Z"
   },
   {
    "duration": 18951,
    "start_time": "2022-01-03T01:57:24.714Z"
   },
   {
    "duration": 382,
    "start_time": "2022-01-03T01:59:06.836Z"
   },
   {
    "duration": 6026,
    "start_time": "2022-01-03T01:59:38.651Z"
   },
   {
    "duration": 11798,
    "start_time": "2022-01-03T02:00:38.604Z"
   },
   {
    "duration": 309,
    "start_time": "2022-01-03T02:01:00.673Z"
   },
   {
    "duration": 2545,
    "start_time": "2022-01-03T02:01:17.718Z"
   },
   {
    "duration": 35,
    "start_time": "2022-01-03T02:08:26.059Z"
   },
   {
    "duration": 386,
    "start_time": "2022-01-03T02:09:30.447Z"
   },
   {
    "duration": 362,
    "start_time": "2022-01-03T02:09:36.332Z"
   },
   {
    "duration": 19565,
    "start_time": "2022-01-03T02:09:53.998Z"
   },
   {
    "duration": 286,
    "start_time": "2022-01-03T02:10:25.934Z"
   },
   {
    "duration": 426,
    "start_time": "2022-01-03T02:13:10.966Z"
   },
   {
    "duration": 9,
    "start_time": "2022-01-03T02:13:30.762Z"
   },
   {
    "duration": 367,
    "start_time": "2022-01-03T02:13:55.711Z"
   },
   {
    "duration": 379,
    "start_time": "2022-01-03T02:14:00.424Z"
   },
   {
    "duration": 12057,
    "start_time": "2022-01-03T02:14:03.637Z"
   },
   {
    "duration": 727,
    "start_time": "2022-01-03T02:16:02.349Z"
   },
   {
    "duration": 19,
    "start_time": "2022-01-03T02:17:13.725Z"
   },
   {
    "duration": 18,
    "start_time": "2022-01-03T02:19:40.878Z"
   },
   {
    "duration": 178,
    "start_time": "2022-01-03T02:20:27.218Z"
   },
   {
    "duration": 390,
    "start_time": "2022-01-03T02:20:35.582Z"
   },
   {
    "duration": 132,
    "start_time": "2022-01-03T02:22:40.252Z"
   },
   {
    "duration": 120,
    "start_time": "2022-01-03T02:23:43.333Z"
   },
   {
    "duration": 137,
    "start_time": "2022-01-03T02:23:46.253Z"
   },
   {
    "duration": 22,
    "start_time": "2022-01-03T02:23:48.318Z"
   },
   {
    "duration": 21,
    "start_time": "2022-01-03T02:24:04.713Z"
   },
   {
    "duration": 19,
    "start_time": "2022-01-03T02:24:38.226Z"
   },
   {
    "duration": 135,
    "start_time": "2022-01-03T02:24:55.161Z"
   },
   {
    "duration": 17,
    "start_time": "2022-01-03T02:24:57.027Z"
   },
   {
    "duration": 19,
    "start_time": "2022-01-03T02:25:35.098Z"
   },
   {
    "duration": 21,
    "start_time": "2022-01-03T02:25:38.925Z"
   },
   {
    "duration": 19,
    "start_time": "2022-01-03T02:25:57.140Z"
   },
   {
    "duration": 22,
    "start_time": "2022-01-03T02:26:01.299Z"
   },
   {
    "duration": 28,
    "start_time": "2022-01-03T02:26:20.256Z"
   },
   {
    "duration": 17,
    "start_time": "2022-01-03T02:26:38.411Z"
   },
   {
    "duration": 17,
    "start_time": "2022-01-03T02:26:45.944Z"
   },
   {
    "duration": 7,
    "start_time": "2022-01-03T02:26:53.908Z"
   },
   {
    "duration": 13,
    "start_time": "2022-01-03T02:26:58.151Z"
   },
   {
    "duration": 14,
    "start_time": "2022-01-03T02:27:02.196Z"
   },
   {
    "duration": 14,
    "start_time": "2022-01-03T02:27:34.459Z"
   },
   {
    "duration": 17,
    "start_time": "2022-01-03T02:27:36.326Z"
   },
   {
    "duration": 767,
    "start_time": "2022-01-03T02:27:47.252Z"
   },
   {
    "duration": 114,
    "start_time": "2022-01-03T02:27:48.022Z"
   },
   {
    "duration": 85,
    "start_time": "2022-01-03T02:27:48.139Z"
   },
   {
    "duration": 34,
    "start_time": "2022-01-03T02:27:48.227Z"
   },
   {
    "duration": 38,
    "start_time": "2022-01-03T02:27:48.263Z"
   },
   {
    "duration": 101,
    "start_time": "2022-01-03T02:27:48.303Z"
   },
   {
    "duration": 22,
    "start_time": "2022-01-03T02:27:48.406Z"
   },
   {
    "duration": 44,
    "start_time": "2022-01-03T02:27:48.432Z"
   },
   {
    "duration": 21,
    "start_time": "2022-01-03T02:27:48.480Z"
   },
   {
    "duration": 65,
    "start_time": "2022-01-03T02:27:48.503Z"
   },
   {
    "duration": 24,
    "start_time": "2022-01-03T02:27:48.570Z"
   },
   {
    "duration": 22,
    "start_time": "2022-01-03T02:27:48.597Z"
   },
   {
    "duration": 6,
    "start_time": "2022-01-03T02:27:48.622Z"
   },
   {
    "duration": 470,
    "start_time": "2022-01-03T02:27:48.659Z"
   },
   {
    "duration": 740,
    "start_time": "2022-01-03T02:27:49.131Z"
   },
   {
    "duration": 385,
    "start_time": "2022-01-03T02:27:49.874Z"
   },
   {
    "duration": 343,
    "start_time": "2022-01-03T02:27:50.261Z"
   },
   {
    "duration": 287,
    "start_time": "2022-01-03T02:27:50.607Z"
   },
   {
    "duration": 4,
    "start_time": "2022-01-03T02:27:50.897Z"
   },
   {
    "duration": 55,
    "start_time": "2022-01-03T02:27:50.904Z"
   },
   {
    "duration": 6,
    "start_time": "2022-01-03T02:27:50.963Z"
   },
   {
    "duration": 19,
    "start_time": "2022-01-03T02:27:50.972Z"
   },
   {
    "duration": 1728,
    "start_time": "2022-01-03T02:27:50.997Z"
   },
   {
    "duration": 302,
    "start_time": "2022-01-03T02:27:52.727Z"
   },
   {
    "duration": 375,
    "start_time": "2022-01-03T02:27:53.032Z"
   },
   {
    "duration": 322,
    "start_time": "2022-01-03T02:27:53.409Z"
   },
   {
    "duration": 19,
    "start_time": "2022-01-03T02:27:55.958Z"
   },
   {
    "duration": 13,
    "start_time": "2022-01-03T02:27:59.506Z"
   },
   {
    "duration": 13,
    "start_time": "2022-01-03T02:28:07.773Z"
   },
   {
    "duration": 13,
    "start_time": "2022-01-03T02:28:22.426Z"
   },
   {
    "duration": 11,
    "start_time": "2022-01-03T02:28:57.825Z"
   },
   {
    "duration": 814,
    "start_time": "2022-01-03T02:29:05.947Z"
   },
   {
    "duration": 113,
    "start_time": "2022-01-03T02:29:06.763Z"
   },
   {
    "duration": 83,
    "start_time": "2022-01-03T02:29:06.879Z"
   },
   {
    "duration": 22,
    "start_time": "2022-01-03T02:29:06.964Z"
   },
   {
    "duration": 37,
    "start_time": "2022-01-03T02:29:06.988Z"
   },
   {
    "duration": 105,
    "start_time": "2022-01-03T02:29:07.027Z"
   },
   {
    "duration": 36,
    "start_time": "2022-01-03T02:29:07.135Z"
   },
   {
    "duration": 20,
    "start_time": "2022-01-03T02:29:07.175Z"
   },
   {
    "duration": 22,
    "start_time": "2022-01-03T02:29:07.199Z"
   },
   {
    "duration": 44,
    "start_time": "2022-01-03T02:29:07.259Z"
   },
   {
    "duration": 26,
    "start_time": "2022-01-03T02:29:07.305Z"
   },
   {
    "duration": 44,
    "start_time": "2022-01-03T02:29:07.333Z"
   },
   {
    "duration": 10,
    "start_time": "2022-01-03T02:29:07.380Z"
   },
   {
    "duration": 502,
    "start_time": "2022-01-03T02:29:07.392Z"
   },
   {
    "duration": 725,
    "start_time": "2022-01-03T02:29:07.897Z"
   },
   {
    "duration": 372,
    "start_time": "2022-01-03T02:29:08.625Z"
   },
   {
    "duration": 340,
    "start_time": "2022-01-03T02:29:08.999Z"
   },
   {
    "duration": 380,
    "start_time": "2022-01-03T02:29:09.341Z"
   },
   {
    "duration": 3,
    "start_time": "2022-01-03T02:29:09.725Z"
   },
   {
    "duration": 60,
    "start_time": "2022-01-03T02:29:09.731Z"
   },
   {
    "duration": 6,
    "start_time": "2022-01-03T02:29:09.794Z"
   },
   {
    "duration": 14,
    "start_time": "2022-01-03T02:29:09.803Z"
   },
   {
    "duration": 1724,
    "start_time": "2022-01-03T02:29:09.823Z"
   },
   {
    "duration": 310,
    "start_time": "2022-01-03T02:29:11.549Z"
   },
   {
    "duration": 349,
    "start_time": "2022-01-03T02:29:11.862Z"
   },
   {
    "duration": 315,
    "start_time": "2022-01-03T02:29:12.214Z"
   },
   {
    "duration": 28,
    "start_time": "2022-01-03T02:29:12.531Z"
   },
   {
    "duration": 141,
    "start_time": "2022-01-03T02:31:10.127Z"
   },
   {
    "duration": 176,
    "start_time": "2022-01-03T02:31:13.287Z"
   },
   {
    "duration": 132,
    "start_time": "2022-01-03T02:31:16.240Z"
   },
   {
    "duration": 481,
    "start_time": "2022-01-03T02:31:19.464Z"
   },
   {
    "duration": 407,
    "start_time": "2022-01-03T02:31:31.966Z"
   },
   {
    "duration": 17,
    "start_time": "2022-01-03T02:31:42.335Z"
   },
   {
    "duration": 29,
    "start_time": "2022-01-03T02:31:47.618Z"
   },
   {
    "duration": 25,
    "start_time": "2022-01-03T02:32:11.249Z"
   },
   {
    "duration": 1421,
    "start_time": "2022-01-03T02:33:34.296Z"
   },
   {
    "duration": 1447,
    "start_time": "2022-01-03T02:34:02.341Z"
   },
   {
    "duration": 1373,
    "start_time": "2022-01-03T02:34:05.377Z"
   },
   {
    "duration": 325,
    "start_time": "2022-01-03T02:34:18.534Z"
   },
   {
    "duration": 125,
    "start_time": "2022-01-03T02:34:24.209Z"
   },
   {
    "duration": 312,
    "start_time": "2022-01-03T02:34:26.437Z"
   },
   {
    "duration": 684,
    "start_time": "2022-01-03T02:34:41.088Z"
   },
   {
    "duration": 643,
    "start_time": "2022-01-03T02:34:48.034Z"
   },
   {
    "duration": 666,
    "start_time": "2022-01-03T02:35:30.322Z"
   },
   {
    "duration": 662,
    "start_time": "2022-01-03T02:36:05.945Z"
   },
   {
    "duration": 24,
    "start_time": "2022-01-03T02:36:16.242Z"
   },
   {
    "duration": 413,
    "start_time": "2022-01-03T02:37:11.277Z"
   },
   {
    "duration": 484,
    "start_time": "2022-01-03T02:37:26.288Z"
   },
   {
    "duration": 28,
    "start_time": "2022-01-03T02:37:45.827Z"
   },
   {
    "duration": 11580,
    "start_time": "2022-01-03T02:38:24.102Z"
   },
   {
    "duration": 1619,
    "start_time": "2022-01-03T02:38:52.573Z"
   },
   {
    "duration": 29,
    "start_time": "2022-01-03T02:39:16.128Z"
   },
   {
    "duration": 32,
    "start_time": "2022-01-03T03:24:07.945Z"
   },
   {
    "duration": 35,
    "start_time": "2022-01-03T03:24:14.565Z"
   },
   {
    "duration": 29,
    "start_time": "2022-01-03T03:44:25.820Z"
   },
   {
    "duration": 31,
    "start_time": "2022-01-03T03:44:40.954Z"
   },
   {
    "duration": 734,
    "start_time": "2022-01-03T03:45:06.993Z"
   },
   {
    "duration": 114,
    "start_time": "2022-01-03T03:45:07.730Z"
   },
   {
    "duration": 84,
    "start_time": "2022-01-03T03:45:07.847Z"
   },
   {
    "duration": 33,
    "start_time": "2022-01-03T03:45:07.933Z"
   },
   {
    "duration": 39,
    "start_time": "2022-01-03T03:45:07.969Z"
   },
   {
    "duration": 105,
    "start_time": "2022-01-03T03:45:08.010Z"
   },
   {
    "duration": 20,
    "start_time": "2022-01-03T03:45:08.117Z"
   },
   {
    "duration": 41,
    "start_time": "2022-01-03T03:45:08.140Z"
   },
   {
    "duration": 21,
    "start_time": "2022-01-03T03:45:08.184Z"
   },
   {
    "duration": 62,
    "start_time": "2022-01-03T03:45:08.207Z"
   },
   {
    "duration": 26,
    "start_time": "2022-01-03T03:45:08.271Z"
   },
   {
    "duration": 23,
    "start_time": "2022-01-03T03:45:08.300Z"
   },
   {
    "duration": 34,
    "start_time": "2022-01-03T03:45:08.325Z"
   },
   {
    "duration": 479,
    "start_time": "2022-01-03T03:45:08.362Z"
   },
   {
    "duration": 751,
    "start_time": "2022-01-03T03:45:08.843Z"
   },
   {
    "duration": 382,
    "start_time": "2022-01-03T03:45:09.596Z"
   },
   {
    "duration": 352,
    "start_time": "2022-01-03T03:45:09.980Z"
   },
   {
    "duration": 286,
    "start_time": "2022-01-03T03:45:10.334Z"
   },
   {
    "duration": 3,
    "start_time": "2022-01-03T03:45:10.622Z"
   },
   {
    "duration": 55,
    "start_time": "2022-01-03T03:45:10.628Z"
   },
   {
    "duration": 5,
    "start_time": "2022-01-03T03:45:10.686Z"
   },
   {
    "duration": 11,
    "start_time": "2022-01-03T03:45:10.694Z"
   },
   {
    "duration": 1995,
    "start_time": "2022-01-03T03:45:10.709Z"
   },
   {
    "duration": 311,
    "start_time": "2022-01-03T03:45:12.707Z"
   },
   {
    "duration": 350,
    "start_time": "2022-01-03T03:45:13.020Z"
   },
   {
    "duration": 320,
    "start_time": "2022-01-03T03:45:13.372Z"
   },
   {
    "duration": 33,
    "start_time": "2022-01-03T03:45:13.695Z"
   },
   {
    "duration": 176,
    "start_time": "2022-01-03T23:23:12.011Z"
   },
   {
    "duration": 121,
    "start_time": "2022-01-03T23:23:22.176Z"
   },
   {
    "duration": 569,
    "start_time": "2022-01-03T23:23:25.473Z"
   },
   {
    "duration": 542,
    "start_time": "2022-01-03T23:23:31.379Z"
   },
   {
    "duration": 772,
    "start_time": "2022-01-03T23:23:37.951Z"
   },
   {
    "duration": 112,
    "start_time": "2022-01-03T23:23:38.726Z"
   },
   {
    "duration": 82,
    "start_time": "2022-01-03T23:23:38.841Z"
   },
   {
    "duration": 36,
    "start_time": "2022-01-03T23:23:38.925Z"
   },
   {
    "duration": 37,
    "start_time": "2022-01-03T23:23:38.963Z"
   },
   {
    "duration": 100,
    "start_time": "2022-01-03T23:23:39.002Z"
   },
   {
    "duration": 20,
    "start_time": "2022-01-03T23:23:39.104Z"
   },
   {
    "duration": 45,
    "start_time": "2022-01-03T23:23:39.128Z"
   },
   {
    "duration": 22,
    "start_time": "2022-01-03T23:23:39.176Z"
   },
   {
    "duration": 63,
    "start_time": "2022-01-03T23:23:39.200Z"
   },
   {
    "duration": 26,
    "start_time": "2022-01-03T23:23:39.266Z"
   },
   {
    "duration": 24,
    "start_time": "2022-01-03T23:23:39.294Z"
   },
   {
    "duration": 6,
    "start_time": "2022-01-03T23:23:39.320Z"
   },
   {
    "duration": 457,
    "start_time": "2022-01-03T23:23:39.360Z"
   },
   {
    "duration": 744,
    "start_time": "2022-01-03T23:23:39.819Z"
   },
   {
    "duration": 366,
    "start_time": "2022-01-03T23:23:40.566Z"
   },
   {
    "duration": 349,
    "start_time": "2022-01-03T23:23:40.935Z"
   },
   {
    "duration": 276,
    "start_time": "2022-01-03T23:23:41.287Z"
   },
   {
    "duration": 3,
    "start_time": "2022-01-03T23:23:41.565Z"
   },
   {
    "duration": 38,
    "start_time": "2022-01-03T23:23:41.570Z"
   },
   {
    "duration": 5,
    "start_time": "2022-01-03T23:23:41.610Z"
   },
   {
    "duration": 42,
    "start_time": "2022-01-03T23:23:41.617Z"
   },
   {
    "duration": 1762,
    "start_time": "2022-01-03T23:23:41.662Z"
   },
   {
    "duration": 297,
    "start_time": "2022-01-03T23:23:43.427Z"
   },
   {
    "duration": 369,
    "start_time": "2022-01-03T23:23:43.726Z"
   },
   {
    "duration": 321,
    "start_time": "2022-01-03T23:23:44.099Z"
   },
   {
    "duration": 497,
    "start_time": "2022-01-03T23:23:44.422Z"
   },
   {
    "duration": 537,
    "start_time": "2022-01-03T23:24:08.815Z"
   },
   {
    "duration": 10130,
    "start_time": "2022-01-03T23:26:12.472Z"
   },
   {
    "duration": 1053,
    "start_time": "2022-01-03T23:26:27.430Z"
   },
   {
    "duration": 1061,
    "start_time": "2022-01-03T23:27:00.555Z"
   },
   {
    "duration": 1062,
    "start_time": "2022-01-03T23:27:20.859Z"
   },
   {
    "duration": 1028,
    "start_time": "2022-01-03T23:27:28.585Z"
   },
   {
    "duration": 1149,
    "start_time": "2022-01-03T23:27:40.541Z"
   },
   {
    "duration": 1682,
    "start_time": "2022-01-03T23:28:30.390Z"
   },
   {
    "duration": 1546,
    "start_time": "2022-01-03T23:28:53.128Z"
   },
   {
    "duration": 1695,
    "start_time": "2022-01-03T23:29:46.062Z"
   },
   {
    "duration": 1014,
    "start_time": "2022-01-03T23:30:51.203Z"
   },
   {
    "duration": 1016,
    "start_time": "2022-01-03T23:30:57.491Z"
   },
   {
    "duration": 2373,
    "start_time": "2022-01-03T23:31:02.496Z"
   },
   {
    "duration": 2242,
    "start_time": "2022-01-03T23:31:20.235Z"
   },
   {
    "duration": 2147,
    "start_time": "2022-01-03T23:33:06.474Z"
   },
   {
    "duration": 2181,
    "start_time": "2022-01-03T23:33:16.245Z"
   },
   {
    "duration": 306,
    "start_time": "2022-01-03T23:38:31.044Z"
   },
   {
    "duration": 3469,
    "start_time": "2022-01-03T23:43:28.561Z"
   },
   {
    "duration": 807,
    "start_time": "2022-01-03T23:46:03.918Z"
   },
   {
    "duration": 115,
    "start_time": "2022-01-03T23:46:04.727Z"
   },
   {
    "duration": 82,
    "start_time": "2022-01-03T23:46:04.845Z"
   },
   {
    "duration": 34,
    "start_time": "2022-01-03T23:46:04.930Z"
   },
   {
    "duration": 39,
    "start_time": "2022-01-03T23:46:04.967Z"
   },
   {
    "duration": 106,
    "start_time": "2022-01-03T23:46:05.008Z"
   },
   {
    "duration": 20,
    "start_time": "2022-01-03T23:46:05.116Z"
   },
   {
    "duration": 40,
    "start_time": "2022-01-03T23:46:05.140Z"
   },
   {
    "duration": 21,
    "start_time": "2022-01-03T23:46:05.183Z"
   },
   {
    "duration": 62,
    "start_time": "2022-01-03T23:46:05.206Z"
   },
   {
    "duration": 26,
    "start_time": "2022-01-03T23:46:05.271Z"
   },
   {
    "duration": 24,
    "start_time": "2022-01-03T23:46:05.299Z"
   },
   {
    "duration": 36,
    "start_time": "2022-01-03T23:46:05.325Z"
   },
   {
    "duration": 500,
    "start_time": "2022-01-03T23:46:05.363Z"
   },
   {
    "duration": 746,
    "start_time": "2022-01-03T23:46:05.865Z"
   },
   {
    "duration": 368,
    "start_time": "2022-01-03T23:46:06.613Z"
   },
   {
    "duration": 337,
    "start_time": "2022-01-03T23:46:06.984Z"
   },
   {
    "duration": 296,
    "start_time": "2022-01-03T23:46:07.324Z"
   },
   {
    "duration": 4,
    "start_time": "2022-01-03T23:46:07.623Z"
   },
   {
    "duration": 55,
    "start_time": "2022-01-03T23:46:07.629Z"
   },
   {
    "duration": 5,
    "start_time": "2022-01-03T23:46:07.686Z"
   },
   {
    "duration": 12,
    "start_time": "2022-01-03T23:46:07.693Z"
   },
   {
    "duration": 1756,
    "start_time": "2022-01-03T23:46:07.709Z"
   },
   {
    "duration": 322,
    "start_time": "2022-01-03T23:46:09.468Z"
   },
   {
    "duration": 356,
    "start_time": "2022-01-03T23:46:09.792Z"
   },
   {
    "duration": 339,
    "start_time": "2022-01-03T23:46:10.150Z"
   },
   {
    "duration": 439,
    "start_time": "2022-01-03T23:49:17.947Z"
   },
   {
    "duration": 918,
    "start_time": "2022-01-03T23:49:21.549Z"
   },
   {
    "duration": 111,
    "start_time": "2022-01-03T23:49:22.470Z"
   },
   {
    "duration": 91,
    "start_time": "2022-01-03T23:49:22.584Z"
   },
   {
    "duration": 22,
    "start_time": "2022-01-03T23:49:22.677Z"
   },
   {
    "duration": 62,
    "start_time": "2022-01-03T23:49:22.701Z"
   },
   {
    "duration": 77,
    "start_time": "2022-01-03T23:49:22.765Z"
   },
   {
    "duration": 21,
    "start_time": "2022-01-03T23:49:22.859Z"
   },
   {
    "duration": 24,
    "start_time": "2022-01-03T23:49:22.883Z"
   },
   {
    "duration": 48,
    "start_time": "2022-01-03T23:49:22.911Z"
   },
   {
    "duration": 45,
    "start_time": "2022-01-03T23:49:22.962Z"
   },
   {
    "duration": 51,
    "start_time": "2022-01-03T23:49:23.009Z"
   },
   {
    "duration": 25,
    "start_time": "2022-01-03T23:49:23.063Z"
   },
   {
    "duration": 7,
    "start_time": "2022-01-03T23:49:23.090Z"
   },
   {
    "duration": 503,
    "start_time": "2022-01-03T23:49:23.099Z"
   },
   {
    "duration": 741,
    "start_time": "2022-01-03T23:49:23.605Z"
   },
   {
    "duration": 396,
    "start_time": "2022-01-03T23:49:24.348Z"
   },
   {
    "duration": 360,
    "start_time": "2022-01-03T23:49:24.747Z"
   },
   {
    "duration": 292,
    "start_time": "2022-01-03T23:49:25.109Z"
   },
   {
    "duration": 3,
    "start_time": "2022-01-03T23:49:25.404Z"
   },
   {
    "duration": 56,
    "start_time": "2022-01-03T23:49:25.409Z"
   },
   {
    "duration": 5,
    "start_time": "2022-01-03T23:49:25.467Z"
   },
   {
    "duration": 11,
    "start_time": "2022-01-03T23:49:25.475Z"
   },
   {
    "duration": 1827,
    "start_time": "2022-01-03T23:49:25.489Z"
   },
   {
    "duration": 312,
    "start_time": "2022-01-03T23:49:27.318Z"
   },
   {
    "duration": 363,
    "start_time": "2022-01-03T23:49:27.633Z"
   },
   {
    "duration": 334,
    "start_time": "2022-01-03T23:49:27.998Z"
   },
   {
    "duration": 439,
    "start_time": "2022-01-03T23:50:22.561Z"
   },
   {
    "duration": 800,
    "start_time": "2022-01-03T23:53:20.961Z"
   },
   {
    "duration": 116,
    "start_time": "2022-01-03T23:53:21.764Z"
   },
   {
    "duration": 104,
    "start_time": "2022-01-03T23:53:21.883Z"
   },
   {
    "duration": 23,
    "start_time": "2022-01-03T23:53:21.991Z"
   },
   {
    "duration": 65,
    "start_time": "2022-01-03T23:53:22.017Z"
   },
   {
    "duration": 95,
    "start_time": "2022-01-03T23:53:22.085Z"
   },
   {
    "duration": 20,
    "start_time": "2022-01-03T23:53:22.183Z"
   },
   {
    "duration": 26,
    "start_time": "2022-01-03T23:53:22.206Z"
   },
   {
    "duration": 42,
    "start_time": "2022-01-03T23:53:22.235Z"
   },
   {
    "duration": 43,
    "start_time": "2022-01-03T23:53:22.280Z"
   },
   {
    "duration": 51,
    "start_time": "2022-01-03T23:53:22.325Z"
   },
   {
    "duration": 25,
    "start_time": "2022-01-03T23:53:22.379Z"
   },
   {
    "duration": 7,
    "start_time": "2022-01-03T23:53:22.406Z"
   },
   {
    "duration": 505,
    "start_time": "2022-01-03T23:53:22.416Z"
   },
   {
    "duration": 753,
    "start_time": "2022-01-03T23:53:22.923Z"
   },
   {
    "duration": 393,
    "start_time": "2022-01-03T23:53:23.678Z"
   },
   {
    "duration": 342,
    "start_time": "2022-01-03T23:53:24.074Z"
   },
   {
    "duration": 283,
    "start_time": "2022-01-03T23:53:24.418Z"
   },
   {
    "duration": 3,
    "start_time": "2022-01-03T23:53:24.703Z"
   },
   {
    "duration": 55,
    "start_time": "2022-01-03T23:53:24.708Z"
   },
   {
    "duration": 6,
    "start_time": "2022-01-03T23:53:24.765Z"
   },
   {
    "duration": 13,
    "start_time": "2022-01-03T23:53:24.773Z"
   },
   {
    "duration": 1738,
    "start_time": "2022-01-03T23:53:24.790Z"
   },
   {
    "duration": 315,
    "start_time": "2022-01-03T23:53:26.530Z"
   },
   {
    "duration": 348,
    "start_time": "2022-01-03T23:53:26.848Z"
   },
   {
    "duration": 306,
    "start_time": "2022-01-03T23:53:27.198Z"
   },
   {
    "duration": 1707,
    "start_time": "2022-01-03T23:53:34.228Z"
   },
   {
    "duration": 1716,
    "start_time": "2022-01-04T00:00:23.784Z"
   },
   {
    "duration": 139,
    "start_time": "2022-01-04T00:12:39.680Z"
   },
   {
    "duration": 123,
    "start_time": "2022-01-04T00:12:58.914Z"
   },
   {
    "duration": 1657,
    "start_time": "2022-01-04T00:13:05.892Z"
   },
   {
    "duration": 3140,
    "start_time": "2022-01-04T00:14:08.697Z"
   },
   {
    "duration": 891,
    "start_time": "2022-01-04T00:20:59.919Z"
   },
   {
    "duration": 773,
    "start_time": "2022-01-04T00:21:08.869Z"
   },
   {
    "duration": 345,
    "start_time": "2022-01-04T00:21:47.472Z"
   },
   {
    "duration": 285,
    "start_time": "2022-01-04T00:22:03.664Z"
   },
   {
    "duration": 3105,
    "start_time": "2022-01-04T00:38:16.479Z"
   },
   {
    "duration": 9,
    "start_time": "2022-01-04T00:43:46.609Z"
   },
   {
    "duration": 3088,
    "start_time": "2022-01-04T00:43:52.808Z"
   },
   {
    "duration": 3522,
    "start_time": "2022-01-04T00:44:52.025Z"
   },
   {
    "duration": 4123,
    "start_time": "2022-01-04T00:44:59.166Z"
   },
   {
    "duration": 12881,
    "start_time": "2022-01-04T00:45:23.886Z"
   },
   {
    "duration": 100,
    "start_time": "2022-01-04T00:45:57.454Z"
   },
   {
    "duration": 3534,
    "start_time": "2022-01-04T00:46:39.049Z"
   },
   {
    "duration": 3232,
    "start_time": "2022-01-04T00:47:02.645Z"
   },
   {
    "duration": 8,
    "start_time": "2022-01-04T00:47:32.619Z"
   },
   {
    "duration": 3044,
    "start_time": "2022-01-04T00:47:40.693Z"
   },
   {
    "duration": 39,
    "start_time": "2022-01-04T00:48:13.319Z"
   },
   {
    "duration": 29,
    "start_time": "2022-01-04T00:48:49.226Z"
   },
   {
    "duration": 4,
    "start_time": "2022-01-04T01:03:53.755Z"
   },
   {
    "duration": 379,
    "start_time": "2022-01-04T01:04:12.019Z"
   },
   {
    "duration": 421,
    "start_time": "2022-01-04T01:04:22.025Z"
   },
   {
    "duration": 30,
    "start_time": "2022-01-04T01:07:22.608Z"
   },
   {
    "duration": 4,
    "start_time": "2022-01-04T01:07:26.598Z"
   },
   {
    "duration": 125,
    "start_time": "2022-01-04T01:07:26.608Z"
   },
   {
    "duration": 81,
    "start_time": "2022-01-04T01:07:26.736Z"
   },
   {
    "duration": 22,
    "start_time": "2022-01-04T01:07:26.820Z"
   },
   {
    "duration": 37,
    "start_time": "2022-01-04T01:07:26.860Z"
   },
   {
    "duration": 97,
    "start_time": "2022-01-04T01:07:26.899Z"
   },
   {
    "duration": 18,
    "start_time": "2022-01-04T01:07:26.999Z"
   },
   {
    "duration": 42,
    "start_time": "2022-01-04T01:07:27.020Z"
   },
   {
    "duration": 21,
    "start_time": "2022-01-04T01:07:27.065Z"
   },
   {
    "duration": 41,
    "start_time": "2022-01-04T01:07:27.088Z"
   },
   {
    "duration": 51,
    "start_time": "2022-01-04T01:07:27.131Z"
   },
   {
    "duration": 23,
    "start_time": "2022-01-04T01:07:27.184Z"
   },
   {
    "duration": 7,
    "start_time": "2022-01-04T01:07:27.210Z"
   },
   {
    "duration": 420,
    "start_time": "2022-01-04T01:07:27.219Z"
   },
   {
    "duration": 752,
    "start_time": "2022-01-04T01:07:27.643Z"
   },
   {
    "duration": 448,
    "start_time": "2022-01-04T01:07:28.398Z"
   },
   {
    "duration": 337,
    "start_time": "2022-01-04T01:07:28.848Z"
   },
   {
    "duration": 286,
    "start_time": "2022-01-04T01:07:29.187Z"
   },
   {
    "duration": 4,
    "start_time": "2022-01-04T01:07:29.476Z"
   },
   {
    "duration": 80,
    "start_time": "2022-01-04T01:07:29.483Z"
   },
   {
    "duration": 6,
    "start_time": "2022-01-04T01:07:29.565Z"
   },
   {
    "duration": 15,
    "start_time": "2022-01-04T01:07:29.573Z"
   },
   {
    "duration": 1774,
    "start_time": "2022-01-04T01:07:29.591Z"
   },
   {
    "duration": 322,
    "start_time": "2022-01-04T01:07:31.367Z"
   },
   {
    "duration": 364,
    "start_time": "2022-01-04T01:07:31.692Z"
   },
   {
    "duration": 323,
    "start_time": "2022-01-04T01:07:32.060Z"
   },
   {
    "duration": 49,
    "start_time": "2022-01-04T01:08:11.572Z"
   },
   {
    "duration": 44,
    "start_time": "2022-01-04T01:08:26.272Z"
   },
   {
    "duration": 668,
    "start_time": "2022-01-04T01:10:05.082Z"
   },
   {
    "duration": 576,
    "start_time": "2022-01-04T01:10:28.474Z"
   },
   {
    "duration": 585,
    "start_time": "2022-01-04T01:10:49.147Z"
   },
   {
    "duration": 569,
    "start_time": "2022-01-04T01:11:43.002Z"
   },
   {
    "duration": 573,
    "start_time": "2022-01-04T01:12:31.049Z"
   },
   {
    "duration": 1245,
    "start_time": "2022-01-04T01:12:39.697Z"
   },
   {
    "duration": 1140,
    "start_time": "2022-01-04T01:13:02.630Z"
   },
   {
    "duration": 4272,
    "start_time": "2022-01-04T01:13:48.092Z"
   },
   {
    "duration": 3276,
    "start_time": "2022-01-04T01:14:13.458Z"
   },
   {
    "duration": 3258,
    "start_time": "2022-01-04T01:14:27.951Z"
   },
   {
    "duration": 1061,
    "start_time": "2022-01-04T01:15:10.398Z"
   },
   {
    "duration": 376,
    "start_time": "2022-01-04T01:44:55.510Z"
   },
   {
    "duration": 1053,
    "start_time": "2022-01-04T01:45:05.433Z"
   },
   {
    "duration": 884,
    "start_time": "2022-01-04T01:47:10.855Z"
   },
   {
    "duration": 114,
    "start_time": "2022-01-04T01:47:11.742Z"
   },
   {
    "duration": 76,
    "start_time": "2022-01-04T01:47:11.859Z"
   },
   {
    "duration": 39,
    "start_time": "2022-01-04T01:47:11.938Z"
   },
   {
    "duration": 44,
    "start_time": "2022-01-04T01:47:11.980Z"
   },
   {
    "duration": 101,
    "start_time": "2022-01-04T01:47:12.026Z"
   },
   {
    "duration": 37,
    "start_time": "2022-01-04T01:47:12.129Z"
   },
   {
    "duration": 19,
    "start_time": "2022-01-04T01:47:12.169Z"
   },
   {
    "duration": 20,
    "start_time": "2022-01-04T01:47:12.190Z"
   },
   {
    "duration": 71,
    "start_time": "2022-01-04T01:47:12.212Z"
   },
   {
    "duration": 25,
    "start_time": "2022-01-04T01:47:12.286Z"
   },
   {
    "duration": 22,
    "start_time": "2022-01-04T01:47:12.313Z"
   },
   {
    "duration": 26,
    "start_time": "2022-01-04T01:47:12.337Z"
   },
   {
    "duration": 373,
    "start_time": "2022-01-04T01:47:12.366Z"
   },
   {
    "duration": 743,
    "start_time": "2022-01-04T01:47:12.742Z"
   },
   {
    "duration": 359,
    "start_time": "2022-01-04T01:47:13.488Z"
   },
   {
    "duration": 349,
    "start_time": "2022-01-04T01:47:13.849Z"
   },
   {
    "duration": 267,
    "start_time": "2022-01-04T01:47:14.201Z"
   },
   {
    "duration": 3,
    "start_time": "2022-01-04T01:47:14.471Z"
   },
   {
    "duration": 66,
    "start_time": "2022-01-04T01:47:14.476Z"
   },
   {
    "duration": 6,
    "start_time": "2022-01-04T01:47:14.560Z"
   },
   {
    "duration": 18,
    "start_time": "2022-01-04T01:47:14.568Z"
   },
   {
    "duration": 1846,
    "start_time": "2022-01-04T01:47:14.590Z"
   },
   {
    "duration": 390,
    "start_time": "2022-01-04T01:47:16.440Z"
   },
   {
    "duration": 349,
    "start_time": "2022-01-04T01:47:16.833Z"
   },
   {
    "duration": 319,
    "start_time": "2022-01-04T01:47:17.184Z"
   },
   {
    "duration": 3164,
    "start_time": "2022-01-04T01:47:17.506Z"
   },
   {
    "duration": 1088,
    "start_time": "2022-01-04T01:47:20.672Z"
   },
   {
    "duration": 45,
    "start_time": "2022-01-04T01:49:28.246Z"
   },
   {
    "duration": 417,
    "start_time": "2022-01-04T01:51:25.110Z"
   },
   {
    "duration": 345,
    "start_time": "2022-01-04T01:51:44.024Z"
   },
   {
    "duration": 413,
    "start_time": "2022-01-04T01:53:01.579Z"
   },
   {
    "duration": 329,
    "start_time": "2022-01-04T01:53:18.232Z"
   },
   {
    "duration": 75,
    "start_time": "2022-01-04T01:53:35.885Z"
   },
   {
    "duration": 921,
    "start_time": "2022-01-04T01:53:55.018Z"
   },
   {
    "duration": 121,
    "start_time": "2022-01-04T01:53:55.942Z"
   },
   {
    "duration": 79,
    "start_time": "2022-01-04T01:53:56.066Z"
   },
   {
    "duration": 23,
    "start_time": "2022-01-04T01:53:56.161Z"
   },
   {
    "duration": 76,
    "start_time": "2022-01-04T01:53:56.187Z"
   },
   {
    "duration": 103,
    "start_time": "2022-01-04T01:53:56.266Z"
   },
   {
    "duration": 21,
    "start_time": "2022-01-04T01:53:56.372Z"
   },
   {
    "duration": 24,
    "start_time": "2022-01-04T01:53:56.397Z"
   },
   {
    "duration": 23,
    "start_time": "2022-01-04T01:54:12.173Z"
   },
   {
    "duration": 19,
    "start_time": "2022-01-04T01:54:24.134Z"
   },
   {
    "duration": 4,
    "start_time": "2022-01-04T01:56:16.500Z"
   },
   {
    "duration": 129,
    "start_time": "2022-01-04T01:56:16.507Z"
   },
   {
    "duration": 83,
    "start_time": "2022-01-04T01:56:16.639Z"
   },
   {
    "duration": 43,
    "start_time": "2022-01-04T01:56:16.725Z"
   },
   {
    "duration": 52,
    "start_time": "2022-01-04T01:56:16.771Z"
   },
   {
    "duration": 96,
    "start_time": "2022-01-04T01:56:16.826Z"
   },
   {
    "duration": 35,
    "start_time": "2022-01-04T01:56:16.926Z"
   },
   {
    "duration": 17,
    "start_time": "2022-01-04T01:56:16.964Z"
   },
   {
    "duration": 20,
    "start_time": "2022-01-04T01:56:16.984Z"
   },
   {
    "duration": 72,
    "start_time": "2022-01-04T01:56:17.006Z"
   },
   {
    "duration": 28,
    "start_time": "2022-01-04T01:56:17.081Z"
   },
   {
    "duration": 49,
    "start_time": "2022-01-04T01:56:17.112Z"
   },
   {
    "duration": 10,
    "start_time": "2022-01-04T01:56:17.164Z"
   },
   {
    "duration": 394,
    "start_time": "2022-01-04T01:56:17.176Z"
   },
   {
    "duration": 719,
    "start_time": "2022-01-04T01:56:17.572Z"
   },
   {
    "duration": 369,
    "start_time": "2022-01-04T01:56:18.293Z"
   },
   {
    "duration": 336,
    "start_time": "2022-01-04T01:56:18.664Z"
   },
   {
    "duration": 298,
    "start_time": "2022-01-04T01:56:19.003Z"
   },
   {
    "duration": 4,
    "start_time": "2022-01-04T01:56:19.307Z"
   },
   {
    "duration": 98,
    "start_time": "2022-01-04T01:56:19.314Z"
   },
   {
    "duration": 6,
    "start_time": "2022-01-04T01:56:19.414Z"
   },
   {
    "duration": 16,
    "start_time": "2022-01-04T01:56:19.423Z"
   },
   {
    "duration": 1694,
    "start_time": "2022-01-04T01:56:19.441Z"
   },
   {
    "duration": 308,
    "start_time": "2022-01-04T01:56:21.137Z"
   },
   {
    "duration": 338,
    "start_time": "2022-01-04T01:56:21.447Z"
   },
   {
    "duration": 312,
    "start_time": "2022-01-04T01:56:21.788Z"
   },
   {
    "duration": 3276,
    "start_time": "2022-01-04T01:56:22.103Z"
   },
   {
    "duration": 1119,
    "start_time": "2022-01-04T01:56:25.382Z"
   },
   {
    "duration": 858,
    "start_time": "2022-01-04T01:57:39.563Z"
   },
   {
    "duration": 113,
    "start_time": "2022-01-04T01:57:40.424Z"
   },
   {
    "duration": 83,
    "start_time": "2022-01-04T01:57:40.540Z"
   },
   {
    "duration": 35,
    "start_time": "2022-01-04T01:57:40.625Z"
   },
   {
    "duration": 47,
    "start_time": "2022-01-04T01:58:05.725Z"
   },
   {
    "duration": 99,
    "start_time": "2022-01-04T01:58:30.428Z"
   },
   {
    "duration": 39,
    "start_time": "2022-01-04T01:58:30.530Z"
   },
   {
    "duration": 24,
    "start_time": "2022-01-04T01:58:30.573Z"
   },
   {
    "duration": 20,
    "start_time": "2022-01-04T01:58:30.600Z"
   },
   {
    "duration": 66,
    "start_time": "2022-01-04T01:58:30.623Z"
   },
   {
    "duration": 25,
    "start_time": "2022-01-04T01:58:30.691Z"
   },
   {
    "duration": 49,
    "start_time": "2022-01-04T01:58:30.718Z"
   },
   {
    "duration": 9,
    "start_time": "2022-01-04T01:58:30.770Z"
   },
   {
    "duration": 492,
    "start_time": "2022-01-04T01:58:30.783Z"
   },
   {
    "duration": 738,
    "start_time": "2022-01-04T01:58:31.279Z"
   },
   {
    "duration": 373,
    "start_time": "2022-01-04T01:58:32.020Z"
   },
   {
    "duration": 342,
    "start_time": "2022-01-04T01:58:32.395Z"
   },
   {
    "duration": 285,
    "start_time": "2022-01-04T01:58:32.740Z"
   },
   {
    "duration": 3,
    "start_time": "2022-01-04T01:58:33.027Z"
   },
   {
    "duration": 80,
    "start_time": "2022-01-04T01:58:33.032Z"
   },
   {
    "duration": 6,
    "start_time": "2022-01-04T01:58:33.114Z"
   },
   {
    "duration": 15,
    "start_time": "2022-01-04T01:58:33.122Z"
   },
   {
    "duration": 1772,
    "start_time": "2022-01-04T01:58:33.139Z"
   },
   {
    "duration": 312,
    "start_time": "2022-01-04T01:58:34.914Z"
   },
   {
    "duration": 364,
    "start_time": "2022-01-04T01:58:35.229Z"
   },
   {
    "duration": 332,
    "start_time": "2022-01-04T01:58:35.597Z"
   },
   {
    "duration": 3212,
    "start_time": "2022-01-04T01:58:35.933Z"
   },
   {
    "duration": 1076,
    "start_time": "2022-01-04T01:58:39.148Z"
   },
   {
    "duration": 3,
    "start_time": "2022-01-04T08:10:48.500Z"
   },
   {
    "duration": 601,
    "start_time": "2022-01-04T18:44:53.340Z"
   },
   {
    "duration": 45,
    "start_time": "2022-01-04T18:45:08.171Z"
   },
   {
    "duration": 75,
    "start_time": "2022-01-04T18:45:59.462Z"
   },
   {
    "duration": 526,
    "start_time": "2022-01-04T18:46:12.620Z"
   },
   {
    "duration": 427,
    "start_time": "2022-01-04T18:46:42.536Z"
   },
   {
    "duration": 64,
    "start_time": "2022-01-04T18:47:35.663Z"
   },
   {
    "duration": 46,
    "start_time": "2022-01-04T18:48:03.056Z"
   },
   {
    "duration": 76,
    "start_time": "2022-01-04T18:48:09.369Z"
   },
   {
    "duration": 405,
    "start_time": "2022-01-04T18:58:55.041Z"
   },
   {
    "duration": 45,
    "start_time": "2022-01-04T18:59:19.116Z"
   },
   {
    "duration": 76,
    "start_time": "2022-01-04T18:59:41.496Z"
   },
   {
    "duration": 465,
    "start_time": "2022-01-04T18:59:50.568Z"
   },
   {
    "duration": 63,
    "start_time": "2022-01-04T18:59:56.655Z"
   },
   {
    "duration": 74,
    "start_time": "2022-01-04T18:59:58.534Z"
   },
   {
    "duration": 16,
    "start_time": "2022-01-04T19:01:39.394Z"
   },
   {
    "duration": 21,
    "start_time": "2022-01-04T19:02:29.466Z"
   },
   {
    "duration": 90,
    "start_time": "2022-01-04T21:58:45.621Z"
   },
   {
    "duration": 43,
    "start_time": "2022-01-04T21:59:05.057Z"
   },
   {
    "duration": 75,
    "start_time": "2022-01-04T21:59:09.379Z"
   },
   {
    "duration": 721,
    "start_time": "2022-01-04T22:07:14.195Z"
   },
   {
    "duration": 675,
    "start_time": "2022-01-04T22:07:26.154Z"
   },
   {
    "duration": 1852,
    "start_time": "2022-01-04T22:17:38.713Z"
   },
   {
    "duration": 1797,
    "start_time": "2022-01-04T22:18:29.623Z"
   },
   {
    "duration": 1785,
    "start_time": "2022-01-04T22:18:53.432Z"
   },
   {
    "duration": 447,
    "start_time": "2022-01-04T22:23:44.462Z"
   },
   {
    "duration": 322,
    "start_time": "2022-01-04T22:23:52.910Z"
   },
   {
    "duration": 316,
    "start_time": "2022-01-04T22:24:03.644Z"
   },
   {
    "duration": 298,
    "start_time": "2022-01-04T22:24:27.316Z"
   },
   {
    "duration": 331,
    "start_time": "2022-01-04T22:25:14.198Z"
   },
   {
    "duration": 290,
    "start_time": "2022-01-04T22:26:36.486Z"
   },
   {
    "duration": 273,
    "start_time": "2022-01-04T22:26:53.511Z"
   },
   {
    "duration": 272,
    "start_time": "2022-01-04T22:26:59.905Z"
   },
   {
    "duration": 285,
    "start_time": "2022-01-04T22:29:27.677Z"
   },
   {
    "duration": 301,
    "start_time": "2022-01-04T22:29:37.576Z"
   },
   {
    "duration": 282,
    "start_time": "2022-01-04T22:29:44.861Z"
   },
   {
    "duration": 299,
    "start_time": "2022-01-04T22:30:50.712Z"
   },
   {
    "duration": 350,
    "start_time": "2022-01-04T22:31:13.749Z"
   },
   {
    "duration": 358,
    "start_time": "2022-01-04T22:31:31.271Z"
   },
   {
    "duration": 1024,
    "start_time": "2022-01-04T22:31:40.998Z"
   },
   {
    "duration": 389,
    "start_time": "2022-01-04T22:31:54.195Z"
   },
   {
    "duration": 1725,
    "start_time": "2022-01-04T22:42:12.377Z"
   },
   {
    "duration": 2002,
    "start_time": "2022-01-04T22:42:18.565Z"
   },
   {
    "duration": 274,
    "start_time": "2022-01-04T22:46:46.777Z"
   },
   {
    "duration": 8,
    "start_time": "2022-01-04T22:52:25.690Z"
   },
   {
    "duration": 468,
    "start_time": "2022-01-04T22:52:46.257Z"
   },
   {
    "duration": 307,
    "start_time": "2022-01-04T22:53:02.990Z"
   },
   {
    "duration": 307,
    "start_time": "2022-01-04T22:53:08.268Z"
   },
   {
    "duration": 311,
    "start_time": "2022-01-04T22:53:14.316Z"
   },
   {
    "duration": 307,
    "start_time": "2022-01-04T22:53:33.187Z"
   },
   {
    "duration": 323,
    "start_time": "2022-01-04T22:54:43.399Z"
   },
   {
    "duration": 131,
    "start_time": "2022-01-04T22:56:54.642Z"
   },
   {
    "duration": 318,
    "start_time": "2022-01-04T22:57:03.053Z"
   },
   {
    "duration": 124,
    "start_time": "2022-01-04T22:57:16.669Z"
   },
   {
    "duration": 309,
    "start_time": "2022-01-04T22:57:24.592Z"
   },
   {
    "duration": 337,
    "start_time": "2022-01-04T22:58:57.913Z"
   },
   {
    "duration": 657,
    "start_time": "2022-01-04T22:59:49.109Z"
   },
   {
    "duration": 365,
    "start_time": "2022-01-04T23:00:30.749Z"
   },
   {
    "duration": 355,
    "start_time": "2022-01-04T23:00:42.549Z"
   },
   {
    "duration": 412,
    "start_time": "2022-01-04T23:02:40.872Z"
   },
   {
    "duration": 596,
    "start_time": "2022-01-04T23:03:15.824Z"
   },
   {
    "duration": 427,
    "start_time": "2022-01-04T23:03:27.980Z"
   },
   {
    "duration": 460,
    "start_time": "2022-01-04T23:03:44.647Z"
   },
   {
    "duration": 482,
    "start_time": "2022-01-04T23:05:21.789Z"
   },
   {
    "duration": 9161,
    "start_time": "2022-01-04T23:05:37.602Z"
   },
   {
    "duration": 453,
    "start_time": "2022-01-04T23:06:40.351Z"
   },
   {
    "duration": 457,
    "start_time": "2022-01-04T23:06:54.340Z"
   },
   {
    "duration": 386,
    "start_time": "2022-01-04T23:06:58.707Z"
   },
   {
    "duration": 440,
    "start_time": "2022-01-04T23:07:03.208Z"
   },
   {
    "duration": 364,
    "start_time": "2022-01-04T23:07:15.097Z"
   },
   {
    "duration": 438,
    "start_time": "2022-01-04T23:07:18.089Z"
   },
   {
    "duration": 626,
    "start_time": "2022-01-04T23:07:34.904Z"
   },
   {
    "duration": 439,
    "start_time": "2022-01-04T23:08:04.241Z"
   },
   {
    "duration": 390,
    "start_time": "2022-01-04T23:08:35.533Z"
   },
   {
    "duration": 441,
    "start_time": "2022-01-04T23:08:41.524Z"
   },
   {
    "duration": 437,
    "start_time": "2022-01-04T23:08:54.831Z"
   },
   {
    "duration": 438,
    "start_time": "2022-01-04T23:09:08.053Z"
   },
   {
    "duration": 440,
    "start_time": "2022-01-04T23:09:14.633Z"
   },
   {
    "duration": 411,
    "start_time": "2022-01-04T23:13:03.989Z"
   },
   {
    "duration": 421,
    "start_time": "2022-01-04T23:13:10.517Z"
   },
   {
    "duration": 383,
    "start_time": "2022-01-04T23:13:22.330Z"
   },
   {
    "duration": 531,
    "start_time": "2022-01-04T23:13:27.338Z"
   },
   {
    "duration": 396,
    "start_time": "2022-01-04T23:14:46.693Z"
   },
   {
    "duration": 796,
    "start_time": "2022-01-04T23:14:57.948Z"
   },
   {
    "duration": 826,
    "start_time": "2022-01-04T23:15:07.683Z"
   },
   {
    "duration": 362,
    "start_time": "2022-01-04T23:16:24.033Z"
   },
   {
    "duration": 399,
    "start_time": "2022-01-04T23:16:37.546Z"
   },
   {
    "duration": 364,
    "start_time": "2022-01-04T23:16:42.600Z"
   },
   {
    "duration": 656,
    "start_time": "2022-01-04T23:16:50.952Z"
   },
   {
    "duration": 502,
    "start_time": "2022-01-04T23:17:00.947Z"
   },
   {
    "duration": 348,
    "start_time": "2022-01-04T23:17:08.830Z"
   },
   {
    "duration": 362,
    "start_time": "2022-01-04T23:17:12.879Z"
   },
   {
    "duration": 360,
    "start_time": "2022-01-04T23:17:22.308Z"
   },
   {
    "duration": 959,
    "start_time": "2022-01-04T23:18:08.250Z"
   },
   {
    "duration": 475,
    "start_time": "2022-01-04T23:18:15.692Z"
   },
   {
    "duration": 357,
    "start_time": "2022-01-04T23:18:23.158Z"
   },
   {
    "duration": 3507,
    "start_time": "2022-01-04T23:19:54.659Z"
   },
   {
    "duration": 3241,
    "start_time": "2022-01-04T23:21:15.646Z"
   },
   {
    "duration": 3317,
    "start_time": "2022-01-04T23:21:43.428Z"
   },
   {
    "duration": 26,
    "start_time": "2022-01-04T23:30:52.289Z"
   },
   {
    "duration": 33,
    "start_time": "2022-01-04T23:30:59.021Z"
   },
   {
    "duration": 23,
    "start_time": "2022-01-04T23:31:44.048Z"
   },
   {
    "duration": 32,
    "start_time": "2022-01-04T23:31:56.362Z"
   },
   {
    "duration": 43,
    "start_time": "2022-01-04T23:37:07.340Z"
   },
   {
    "duration": 47,
    "start_time": "2022-01-04T23:37:15.453Z"
   },
   {
    "duration": 70,
    "start_time": "2022-01-04T23:37:27.062Z"
   },
   {
    "duration": 1046,
    "start_time": "2022-01-05T11:26:02.649Z"
   },
   {
    "duration": 476,
    "start_time": "2022-01-05T11:26:03.699Z"
   },
   {
    "duration": 86,
    "start_time": "2022-01-05T11:26:04.178Z"
   },
   {
    "duration": 21,
    "start_time": "2022-01-05T11:26:04.267Z"
   },
   {
    "duration": 71,
    "start_time": "2022-01-05T11:26:04.291Z"
   },
   {
    "duration": 98,
    "start_time": "2022-01-05T11:26:04.364Z"
   },
   {
    "duration": 21,
    "start_time": "2022-01-05T11:26:04.464Z"
   },
   {
    "duration": 46,
    "start_time": "2022-01-05T11:26:04.489Z"
   },
   {
    "duration": 21,
    "start_time": "2022-01-05T11:26:04.538Z"
   },
   {
    "duration": 69,
    "start_time": "2022-01-05T11:26:04.562Z"
   },
   {
    "duration": 25,
    "start_time": "2022-01-05T11:26:04.633Z"
   },
   {
    "duration": 27,
    "start_time": "2022-01-05T11:26:04.660Z"
   },
   {
    "duration": 37,
    "start_time": "2022-01-05T11:26:04.689Z"
   },
   {
    "duration": 411,
    "start_time": "2022-01-05T11:26:04.729Z"
   },
   {
    "duration": 798,
    "start_time": "2022-01-05T11:26:05.142Z"
   },
   {
    "duration": 402,
    "start_time": "2022-01-05T11:26:05.943Z"
   },
   {
    "duration": 362,
    "start_time": "2022-01-05T11:26:06.348Z"
   },
   {
    "duration": 325,
    "start_time": "2022-01-05T11:26:06.713Z"
   },
   {
    "duration": 68,
    "start_time": "2022-01-05T11:26:07.041Z"
   },
   {
    "duration": 5,
    "start_time": "2022-01-05T11:26:07.124Z"
   },
   {
    "duration": 15,
    "start_time": "2022-01-05T11:26:07.131Z"
   },
   {
    "duration": 1989,
    "start_time": "2022-01-05T11:26:07.149Z"
   },
   {
    "duration": 330,
    "start_time": "2022-01-05T11:26:09.144Z"
   },
   {
    "duration": 452,
    "start_time": "2022-01-05T11:26:09.477Z"
   },
   {
    "duration": 324,
    "start_time": "2022-01-05T11:26:09.932Z"
   },
   {
    "duration": 3317,
    "start_time": "2022-01-05T11:26:10.258Z"
   },
   {
    "duration": 23,
    "start_time": "2022-01-05T11:26:13.577Z"
   },
   {
    "duration": 38,
    "start_time": "2022-01-05T11:26:13.602Z"
   },
   {
    "duration": 1115,
    "start_time": "2022-01-05T11:26:13.643Z"
   },
   {
    "duration": 1003,
    "start_time": "2022-01-05T11:29:10.952Z"
   },
   {
    "duration": 10,
    "start_time": "2022-01-05T11:37:30.552Z"
   },
   {
    "duration": 4,
    "start_time": "2022-01-05T11:37:41.563Z"
   },
   {
    "duration": 121,
    "start_time": "2022-01-05T11:37:41.570Z"
   },
   {
    "duration": 81,
    "start_time": "2022-01-05T11:37:41.694Z"
   },
   {
    "duration": 21,
    "start_time": "2022-01-05T11:37:41.778Z"
   },
   {
    "duration": 56,
    "start_time": "2022-01-05T11:37:41.801Z"
   },
   {
    "duration": 63,
    "start_time": "2022-01-05T11:37:41.860Z"
   },
   {
    "duration": 83,
    "start_time": "2022-01-05T11:37:41.926Z"
   },
   {
    "duration": 19,
    "start_time": "2022-01-05T11:37:42.025Z"
   },
   {
    "duration": 20,
    "start_time": "2022-01-05T11:37:42.047Z"
   },
   {
    "duration": 57,
    "start_time": "2022-01-05T11:37:42.070Z"
   },
   {
    "duration": 11,
    "start_time": "2022-01-05T11:37:42.129Z"
   },
   {
    "duration": 49,
    "start_time": "2022-01-05T11:37:42.143Z"
   },
   {
    "duration": 40,
    "start_time": "2022-01-05T11:37:42.195Z"
   },
   {
    "duration": 24,
    "start_time": "2022-01-05T11:37:42.238Z"
   },
   {
    "duration": 23,
    "start_time": "2022-01-05T11:37:42.265Z"
   },
   {
    "duration": 660,
    "start_time": "2022-01-05T11:37:42.291Z"
   },
   {
    "duration": 918,
    "start_time": "2022-01-05T11:37:42.953Z"
   },
   {
    "duration": 461,
    "start_time": "2022-01-05T11:37:43.873Z"
   },
   {
    "duration": 357,
    "start_time": "2022-01-05T11:37:44.337Z"
   },
   {
    "duration": 313,
    "start_time": "2022-01-05T11:37:44.697Z"
   },
   {
    "duration": 71,
    "start_time": "2022-01-05T11:37:45.014Z"
   },
   {
    "duration": 7,
    "start_time": "2022-01-05T11:37:45.088Z"
   },
   {
    "duration": 16,
    "start_time": "2022-01-05T11:37:45.126Z"
   },
   {
    "duration": 1868,
    "start_time": "2022-01-05T11:37:45.145Z"
   },
   {
    "duration": 320,
    "start_time": "2022-01-05T11:37:47.023Z"
   },
   {
    "duration": 363,
    "start_time": "2022-01-05T11:37:47.346Z"
   },
   {
    "duration": 322,
    "start_time": "2022-01-05T11:37:47.711Z"
   },
   {
    "duration": 3348,
    "start_time": "2022-01-05T11:37:48.036Z"
   },
   {
    "duration": 37,
    "start_time": "2022-01-05T11:37:51.387Z"
   },
   {
    "duration": 21,
    "start_time": "2022-01-05T11:37:51.427Z"
   },
   {
    "duration": 1120,
    "start_time": "2022-01-05T11:37:51.451Z"
   },
   {
    "duration": 457,
    "start_time": "2022-01-05T11:39:23.192Z"
   },
   {
    "duration": 48,
    "start_time": "2022-01-05T11:39:33.622Z"
   },
   {
    "duration": 1894,
    "start_time": "2022-01-05T11:43:23.577Z"
   },
   {
    "duration": 311,
    "start_time": "2022-01-05T11:45:24.725Z"
   },
   {
    "duration": 431,
    "start_time": "2022-01-05T11:45:40.344Z"
   },
   {
    "duration": 572,
    "start_time": "2022-01-05T11:46:04.454Z"
   },
   {
    "duration": 460,
    "start_time": "2022-01-05T11:46:16.776Z"
   },
   {
    "duration": 50,
    "start_time": "2022-01-05T11:47:37.749Z"
   },
   {
    "duration": 40,
    "start_time": "2022-01-05T11:47:43.881Z"
   },
   {
    "duration": 238,
    "start_time": "2022-01-05T11:51:44.340Z"
   },
   {
    "duration": 236,
    "start_time": "2022-01-05T11:52:06.950Z"
   },
   {
    "duration": 258,
    "start_time": "2022-01-05T11:52:25.492Z"
   },
   {
    "duration": 372,
    "start_time": "2022-01-05T19:26:56.492Z"
   },
   {
    "duration": 889,
    "start_time": "2022-01-05T19:27:01.386Z"
   },
   {
    "duration": 113,
    "start_time": "2022-01-05T19:27:02.277Z"
   },
   {
    "duration": 83,
    "start_time": "2022-01-05T19:27:02.393Z"
   },
   {
    "duration": 38,
    "start_time": "2022-01-05T19:27:02.479Z"
   },
   {
    "duration": 808,
    "start_time": "2022-01-05T19:27:02.520Z"
   },
   {
    "duration": 51,
    "start_time": "2022-01-05T19:27:03.331Z"
   },
   {
    "duration": 102,
    "start_time": "2022-01-05T19:27:03.384Z"
   },
   {
    "duration": 35,
    "start_time": "2022-01-05T19:27:03.490Z"
   },
   {
    "duration": 19,
    "start_time": "2022-01-05T19:27:03.528Z"
   },
   {
    "duration": 22,
    "start_time": "2022-01-05T19:27:03.550Z"
   },
   {
    "duration": 45,
    "start_time": "2022-01-05T19:27:03.575Z"
   },
   {
    "duration": 43,
    "start_time": "2022-01-05T19:27:03.622Z"
   },
   {
    "duration": 49,
    "start_time": "2022-01-05T19:27:03.668Z"
   },
   {
    "duration": 26,
    "start_time": "2022-01-05T19:27:03.720Z"
   },
   {
    "duration": 8,
    "start_time": "2022-01-05T19:27:03.748Z"
   },
   {
    "duration": 397,
    "start_time": "2022-01-05T19:27:06.363Z"
   },
   {
    "duration": 379,
    "start_time": "2022-01-05T19:35:46.694Z"
   },
   {
    "duration": 339,
    "start_time": "2022-01-05T19:35:56.634Z"
   },
   {
    "duration": 341,
    "start_time": "2022-01-05T19:36:16.818Z"
   },
   {
    "duration": 319,
    "start_time": "2022-01-05T19:36:26.637Z"
   },
   {
    "duration": 1112,
    "start_time": "2022-01-05T19:53:11.009Z"
   },
   {
    "duration": 397,
    "start_time": "2022-01-05T19:55:50.765Z"
   },
   {
    "duration": 402,
    "start_time": "2022-01-05T19:56:01.172Z"
   },
   {
    "duration": 728,
    "start_time": "2022-01-05T19:56:18.212Z"
   },
   {
    "duration": 688,
    "start_time": "2022-01-05T19:59:47.998Z"
   },
   {
    "duration": 8492,
    "start_time": "2022-01-05T20:03:33.998Z"
   },
   {
    "duration": 395,
    "start_time": "2022-01-05T20:04:34.960Z"
   },
   {
    "duration": 400,
    "start_time": "2022-01-05T20:04:54.393Z"
   },
   {
    "duration": 404,
    "start_time": "2022-01-05T20:05:14.931Z"
   },
   {
    "duration": 808,
    "start_time": "2022-01-05T20:05:50.586Z"
   },
   {
    "duration": 195,
    "start_time": "2022-01-05T20:09:03.034Z"
   },
   {
    "duration": 495,
    "start_time": "2022-01-05T20:11:58.509Z"
   },
   {
    "duration": 825,
    "start_time": "2022-01-05T20:12:30.155Z"
   },
   {
    "duration": 414,
    "start_time": "2022-01-05T20:12:43.212Z"
   },
   {
    "duration": 355,
    "start_time": "2022-01-05T20:12:55.990Z"
   },
   {
    "duration": 358,
    "start_time": "2022-01-05T20:13:24.483Z"
   },
   {
    "duration": 360,
    "start_time": "2022-01-05T20:22:39.557Z"
   },
   {
    "duration": 619,
    "start_time": "2022-01-05T20:33:54.306Z"
   },
   {
    "duration": 303,
    "start_time": "2022-01-05T20:34:10.750Z"
   },
   {
    "duration": 372,
    "start_time": "2022-01-05T20:39:04.022Z"
   },
   {
    "duration": 3,
    "start_time": "2022-01-05T20:39:13.104Z"
   },
   {
    "duration": 121,
    "start_time": "2022-01-05T20:39:13.110Z"
   },
   {
    "duration": 87,
    "start_time": "2022-01-05T20:39:13.234Z"
   },
   {
    "duration": 25,
    "start_time": "2022-01-05T20:39:13.325Z"
   },
   {
    "duration": 71,
    "start_time": "2022-01-05T20:39:13.353Z"
   },
   {
    "duration": 48,
    "start_time": "2022-01-05T20:39:13.426Z"
   },
   {
    "duration": 116,
    "start_time": "2022-01-05T20:39:13.479Z"
   },
   {
    "duration": 31,
    "start_time": "2022-01-05T20:39:13.599Z"
   },
   {
    "duration": 20,
    "start_time": "2022-01-05T20:39:13.633Z"
   },
   {
    "duration": 24,
    "start_time": "2022-01-05T20:39:13.659Z"
   },
   {
    "duration": 13,
    "start_time": "2022-01-05T20:39:13.718Z"
   },
   {
    "duration": 45,
    "start_time": "2022-01-05T20:39:13.733Z"
   },
   {
    "duration": 53,
    "start_time": "2022-01-05T20:39:13.781Z"
   },
   {
    "duration": 27,
    "start_time": "2022-01-05T20:39:13.837Z"
   },
   {
    "duration": 8,
    "start_time": "2022-01-05T20:39:13.867Z"
   },
   {
    "duration": 426,
    "start_time": "2022-01-05T20:39:13.918Z"
   },
   {
    "duration": 905,
    "start_time": "2022-01-05T20:39:14.347Z"
   },
   {
    "duration": 372,
    "start_time": "2022-01-05T20:39:15.255Z"
   },
   {
    "duration": 381,
    "start_time": "2022-01-05T20:39:15.631Z"
   },
   {
    "duration": 340,
    "start_time": "2022-01-05T20:39:16.015Z"
   },
   {
    "duration": 73,
    "start_time": "2022-01-05T20:39:16.358Z"
   },
   {
    "duration": 7,
    "start_time": "2022-01-05T20:39:16.434Z"
   },
   {
    "duration": 17,
    "start_time": "2022-01-05T20:39:16.444Z"
   },
   {
    "duration": 20,
    "start_time": "2022-01-05T20:39:27.246Z"
   },
   {
    "duration": 4,
    "start_time": "2022-01-05T20:39:36.986Z"
   },
   {
    "duration": 135,
    "start_time": "2022-01-05T20:39:36.993Z"
   },
   {
    "duration": 107,
    "start_time": "2022-01-05T20:39:37.132Z"
   },
   {
    "duration": 22,
    "start_time": "2022-01-05T20:39:37.241Z"
   },
   {
    "duration": 66,
    "start_time": "2022-01-05T20:39:37.266Z"
   },
   {
    "duration": 47,
    "start_time": "2022-01-05T20:39:37.335Z"
   },
   {
    "duration": 113,
    "start_time": "2022-01-05T20:39:37.386Z"
   },
   {
    "duration": 30,
    "start_time": "2022-01-05T20:39:37.503Z"
   },
   {
    "duration": 17,
    "start_time": "2022-01-05T20:39:37.536Z"
   },
   {
    "duration": 61,
    "start_time": "2022-01-05T20:39:37.556Z"
   },
   {
    "duration": 11,
    "start_time": "2022-01-05T20:39:37.619Z"
   },
   {
    "duration": 43,
    "start_time": "2022-01-05T20:39:37.641Z"
   },
   {
    "duration": 52,
    "start_time": "2022-01-05T20:39:37.687Z"
   },
   {
    "duration": 25,
    "start_time": "2022-01-05T20:39:37.742Z"
   },
   {
    "duration": 14,
    "start_time": "2022-01-05T20:39:37.770Z"
   },
   {
    "duration": 581,
    "start_time": "2022-01-05T20:39:37.786Z"
   },
   {
    "duration": 1243,
    "start_time": "2022-01-05T20:39:38.370Z"
   },
   {
    "duration": 403,
    "start_time": "2022-01-05T20:39:39.616Z"
   },
   {
    "duration": 393,
    "start_time": "2022-01-05T20:39:40.026Z"
   },
   {
    "duration": 440,
    "start_time": "2022-01-05T20:39:40.423Z"
   },
   {
    "duration": 68,
    "start_time": "2022-01-05T20:39:40.866Z"
   },
   {
    "duration": 5,
    "start_time": "2022-01-05T20:39:40.937Z"
   },
   {
    "duration": 20,
    "start_time": "2022-01-05T20:39:40.944Z"
   },
   {
    "duration": 66,
    "start_time": "2022-01-05T20:39:40.967Z"
   },
   {
    "duration": 2042,
    "start_time": "2022-01-05T20:39:41.036Z"
   },
   {
    "duration": 325,
    "start_time": "2022-01-05T20:39:43.081Z"
   },
   {
    "duration": 375,
    "start_time": "2022-01-05T20:39:43.408Z"
   },
   {
    "duration": 320,
    "start_time": "2022-01-05T20:39:43.786Z"
   },
   {
    "duration": 453,
    "start_time": "2022-01-05T20:39:44.117Z"
   },
   {
    "duration": 3540,
    "start_time": "2022-01-05T20:39:51.760Z"
   },
   {
    "duration": 303,
    "start_time": "2022-01-05T20:44:46.812Z"
   },
   {
    "duration": 319,
    "start_time": "2022-01-05T20:45:00.751Z"
   },
   {
    "duration": 7783,
    "start_time": "2022-01-05T20:45:16.784Z"
   },
   {
    "duration": 2359,
    "start_time": "2022-01-05T20:47:10.045Z"
   },
   {
    "duration": 2248,
    "start_time": "2022-01-05T20:48:17.234Z"
   },
   {
    "duration": 2187,
    "start_time": "2022-01-05T20:48:38.209Z"
   },
   {
    "duration": 2477,
    "start_time": "2022-01-05T20:49:17.240Z"
   },
   {
    "duration": 2296,
    "start_time": "2022-01-05T20:49:59.244Z"
   },
   {
    "duration": 2497,
    "start_time": "2022-01-05T20:52:40.228Z"
   },
   {
    "duration": 2317,
    "start_time": "2022-01-05T20:55:08.129Z"
   },
   {
    "duration": 2318,
    "start_time": "2022-01-05T20:55:21.954Z"
   },
   {
    "duration": 1329,
    "start_time": "2022-01-05T21:21:10.232Z"
   },
   {
    "duration": 4,
    "start_time": "2022-01-05T21:21:25.678Z"
   },
   {
    "duration": 260,
    "start_time": "2022-01-05T21:21:40.281Z"
   },
   {
    "duration": 1238,
    "start_time": "2022-01-05T21:21:48.069Z"
   },
   {
    "duration": 1080,
    "start_time": "2022-01-05T21:22:00.247Z"
   },
   {
    "duration": 1204,
    "start_time": "2022-01-05T21:32:11.373Z"
   },
   {
    "duration": 1231,
    "start_time": "2022-01-05T21:32:23.872Z"
   },
   {
    "duration": 1319,
    "start_time": "2022-01-05T21:32:37.826Z"
   },
   {
    "duration": 1289,
    "start_time": "2022-01-05T22:50:58.820Z"
   },
   {
    "duration": 1165,
    "start_time": "2022-01-05T22:51:07.533Z"
   },
   {
    "duration": 1138,
    "start_time": "2022-01-05T22:51:21.461Z"
   },
   {
    "duration": 1371,
    "start_time": "2022-01-05T22:51:34.913Z"
   },
   {
    "duration": 658,
    "start_time": "2022-01-05T22:54:42.841Z"
   },
   {
    "duration": 1027,
    "start_time": "2022-01-05T22:59:36.223Z"
   },
   {
    "duration": 1656,
    "start_time": "2022-01-05T22:59:58.258Z"
   },
   {
    "duration": 707,
    "start_time": "2022-01-05T23:00:17.001Z"
   },
   {
    "duration": 1042,
    "start_time": "2022-01-05T23:00:41.212Z"
   },
   {
    "duration": 1570,
    "start_time": "2022-01-05T23:01:04.499Z"
   },
   {
    "duration": 676,
    "start_time": "2022-01-05T23:01:14.827Z"
   },
   {
    "duration": 343,
    "start_time": "2022-01-07T20:31:42.255Z"
   },
   {
    "duration": 880,
    "start_time": "2022-01-07T20:31:50.487Z"
   },
   {
    "duration": 105,
    "start_time": "2022-01-07T20:31:51.370Z"
   },
   {
    "duration": 91,
    "start_time": "2022-01-07T20:31:51.478Z"
   },
   {
    "duration": 21,
    "start_time": "2022-01-07T20:31:51.572Z"
   },
   {
    "duration": 709,
    "start_time": "2022-01-07T20:31:51.595Z"
   },
   {
    "duration": 57,
    "start_time": "2022-01-07T20:31:52.307Z"
   },
   {
    "duration": 98,
    "start_time": "2022-01-07T20:31:52.366Z"
   },
   {
    "duration": 20,
    "start_time": "2022-01-07T20:31:52.467Z"
   },
   {
    "duration": 37,
    "start_time": "2022-01-07T20:31:52.491Z"
   },
   {
    "duration": 21,
    "start_time": "2022-01-07T20:31:52.531Z"
   },
   {
    "duration": 10,
    "start_time": "2022-01-07T20:31:52.554Z"
   },
   {
    "duration": 73,
    "start_time": "2022-01-07T20:31:52.566Z"
   },
   {
    "duration": 23,
    "start_time": "2022-01-07T20:31:52.641Z"
   },
   {
    "duration": 25,
    "start_time": "2022-01-07T20:31:52.667Z"
   },
   {
    "duration": 7,
    "start_time": "2022-01-07T20:31:52.723Z"
   },
   {
    "duration": 395,
    "start_time": "2022-01-07T20:31:52.733Z"
   },
   {
    "duration": 939,
    "start_time": "2022-01-07T20:31:53.131Z"
   },
   {
    "duration": 343,
    "start_time": "2022-01-07T20:31:54.072Z"
   },
   {
    "duration": 358,
    "start_time": "2022-01-07T20:31:54.418Z"
   },
   {
    "duration": 306,
    "start_time": "2022-01-07T20:31:54.778Z"
   },
   {
    "duration": 54,
    "start_time": "2022-01-07T20:31:58.617Z"
   },
   {
    "duration": 5,
    "start_time": "2022-01-07T20:31:58.674Z"
   },
   {
    "duration": 15,
    "start_time": "2022-01-07T20:31:58.682Z"
   },
   {
    "duration": 40,
    "start_time": "2022-01-07T20:32:08.196Z"
   },
   {
    "duration": 1788,
    "start_time": "2022-01-07T20:32:08.239Z"
   },
   {
    "duration": 341,
    "start_time": "2022-01-07T20:32:10.031Z"
   },
   {
    "duration": 348,
    "start_time": "2022-01-07T20:32:10.375Z"
   },
   {
    "duration": 388,
    "start_time": "2022-01-07T20:32:10.727Z"
   },
   {
    "duration": 438,
    "start_time": "2022-01-07T20:32:11.123Z"
   },
   {
    "duration": 2373,
    "start_time": "2022-01-07T20:32:11.565Z"
   },
   {
    "duration": 264,
    "start_time": "2022-01-07T20:32:13.941Z"
   },
   {
    "duration": 37,
    "start_time": "2022-01-07T20:32:14.209Z"
   },
   {
    "duration": 27,
    "start_time": "2022-01-07T20:32:14.249Z"
   },
   {
    "duration": 316,
    "start_time": "2022-01-07T20:32:34.340Z"
   },
   {
    "duration": 366,
    "start_time": "2022-01-07T20:32:45.989Z"
   },
   {
    "duration": 15,
    "start_time": "2022-01-07T20:33:12.747Z"
   },
   {
    "duration": 13,
    "start_time": "2022-01-07T20:34:11.384Z"
   },
   {
    "duration": 20,
    "start_time": "2022-01-07T20:34:18.985Z"
   },
   {
    "duration": 304,
    "start_time": "2022-01-07T20:36:35.565Z"
   },
   {
    "duration": 373,
    "start_time": "2022-01-07T20:36:54.847Z"
   },
   {
    "duration": 1119,
    "start_time": "2022-01-07T20:37:31.414Z"
   },
   {
    "duration": 306,
    "start_time": "2022-01-07T20:37:59.666Z"
   },
   {
    "duration": 5642,
    "start_time": "2022-01-07T20:38:48.627Z"
   },
   {
    "duration": 7983,
    "start_time": "2022-01-07T21:09:00.280Z"
   },
   {
    "duration": 97,
    "start_time": "2022-01-07T21:12:47.118Z"
   },
   {
    "duration": 102,
    "start_time": "2022-01-07T21:12:52.507Z"
   },
   {
    "duration": 7227,
    "start_time": "2022-01-07T21:13:11.685Z"
   },
   {
    "duration": 1241,
    "start_time": "2022-01-07T21:20:30.927Z"
   },
   {
    "duration": 346,
    "start_time": "2022-01-07T21:20:40.884Z"
   },
   {
    "duration": 5212,
    "start_time": "2022-01-07T21:20:52.585Z"
   },
   {
    "duration": 323,
    "start_time": "2022-01-07T21:21:30.492Z"
   },
   {
    "duration": 328,
    "start_time": "2022-01-07T21:21:48.948Z"
   },
   {
    "duration": 301,
    "start_time": "2022-01-07T21:21:59.586Z"
   },
   {
    "duration": 11,
    "start_time": "2022-01-07T21:25:06.176Z"
   },
   {
    "duration": 1278,
    "start_time": "2022-01-07T21:25:12.045Z"
   },
   {
    "duration": 13,
    "start_time": "2022-01-07T21:25:17.831Z"
   },
   {
    "duration": 427,
    "start_time": "2022-01-07T21:25:42.750Z"
   },
   {
    "duration": 308,
    "start_time": "2022-01-07T21:25:48.993Z"
   },
   {
    "duration": 338,
    "start_time": "2022-01-07T21:25:56.712Z"
   },
   {
    "duration": 79,
    "start_time": "2022-01-07T21:26:10.578Z"
   },
   {
    "duration": 101,
    "start_time": "2022-01-07T21:27:04.785Z"
   },
   {
    "duration": 79,
    "start_time": "2022-01-07T21:27:08.932Z"
   },
   {
    "duration": 94,
    "start_time": "2022-01-07T21:27:18.537Z"
   },
   {
    "duration": 152,
    "start_time": "2022-01-07T21:27:42.693Z"
   },
   {
    "duration": 13,
    "start_time": "2022-01-07T21:28:04.132Z"
   },
   {
    "duration": 12,
    "start_time": "2022-01-07T21:28:17.878Z"
   },
   {
    "duration": 13,
    "start_time": "2022-01-07T21:28:31.926Z"
   },
   {
    "duration": 324,
    "start_time": "2022-01-07T21:29:15.461Z"
   },
   {
    "duration": 423,
    "start_time": "2022-01-07T21:29:39.974Z"
   },
   {
    "duration": 7041,
    "start_time": "2022-01-07T21:30:00.289Z"
   },
   {
    "duration": 309,
    "start_time": "2022-01-07T21:30:40.351Z"
   },
   {
    "duration": 13,
    "start_time": "2022-01-07T21:30:58.034Z"
   },
   {
    "duration": 292,
    "start_time": "2022-01-07T21:32:55.501Z"
   },
   {
    "duration": 1128,
    "start_time": "2022-01-07T21:33:04.936Z"
   },
   {
    "duration": 7241,
    "start_time": "2022-01-07T21:33:12.804Z"
   },
   {
    "duration": 13,
    "start_time": "2022-01-07T21:33:43.504Z"
   },
   {
    "duration": 287,
    "start_time": "2022-01-07T21:36:09.950Z"
   },
   {
    "duration": 292,
    "start_time": "2022-01-07T21:36:20.839Z"
   },
   {
    "duration": 365,
    "start_time": "2022-01-07T21:36:42.397Z"
   },
   {
    "duration": 306,
    "start_time": "2022-01-07T21:36:49.356Z"
   },
   {
    "duration": 275,
    "start_time": "2022-01-07T21:37:17.761Z"
   },
   {
    "duration": 288,
    "start_time": "2022-01-07T21:37:35.913Z"
   },
   {
    "duration": 301,
    "start_time": "2022-01-07T21:38:32.797Z"
   },
   {
    "duration": 333,
    "start_time": "2022-01-07T21:38:45.034Z"
   },
   {
    "duration": 295,
    "start_time": "2022-01-07T21:38:53.601Z"
   },
   {
    "duration": 394,
    "start_time": "2022-01-07T21:39:02.774Z"
   },
   {
    "duration": 12,
    "start_time": "2022-01-07T21:40:06.845Z"
   },
   {
    "duration": 441,
    "start_time": "2022-01-07T21:40:28.721Z"
   },
   {
    "duration": 16,
    "start_time": "2022-01-07T21:40:35.457Z"
   },
   {
    "duration": 1117,
    "start_time": "2022-01-08T16:14:05.929Z"
   },
   {
    "duration": 294,
    "start_time": "2022-01-08T16:22:50.586Z"
   },
   {
    "duration": 628,
    "start_time": "2022-01-08T16:23:07.377Z"
   },
   {
    "duration": 434,
    "start_time": "2022-01-08T16:23:31.002Z"
   },
   {
    "duration": 348,
    "start_time": "2022-01-08T16:23:52.455Z"
   },
   {
    "duration": 472,
    "start_time": "2022-01-08T16:24:04.157Z"
   },
   {
    "duration": 1825,
    "start_time": "2022-01-09T23:33:14.883Z"
   },
   {
    "duration": 1839,
    "start_time": "2022-01-09T23:33:39.579Z"
   },
   {
    "duration": 2041,
    "start_time": "2022-01-09T23:33:57.891Z"
   },
   {
    "duration": 50,
    "start_time": "2022-01-09T23:38:30.218Z"
   },
   {
    "duration": 1788,
    "start_time": "2022-01-09T23:49:25.938Z"
   },
   {
    "duration": 1948,
    "start_time": "2022-01-09T23:53:30.430Z"
   },
   {
    "duration": 1923,
    "start_time": "2022-01-09T23:53:41.746Z"
   },
   {
    "duration": 1609,
    "start_time": "2022-01-09T23:53:59.442Z"
   },
   {
    "duration": 1917,
    "start_time": "2022-01-09T23:54:44.083Z"
   },
   {
    "duration": 1766,
    "start_time": "2022-01-09T23:55:07.275Z"
   },
   {
    "duration": 2267,
    "start_time": "2022-01-09T23:59:13.366Z"
   },
   {
    "duration": 2350,
    "start_time": "2022-01-09T23:59:44.764Z"
   },
   {
    "duration": 2456,
    "start_time": "2022-01-09T23:59:55.938Z"
   },
   {
    "duration": 871,
    "start_time": "2022-01-10T00:01:27.828Z"
   },
   {
    "duration": 747,
    "start_time": "2022-01-10T00:01:57.568Z"
   },
   {
    "duration": 686,
    "start_time": "2022-01-10T00:02:05.995Z"
   },
   {
    "duration": 1183,
    "start_time": "2022-01-10T00:03:17.785Z"
   },
   {
    "duration": 112,
    "start_time": "2022-01-10T00:03:32.391Z"
   },
   {
    "duration": 1301,
    "start_time": "2022-01-10T00:03:37.481Z"
   },
   {
    "duration": 1154,
    "start_time": "2022-01-10T00:04:24.761Z"
   },
   {
    "duration": 1268,
    "start_time": "2022-01-10T00:04:56.090Z"
   },
   {
    "duration": 1121,
    "start_time": "2022-01-10T00:05:24.494Z"
   },
   {
    "duration": 1347,
    "start_time": "2022-01-10T00:06:09.650Z"
   },
   {
    "duration": 94,
    "start_time": "2022-01-10T00:06:35.176Z"
   },
   {
    "duration": 110,
    "start_time": "2022-01-10T00:06:40.110Z"
   },
   {
    "duration": 1167,
    "start_time": "2022-01-10T00:06:44.934Z"
   },
   {
    "duration": 1176,
    "start_time": "2022-01-10T00:07:04.796Z"
   },
   {
    "duration": 1223,
    "start_time": "2022-01-10T00:07:17.969Z"
   },
   {
    "duration": 1417,
    "start_time": "2022-01-10T00:07:23.146Z"
   },
   {
    "duration": 680,
    "start_time": "2022-01-10T00:09:40.584Z"
   },
   {
    "duration": 676,
    "start_time": "2022-01-10T00:10:09.071Z"
   },
   {
    "duration": 676,
    "start_time": "2022-01-10T00:10:46.729Z"
   },
   {
    "duration": 665,
    "start_time": "2022-01-10T00:10:52.051Z"
   },
   {
    "duration": 92,
    "start_time": "2022-01-10T04:28:55.372Z"
   },
   {
    "duration": 2331,
    "start_time": "2022-01-10T04:29:13.080Z"
   },
   {
    "duration": 86,
    "start_time": "2022-01-10T04:29:41.614Z"
   },
   {
    "duration": 109,
    "start_time": "2022-01-10T04:30:01.557Z"
   },
   {
    "duration": 94,
    "start_time": "2022-01-10T04:30:05.287Z"
   },
   {
    "duration": 105,
    "start_time": "2022-01-10T04:30:15.508Z"
   },
   {
    "duration": 7,
    "start_time": "2022-01-10T04:30:19.204Z"
   },
   {
    "duration": 8,
    "start_time": "2022-01-10T04:30:23.980Z"
   },
   {
    "duration": 104,
    "start_time": "2022-01-10T04:31:05.872Z"
   },
   {
    "duration": 109,
    "start_time": "2022-01-10T04:31:09.427Z"
   },
   {
    "duration": 100,
    "start_time": "2022-01-10T04:31:21.779Z"
   },
   {
    "duration": 116,
    "start_time": "2022-01-10T04:31:26.159Z"
   },
   {
    "duration": 103,
    "start_time": "2022-01-10T04:31:37.559Z"
   },
   {
    "duration": 2158,
    "start_time": "2022-01-10T04:31:43.299Z"
   },
   {
    "duration": 2248,
    "start_time": "2022-01-10T04:32:04.553Z"
   },
   {
    "duration": 2256,
    "start_time": "2022-01-10T04:32:37.148Z"
   },
   {
    "duration": 2179,
    "start_time": "2022-01-10T04:32:59.108Z"
   },
   {
    "duration": 2253,
    "start_time": "2022-01-10T04:33:23.255Z"
   },
   {
    "duration": 1121,
    "start_time": "2022-01-10T04:33:49.346Z"
   },
   {
    "duration": 2208,
    "start_time": "2022-01-10T04:34:02.788Z"
   },
   {
    "duration": 1134,
    "start_time": "2022-01-10T04:34:15.383Z"
   },
   {
    "duration": 2160,
    "start_time": "2022-01-10T04:34:24.437Z"
   },
   {
    "duration": 2150,
    "start_time": "2022-01-10T04:34:33.598Z"
   },
   {
    "duration": 108,
    "start_time": "2022-01-10T04:34:45.790Z"
   },
   {
    "duration": 91,
    "start_time": "2022-01-10T04:34:54.594Z"
   },
   {
    "duration": 125,
    "start_time": "2022-01-10T04:35:06.071Z"
   },
   {
    "duration": 101,
    "start_time": "2022-01-10T04:35:09.431Z"
   },
   {
    "duration": 1092,
    "start_time": "2022-01-10T04:35:16.934Z"
   },
   {
    "duration": 3149,
    "start_time": "2022-01-10T04:36:08.969Z"
   },
   {
    "duration": 1040,
    "start_time": "2022-01-10T17:45:53.754Z"
   },
   {
    "duration": 531,
    "start_time": "2022-01-10T17:45:54.798Z"
   },
   {
    "duration": 80,
    "start_time": "2022-01-10T17:45:55.333Z"
   },
   {
    "duration": 23,
    "start_time": "2022-01-10T17:45:55.416Z"
   },
   {
    "duration": 3640,
    "start_time": "2022-01-10T17:45:55.441Z"
   },
   {
    "duration": 54,
    "start_time": "2022-01-10T17:45:59.085Z"
   },
   {
    "duration": 94,
    "start_time": "2022-01-10T17:45:59.142Z"
   },
   {
    "duration": 33,
    "start_time": "2022-01-10T17:45:59.240Z"
   },
   {
    "duration": 17,
    "start_time": "2022-01-10T17:45:59.277Z"
   },
   {
    "duration": 21,
    "start_time": "2022-01-10T17:45:59.296Z"
   },
   {
    "duration": 43,
    "start_time": "2022-01-10T17:45:59.320Z"
   },
   {
    "duration": 45,
    "start_time": "2022-01-10T17:45:59.366Z"
   },
   {
    "duration": 56,
    "start_time": "2022-01-10T17:45:59.413Z"
   },
   {
    "duration": 25,
    "start_time": "2022-01-10T17:45:59.471Z"
   },
   {
    "duration": 8,
    "start_time": "2022-01-10T17:45:59.499Z"
   },
   {
    "duration": 459,
    "start_time": "2022-01-10T17:45:59.509Z"
   },
   {
    "duration": 918,
    "start_time": "2022-01-10T17:45:59.971Z"
   },
   {
    "duration": 381,
    "start_time": "2022-01-10T17:46:00.892Z"
   },
   {
    "duration": 407,
    "start_time": "2022-01-10T17:46:01.275Z"
   },
   {
    "duration": 337,
    "start_time": "2022-01-10T17:46:01.684Z"
   },
   {
    "duration": 76,
    "start_time": "2022-01-10T17:46:02.024Z"
   },
   {
    "duration": 5,
    "start_time": "2022-01-10T17:46:02.103Z"
   },
   {
    "duration": 99,
    "start_time": "2022-01-10T17:46:02.112Z"
   },
   {
    "duration": 67,
    "start_time": "2022-01-10T17:46:02.214Z"
   },
   {
    "duration": 221,
    "start_time": "2022-01-10T17:46:13.271Z"
   },
   {
    "duration": 240,
    "start_time": "2022-01-10T17:48:23.673Z"
   },
   {
    "duration": 402,
    "start_time": "2022-01-11T22:16:03.873Z"
   },
   {
    "duration": 702,
    "start_time": "2022-01-11T22:16:08.551Z"
   },
   {
    "duration": 743,
    "start_time": "2022-01-11T22:16:09.254Z"
   },
   {
    "duration": 55,
    "start_time": "2022-01-11T22:16:09.999Z"
   },
   {
    "duration": 14,
    "start_time": "2022-01-11T22:16:10.056Z"
   },
   {
    "duration": 708,
    "start_time": "2022-01-11T22:16:10.071Z"
   },
   {
    "duration": 33,
    "start_time": "2022-01-11T22:16:10.781Z"
   },
   {
    "duration": 76,
    "start_time": "2022-01-11T22:16:10.816Z"
   },
   {
    "duration": 12,
    "start_time": "2022-01-11T22:16:10.895Z"
   },
   {
    "duration": 21,
    "start_time": "2022-01-11T22:16:10.909Z"
   },
   {
    "duration": 17,
    "start_time": "2022-01-11T22:16:10.931Z"
   },
   {
    "duration": 7,
    "start_time": "2022-01-11T22:16:10.949Z"
   },
   {
    "duration": 28,
    "start_time": "2022-01-11T22:16:10.958Z"
   },
   {
    "duration": 44,
    "start_time": "2022-01-11T22:16:10.988Z"
   },
   {
    "duration": 17,
    "start_time": "2022-01-11T22:16:11.034Z"
   },
   {
    "duration": 7,
    "start_time": "2022-01-11T22:16:11.052Z"
   },
   {
    "duration": 295,
    "start_time": "2022-01-11T22:16:11.061Z"
   },
   {
    "duration": 520,
    "start_time": "2022-01-11T22:16:11.358Z"
   },
   {
    "duration": 221,
    "start_time": "2022-01-11T22:16:11.880Z"
   },
   {
    "duration": 233,
    "start_time": "2022-01-11T22:16:12.103Z"
   },
   {
    "duration": 217,
    "start_time": "2022-01-11T22:16:12.338Z"
   },
   {
    "duration": 55,
    "start_time": "2022-01-11T22:16:12.557Z"
   },
   {
    "duration": 16,
    "start_time": "2022-01-11T22:16:12.614Z"
   },
   {
    "duration": 42,
    "start_time": "2022-01-11T22:16:19.490Z"
   },
   {
    "duration": 36,
    "start_time": "2022-01-11T22:16:30.876Z"
   },
   {
    "duration": 42,
    "start_time": "2022-01-11T22:16:40.870Z"
   },
   {
    "duration": 39,
    "start_time": "2022-01-11T22:17:20.919Z"
   },
   {
    "duration": 39,
    "start_time": "2022-01-11T22:17:53.808Z"
   },
   {
    "duration": 23,
    "start_time": "2022-01-11T22:17:53.848Z"
   },
   {
    "duration": 141,
    "start_time": "2022-01-11T22:17:53.873Z"
   },
   {
    "duration": 968,
    "start_time": "2022-01-11T22:17:54.016Z"
   },
   {
    "duration": 173,
    "start_time": "2022-01-11T22:17:54.985Z"
   },
   {
    "duration": 351,
    "start_time": "2022-01-11T22:17:55.160Z"
   },
   {
    "duration": 265,
    "start_time": "2022-01-11T22:17:55.513Z"
   },
   {
    "duration": 264,
    "start_time": "2022-01-11T22:17:55.780Z"
   },
   {
    "duration": 1494,
    "start_time": "2022-01-11T22:17:56.046Z"
   },
   {
    "duration": 156,
    "start_time": "2022-01-11T22:17:57.542Z"
   },
   {
    "duration": 34,
    "start_time": "2022-01-11T22:17:57.700Z"
   },
   {
    "duration": 21,
    "start_time": "2022-01-11T22:17:57.735Z"
   },
   {
    "duration": 682,
    "start_time": "2022-01-11T22:17:57.757Z"
   },
   {
    "duration": 464,
    "start_time": "2022-01-11T22:17:58.442Z"
   },
   {
    "duration": 170,
    "start_time": "2022-01-11T23:07:57.484Z"
   },
   {
    "duration": 1324,
    "start_time": "2022-01-11T23:08:07.079Z"
   },
   {
    "duration": 1848,
    "start_time": "2022-01-11T23:08:58.217Z"
   },
   {
    "duration": 1259,
    "start_time": "2022-01-11T23:09:11.794Z"
   },
   {
    "duration": 2299,
    "start_time": "2022-01-11T23:20:53.130Z"
   },
   {
    "duration": 1930,
    "start_time": "2022-01-11T23:21:56.839Z"
   },
   {
    "duration": 1295,
    "start_time": "2022-01-11T23:22:15.822Z"
   },
   {
    "duration": 2009,
    "start_time": "2022-01-11T23:22:25.341Z"
   },
   {
    "duration": 2342,
    "start_time": "2022-01-11T23:23:18.606Z"
   },
   {
    "duration": 1413,
    "start_time": "2022-01-11T23:23:33.721Z"
   },
   {
    "duration": 1408,
    "start_time": "2022-01-11T23:25:08.298Z"
   },
   {
    "duration": 1251,
    "start_time": "2022-01-11T23:25:22.619Z"
   },
   {
    "duration": 147,
    "start_time": "2022-01-11T23:30:09.738Z"
   },
   {
    "duration": 258,
    "start_time": "2022-01-11T23:30:14.614Z"
   },
   {
    "duration": 212,
    "start_time": "2022-01-12T05:23:58.785Z"
   },
   {
    "duration": 628,
    "start_time": "2022-01-12T05:24:03.115Z"
   },
   {
    "duration": 85,
    "start_time": "2022-01-12T05:24:03.745Z"
   },
   {
    "duration": 63,
    "start_time": "2022-01-12T05:24:03.832Z"
   },
   {
    "duration": 14,
    "start_time": "2022-01-12T05:24:03.897Z"
   },
   {
    "duration": 304,
    "start_time": "2022-01-12T05:24:03.912Z"
   },
   {
    "duration": 37,
    "start_time": "2022-01-12T05:24:04.218Z"
   },
   {
    "duration": 75,
    "start_time": "2022-01-12T05:24:04.257Z"
   },
   {
    "duration": 13,
    "start_time": "2022-01-12T05:24:04.335Z"
   },
   {
    "duration": 12,
    "start_time": "2022-01-12T05:24:04.350Z"
   },
   {
    "duration": 35,
    "start_time": "2022-01-12T05:24:04.363Z"
   },
   {
    "duration": 7,
    "start_time": "2022-01-12T05:24:04.400Z"
   },
   {
    "duration": 28,
    "start_time": "2022-01-12T05:24:04.408Z"
   },
   {
    "duration": 18,
    "start_time": "2022-01-12T05:24:04.438Z"
   },
   {
    "duration": 41,
    "start_time": "2022-01-12T05:24:04.457Z"
   },
   {
    "duration": 7,
    "start_time": "2022-01-12T05:24:04.500Z"
   },
   {
    "duration": 273,
    "start_time": "2022-01-12T05:24:04.509Z"
   },
   {
    "duration": 539,
    "start_time": "2022-01-12T05:24:04.791Z"
   },
   {
    "duration": 239,
    "start_time": "2022-01-12T05:24:05.332Z"
   },
   {
    "duration": 244,
    "start_time": "2022-01-12T05:24:05.573Z"
   },
   {
    "duration": 209,
    "start_time": "2022-01-12T05:24:05.818Z"
   },
   {
    "duration": 43,
    "start_time": "2022-01-12T05:24:06.028Z"
   },
   {
    "duration": 18,
    "start_time": "2022-01-12T05:24:06.073Z"
   },
   {
    "duration": 44,
    "start_time": "2022-01-12T05:24:06.094Z"
   },
   {
    "duration": 26,
    "start_time": "2022-01-12T05:24:06.140Z"
   },
   {
    "duration": 183,
    "start_time": "2022-01-12T05:24:06.167Z"
   },
   {
    "duration": 3,
    "start_time": "2022-01-12T05:27:33.123Z"
   },
   {
    "duration": 86,
    "start_time": "2022-01-12T05:27:33.128Z"
   },
   {
    "duration": 79,
    "start_time": "2022-01-12T05:27:33.216Z"
   },
   {
    "duration": 14,
    "start_time": "2022-01-12T05:27:33.297Z"
   },
   {
    "duration": 28,
    "start_time": "2022-01-12T05:27:33.312Z"
   },
   {
    "duration": 57,
    "start_time": "2022-01-12T05:27:33.341Z"
   },
   {
    "duration": 63,
    "start_time": "2022-01-12T05:27:33.400Z"
   },
   {
    "duration": 30,
    "start_time": "2022-01-12T05:27:33.465Z"
   },
   {
    "duration": 13,
    "start_time": "2022-01-12T05:27:33.496Z"
   },
   {
    "duration": 14,
    "start_time": "2022-01-12T05:27:33.510Z"
   },
   {
    "duration": 7,
    "start_time": "2022-01-12T05:27:33.526Z"
   },
   {
    "duration": 29,
    "start_time": "2022-01-12T05:27:33.534Z"
   },
   {
    "duration": 44,
    "start_time": "2022-01-12T05:27:33.564Z"
   },
   {
    "duration": 16,
    "start_time": "2022-01-12T05:27:33.610Z"
   },
   {
    "duration": 7,
    "start_time": "2022-01-12T05:27:33.627Z"
   },
   {
    "duration": 299,
    "start_time": "2022-01-12T05:27:33.636Z"
   },
   {
    "duration": 519,
    "start_time": "2022-01-12T05:27:33.936Z"
   },
   {
    "duration": 254,
    "start_time": "2022-01-12T05:27:34.457Z"
   },
   {
    "duration": 319,
    "start_time": "2022-01-12T05:27:34.715Z"
   },
   {
    "duration": 220,
    "start_time": "2022-01-12T05:27:35.037Z"
   },
   {
    "duration": 51,
    "start_time": "2022-01-12T05:27:35.259Z"
   },
   {
    "duration": 4,
    "start_time": "2022-01-12T05:27:35.312Z"
   },
   {
    "duration": 42,
    "start_time": "2022-01-12T05:27:35.318Z"
   },
   {
    "duration": 48,
    "start_time": "2022-01-12T05:27:35.362Z"
   },
   {
    "duration": 167,
    "start_time": "2022-01-12T05:27:35.412Z"
   },
   {
    "duration": 1093,
    "start_time": "2022-01-12T05:27:35.582Z"
   },
   {
    "duration": 200,
    "start_time": "2022-01-12T05:27:36.677Z"
   },
   {
    "duration": 335,
    "start_time": "2022-01-12T05:27:36.879Z"
   },
   {
    "duration": 295,
    "start_time": "2022-01-12T05:27:37.216Z"
   },
   {
    "duration": 297,
    "start_time": "2022-01-12T05:27:37.513Z"
   },
   {
    "duration": 1643,
    "start_time": "2022-01-12T05:27:37.812Z"
   },
   {
    "duration": 214,
    "start_time": "2022-01-12T05:27:39.457Z"
   },
   {
    "duration": 176,
    "start_time": "2022-01-12T05:27:39.673Z"
   },
   {
    "duration": 20,
    "start_time": "2022-01-12T05:27:39.851Z"
   },
   {
    "duration": 31,
    "start_time": "2022-01-12T05:27:39.873Z"
   },
   {
    "duration": 1003,
    "start_time": "2022-01-12T05:27:39.906Z"
   },
   {
    "duration": 433,
    "start_time": "2022-01-12T05:27:40.911Z"
   }
  ],
  "kernelspec": {
   "display_name": "Python 3",
   "language": "python",
   "name": "python3"
  },
  "language_info": {
   "codemirror_mode": {
    "name": "ipython",
    "version": 3
   },
   "file_extension": ".py",
   "mimetype": "text/x-python",
   "name": "python",
   "nbconvert_exporter": "python",
   "pygments_lexer": "ipython3",
   "version": "3.7.8"
  },
  "toc": {
   "base_numbering": 1,
   "nav_menu": {},
   "number_sections": true,
   "sideBar": true,
   "skip_h1_title": false,
   "title_cell": "Table of Contents",
   "title_sidebar": "Contents",
   "toc_cell": false,
   "toc_position": {
    "height": "calc(100% - 180px)",
    "left": "10px",
    "top": "150px",
    "width": "292px"
   },
   "toc_section_display": true,
   "toc_window_display": false
  }
 },
 "nbformat": 4,
 "nbformat_minor": 2
}
